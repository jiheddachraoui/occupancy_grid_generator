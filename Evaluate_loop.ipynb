{
  "cells": [
    {
      "cell_type": "markdown",
      "metadata": {
        "id": "view-in-github",
        "colab_type": "text"
      },
      "source": [
        "<a href=\"https://colab.research.google.com/github/jiheddachraoui/occupancy_grid_generator/blob/main/Evaluate_loop.ipynb\" target=\"_parent\"><img src=\"https://colab.research.google.com/assets/colab-badge.svg\" alt=\"Open In Colab\"/></a>"
      ]
    },
    {
      "cell_type": "markdown",
      "metadata": {
        "id": "iderI-dPJ7QJ"
      },
      "source": [
        "# PREPARATION"
      ]
    },
    {
      "cell_type": "code",
      "execution_count": null,
      "metadata": {
        "colab": {
          "base_uri": "https://localhost:8080/"
        },
        "id": "FBjbCBkk6gI1",
        "outputId": "2ff40798-e93c-44fe-db7c-61c1c5f7da6a"
      },
      "outputs": [
        {
          "output_type": "stream",
          "name": "stdout",
          "text": [
            "Mounted at /content/drive\n"
          ]
        }
      ],
      "source": [
        "import os\n",
        "import sys\n",
        "import csv\n",
        "import numpy as np\n",
        "import cv2\n",
        "import matplotlib.pyplot as plt\n",
        "import time\n",
        "from PIL import Image\n",
        "import tensorflow as tf\n",
        "from sklearn.linear_model import RANSACRegressor\n",
        "from scipy import stats\n",
        "from google.colab import drive\n",
        "drive.mount('/content/drive',force_remount=True)\n"
      ]
    },
    {
      "cell_type": "code",
      "execution_count": null,
      "metadata": {
        "colab": {
          "base_uri": "https://localhost:8080/"
        },
        "id": "gu1FbSfH4R6f",
        "outputId": "879cd6c0-682d-490e-ab4b-1db26a278126"
      },
      "outputs": [
        {
          "output_type": "stream",
          "name": "stdout",
          "text": [
            "/content/drive/MyDrive/s_data/output/scenario_test2_gt/SG fusion\n",
            "/content/drive/MyDrive/s_data/output/scenario_test2_gt/OG fusion\n"
          ]
        }
      ],
      "source": [
        "datadir = '/content/drive/MyDrive/s_data/'\n",
        "\n",
        "gt_path=datadir+'ground truth'\n",
        "res_path=datadir+'output'\n",
        "\n",
        "scenario='scenario_test2_gt'\n",
        "\n",
        "\n",
        "for item in os.listdir(os.path.join(res_path,scenario)):\n",
        "    # Construct the full path to the item\n",
        "    item_path = os.path.join(os.path.join(res_path,scenario), item)\n",
        "    # Check if the item is a directory\n",
        "    if os.path.isdir(item_path) and item != '.ipynb_checkpoints':\n",
        "        # Print the path of the subdirectory\n",
        "        print(item_path)\n",
        "\n"
      ]
    },
    {
      "cell_type": "code",
      "execution_count": null,
      "metadata": {
        "colab": {
          "base_uri": "https://localhost:8080/"
        },
        "id": "7mec8TZFzdIs",
        "outputId": "e3af4793-5b0f-47e6-d941-b06482806f4b"
      },
      "outputs": [
        {
          "output_type": "stream",
          "name": "stdout",
          "text": [
            "/content/drive/MyDrive/s_data/ground truth/scenario_test2_gt/adversary vehicle.tesla.model3\n",
            "/content/drive/MyDrive/s_data/output/scenario_test2_gt\n"
          ]
        }
      ],
      "source": [
        "\n",
        "vehicles=[]\n",
        "for item in os.listdir(os.path.join(gt_path,scenario)):\n",
        "  vehicles.append(item)\n",
        "vehicle=vehicles[1]\n",
        "\n",
        "folder_path = os.path.join(gt_path,scenario,vehicle)\n",
        "out_path= os.path.join(res_path,scenario)\n",
        "print(folder_path)\n",
        "print(out_path)"
      ]
    },
    {
      "cell_type": "code",
      "execution_count": null,
      "metadata": {
        "colab": {
          "base_uri": "https://localhost:8080/"
        },
        "id": "C69xP8yQzhE7",
        "outputId": "39a43115-5075-43d8-82b2-ab1683583c46"
      },
      "outputs": [
        {
          "output_type": "stream",
          "name": "stdout",
          "text": [
            "hero vehicle.lincoln.mkz_2017\n",
            "Number of files in OG fusion/fusion_image : 406\n",
            "adversary vehicle.tesla.model3\n",
            "Number of files in OG fusion/fusion_image : 406\n"
          ]
        }
      ],
      "source": [
        "vehicles=[]\n",
        "for item in os.listdir(os.path.join(gt_path,scenario)):\n",
        "    # Construct the full path to the item\n",
        "    print(item)\n",
        "    if os.path.isdir(os.path.join(gt_path,scenario,item)) and item != '.ipynb_checkpoints':\n",
        "        folder_path = os.path.join(os.path.join(gt_path,scenario), item)\n",
        "\n",
        "        og=os.path.join(out_path, \"OG fusion/fusion_image\")\n",
        "        sg=os.path.join(out_path, \"SG fusion/fusion_image\")\n",
        "\n",
        "        ogt_path=os.path.join(folder_path, \"grids/bird_ogm_gt\")\n",
        "        sgt_path=os.path.join(folder_path, \"grids/bird_eye_image_semantic_grid\")\n",
        "\n",
        "        num_files = len([f for f in os.listdir(og) if os.path.isfile(os.path.join(og, f))])\n",
        "        print('Number of files in {} :'.format(\"OG fusion/fusion_image\"), num_files)\n",
        "        vehicles.append((og,ogt_path,sg,sgt_path,num_files))"
      ]
    },
    {
      "cell_type": "code",
      "execution_count": null,
      "metadata": {
        "colab": {
          "base_uri": "https://localhost:8080/"
        },
        "id": "aB0lOZT446Yn",
        "outputId": "170544bd-c11a-4696-d7c6-8de5e412be0a"
      },
      "outputs": [
        {
          "output_type": "execute_result",
          "data": {
            "text/plain": [
              "[('/content/drive/MyDrive/s_data/output/scenario_test2_gt/OG fusion/fusion_image',\n",
              "  '/content/drive/MyDrive/s_data/ground truth/scenario_test2_gt/hero vehicle.lincoln.mkz_2017/grids/bird_ogm_gt',\n",
              "  '/content/drive/MyDrive/s_data/output/scenario_test2_gt/SG fusion/fusion_image',\n",
              "  '/content/drive/MyDrive/s_data/ground truth/scenario_test2_gt/hero vehicle.lincoln.mkz_2017/grids/bird_eye_image_semantic_grid',\n",
              "  406),\n",
              " ('/content/drive/MyDrive/s_data/output/scenario_test2_gt/OG fusion/fusion_image',\n",
              "  '/content/drive/MyDrive/s_data/ground truth/scenario_test2_gt/adversary vehicle.tesla.model3/grids/bird_ogm_gt',\n",
              "  '/content/drive/MyDrive/s_data/output/scenario_test2_gt/SG fusion/fusion_image',\n",
              "  '/content/drive/MyDrive/s_data/ground truth/scenario_test2_gt/adversary vehicle.tesla.model3/grids/bird_eye_image_semantic_grid',\n",
              "  406)]"
            ]
          },
          "metadata": {},
          "execution_count": 128
        }
      ],
      "source": [
        "vehicles"
      ]
    },
    {
      "cell_type": "code",
      "execution_count": null,
      "metadata": {
        "id": "y1MH7VTN_BiY"
      },
      "outputs": [],
      "source": [
        "def generate_semantic_mask(ground_truth, window_size):\n",
        "    # Convert ground truth to binary occupancy grid\n",
        "    gt_road = np.all(ground_truth == [128, 64, 128], axis=2)\n",
        "\n",
        "    # Create a boolean mask by expanding the \"free\" pixels within a window size\n",
        "    mask = np.zeros_like( gt_road, dtype=bool)\n",
        "    for i in range(window_size // 2,  gt_road.shape[0] - window_size // 2):\n",
        "        for j in range(window_size // 2,  gt_road.shape[1] - window_size // 2):\n",
        "            if  gt_road[i, j]:\n",
        "                mask[i - window_size // 2 : i + window_size // 2 + 1, j - window_size // 2 : j + window_size // 2 + 1] = 1\n",
        "\n",
        "    return mask"
      ]
    },
    {
      "cell_type": "code",
      "execution_count": null,
      "metadata": {
        "id": "OcM0SMNa-2qx"
      },
      "outputs": [],
      "source": [
        "def generate_mask(ground_truth, window_size):\n",
        "    # Convert ground truth to binary occupancy grid\n",
        "    gt_free = np.all(ground_truth == [255, 255, 255], axis=2)\n",
        "\n",
        "    # Create a boolean mask by expanding the \"free\" pixels within a window size\n",
        "    mask = np.zeros_like(gt_free, dtype=bool)\n",
        "    for i in range(window_size // 2, gt_free.shape[0] - window_size // 2):\n",
        "        for j in range(window_size // 2, gt_free.shape[1] - window_size // 2):\n",
        "            if gt_free[i, j]:\n",
        "                mask[i - window_size // 2 : i + window_size // 2 + 1, j - window_size // 2 : j + window_size // 2 + 1] = 1\n",
        "\n",
        "    return mask"
      ]
    },
    {
      "cell_type": "code",
      "execution_count": null,
      "metadata": {
        "id": "4HY7gN5W_hM_"
      },
      "outputs": [],
      "source": [
        "def predict(dgm,dt=0.5):\n",
        "\n",
        "  pred_map = np.zeros((dgm.shape[0],dgm.shape[1],3))\n",
        "  # The unknown cells: gray\n",
        "  pred_map[dgm==0.5] = (123,123,123)\n",
        "  # The occupied cells: black\n",
        "  pred_map[dgm==1] = (0,0,0)\n",
        "  # The free cells: white\n",
        "  pred_map[dgm==0] = (255,255,255)\n",
        "\n",
        "  return pred_map.astype(np.uint8)"
      ]
    },
    {
      "cell_type": "code",
      "execution_count": null,
      "metadata": {
        "id": "tW9hkYh92CR0"
      },
      "outputs": [],
      "source": [
        "def load_matrix(folder_path,timestamp):\n",
        "  ts = str(timestamp)\n",
        "  for file_name in os.listdir(folder_path):\n",
        "          if os.path.splitext(file_name)[0] == ts:\n",
        "\n",
        "              file_path = os.path.join(folder_path,file_name)\n",
        "              #print(file_path)\n",
        "              break\n",
        "\n",
        "  m=np.load(file_path)\n",
        "  return m"
      ]
    },
    {
      "cell_type": "code",
      "execution_count": null,
      "metadata": {
        "id": "uHxPeAIp7K8G"
      },
      "outputs": [],
      "source": [
        "def evaluate_ogm_rgb(gt_image, pred_image):\n",
        "\n",
        "\n",
        "    gt_occupied = np.all(gt_image == [0, 0, 0], axis=2)\n",
        "    pred_occupied = np.all(pred_image == [0, 0, 0], axis=2)\n",
        "\n",
        "    # Calculate metrics\n",
        "    accuracy = np.sum(gt_occupied == pred_occupied) / gt_occupied.size\n",
        "\n",
        "    # Calculate precision and recall\n",
        "    true_positives = np.sum(np.logical_and(gt_occupied, pred_occupied))\n",
        "    false_positives = np.sum(np.logical_and(np.logical_not(gt_occupied), pred_occupied))\n",
        "    false_negatives = np.sum(np.logical_and(gt_occupied, np.logical_not(pred_occupied)))\n",
        "    precision = true_positives / (true_positives + false_positives)\n",
        "    recall = true_positives / (true_positives + false_negatives)\n",
        "\n",
        "    # Compute F1 score\n",
        "    f1_score = 2 * (precision * recall) / (precision + recall)\n",
        "\n",
        "    # Return evaluation metrics\n",
        "    return accuracy, precision, recall, f1_score"
      ]
    },
    {
      "cell_type": "code",
      "execution_count": null,
      "metadata": {
        "id": "Qu1NGHuh7LpC"
      },
      "outputs": [],
      "source": [
        "def evaluate_semantic_ogm_rgb(gt_image, pred_image):\n",
        "    # Extract the unique classes present in the ground truth and predicted images\n",
        "    gt_classes = np.unique(gt_image.reshape(-1, 3), axis=0)\n",
        "    pred_classes = np.unique(pred_image.reshape(-1, 3), axis=0)\n",
        "\n",
        "    # Combine the unique classes from both images\n",
        "    classes = np.unique(np.concatenate((gt_classes, pred_classes), axis=0), axis=0)\n",
        "\n",
        "    # Initialize evaluation metrics\n",
        "    true_positives = 0\n",
        "    false_positives = 0\n",
        "    false_negatives = 0\n",
        "    true_negatives = 0\n",
        "\n",
        "    # Iterate over each class\n",
        "    for class_val in classes:\n",
        "        # Create boolean masks for the current class in the ground truth and predicted images\n",
        "        gt_mask = np.all(gt_image == class_val, axis=2)\n",
        "        pred_mask = np.all(pred_image == class_val, axis=2)\n",
        "\n",
        "        # Count true positives, false positives, and false negatives\n",
        "        true_positives += np.sum(np.logical_and(gt_mask, pred_mask))\n",
        "        true_negatives += np.sum(np.logical_and(np.logical_not(gt_mask), np.logical_not(pred_mask)))\n",
        "        false_positives += np.sum(np.logical_and(np.logical_not(gt_mask), pred_mask))\n",
        "        false_negatives += np.sum(np.logical_and(gt_mask, np.logical_not(pred_mask)))\n",
        "\n",
        "    # Calculate precision, recall, and F1 score\n",
        "    accuracy = (true_positives + true_negatives) / (true_positives + true_negatives + false_positives + false_negatives)\n",
        "\n",
        "    precision = true_positives / (true_positives + false_positives)\n",
        "    recall = true_positives / (true_positives + false_negatives)\n",
        "    f1_score = 2 * (precision * recall) / (precision + recall)\n",
        "\n",
        "    # Return evaluation metrics\n",
        "    return accuracy,precision, recall, f1_score"
      ]
    },
    {
      "cell_type": "code",
      "execution_count": null,
      "metadata": {
        "id": "RdI9iz9X6QJy"
      },
      "outputs": [],
      "source": [
        "og_metrics=[]\n",
        "sg_metrics=[]\n",
        "\n",
        "\n",
        "'''for item in vehicles:\n",
        "  print(item)'''\n",
        "item=vehicles[1]\n",
        "half_point, remainder = divmod(item[-1], 2)\n",
        "for  i in range(half_point,354):\n",
        "    #print(i)\n",
        "    og=item[0]\n",
        "    ogt_path=item[1]\n",
        "    sg=item[2]\n",
        "    sgt_path=item[3]\n",
        "    ogm_image=np.array(Image.open(os.path.join(og, \"{}.png\".format(i))))\n",
        "    sgm_image=np.array(Image.open(os.path.join(sg, \"{}.png\".format(i))))\n",
        "    gt=load_matrix(os.path.join(ogt_path),i)\n",
        "    sgt_img=load_matrix(os.path.join(sgt_path),i)\n",
        "    gt_image=predict(gt)\n",
        "    mask=generate_mask(ogm_image, 100)\n",
        "\n",
        "    gt_image_m = np.copy(gt_image)\n",
        "    gt_image_m[~mask] = (123,123,123)\n",
        "\n",
        "    ogm_image_m = np.copy(ogm_image)\n",
        "    ogm_image_m[~mask] = (123,123,123)\n",
        "\n",
        "    mask1=generate_semantic_mask(sgm_image,110)\n",
        "\n",
        "    sgt_img_m = np.copy(sgt_img)\n",
        "    sgt_img_m[~mask1] = (1,1,1)\n",
        "\n",
        "    sgm_image_m = np.copy(sgm_image/ 255.0)\n",
        "    sgm_image_m[~mask1] = (1,1,1)\n",
        "    # Evaluate the occupancy grid algorithm\n",
        "    # Evaluate OG metrics for the current frame\n",
        "    accuracy_og, precision_og, recall_og, f1_score_og = evaluate_ogm_rgb(gt_image_m, ogm_image_m)\n",
        "    # Append the metrics to the OG metrics list\n",
        "    og_metrics.append([i, accuracy_og, precision_og, recall_og, f1_score_og])\n",
        "\n",
        "    # Evaluate semantic OG metrics for the current frame\n",
        "    accuracy_sg, precision_sg, recall_sg, f1_score_sg = evaluate_semantic_ogm_rgb(sgt_img_m, sgm_image_m)\n",
        "    # Append the metrics to the SG metrics list\n",
        "    sg_metrics.append([i, accuracy_sg, precision_sg, recall_sg, f1_score_sg])\n",
        "\n",
        "# Save OG metrics to CSV\n",
        "with open(out_path+'/og_metrics1.csv', 'w', newline='') as csvfile:\n",
        "    writer = csv.writer(csvfile)\n",
        "    writer.writerow(['Frame ID', 'Accuracy', 'Precision', 'Recall', 'F1 Score'])\n",
        "    writer.writerows(og_metrics)\n",
        "\n",
        "# Save semantic OG metrics to CSV\n",
        "with open(out_path+'/sg_metrics1.csv', 'w', newline='') as csvfile:\n",
        "    writer = csv.writer(csvfile)\n",
        "    writer.writerow(['Frame ID', 'Accuracy', 'Precision', 'Recall', 'F1 Score'])\n",
        "    writer.writerows(sg_metrics)\n"
      ]
    }
  ],
  "metadata": {
    "colab": {
      "provenance": [],
      "include_colab_link": true
    },
    "kernelspec": {
      "display_name": "Python 3.8.10 ('.env': venv)",
      "language": "python",
      "name": "python3"
    },
    "language_info": {
      "name": "python",
      "version": "3.8.10"
    },
    "vscode": {
      "interpreter": {
        "hash": "4147159148f2331f27fc35f83760ac3303b0eb37178f521715f234bfc6af8027"
      }
    }
  },
  "nbformat": 4,
  "nbformat_minor": 0
}