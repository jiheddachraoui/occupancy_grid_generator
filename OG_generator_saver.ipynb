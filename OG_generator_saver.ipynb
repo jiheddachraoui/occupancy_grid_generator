{
  "cells": [
    {
      "cell_type": "markdown",
      "metadata": {
        "id": "view-in-github",
        "colab_type": "text"
      },
      "source": [
        "<a href=\"https://colab.research.google.com/github/jiheddachraoui/occupancy_grid_generator/blob/main/OG_generator_saver.ipynb\" target=\"_parent\"><img src=\"https://colab.research.google.com/assets/colab-badge.svg\" alt=\"Open In Colab\"/></a>"
      ]
    },
    {
      "cell_type": "markdown",
      "metadata": {
        "id": "iderI-dPJ7QJ"
      },
      "source": [
        "# PREPARATION"
      ]
    },
    {
      "cell_type": "code",
      "execution_count": null,
      "metadata": {
        "id": "FBjbCBkk6gI1",
        "colab": {
          "base_uri": "https://localhost:8080/"
        },
        "outputId": "d6fa5c52-5b95-43a5-effc-f6d5f3efc91c"
      },
      "outputs": [
        {
          "output_type": "stream",
          "name": "stdout",
          "text": [
            "Mounted at /content/drive\n"
          ]
        }
      ],
      "source": [
        "import os\n",
        "import sys\n",
        "import csv\n",
        "import numpy as np\n",
        "import cv2\n",
        "import matplotlib.pyplot as plt\n",
        "import time\n",
        "import tensorflow as tf\n",
        "from sklearn.linear_model import RANSACRegressor\n",
        "from scipy import stats\n",
        "from google.colab import drive\n",
        "drive.mount('/content/drive',force_remount=True)\n"
      ]
    },
    {
      "cell_type": "code",
      "source": [
        "datadir = '/content/drive/MyDrive/s_data/'\n",
        "scenario='scenarios/scenario7/'\n",
        "\n",
        "\n",
        "\n",
        "for item in os.listdir(os.path.join(datadir,scenario)):\n",
        "    # Construct the full path to the item\n",
        "    item_path = os.path.join(os.path.join(datadir,scenario), item)\n",
        "    # Check if the item is a directory\n",
        "    if os.path.isdir(item_path) and item != '.ipynb_checkpoints':\n",
        "        # Print the path of the subdirectory\n",
        "        print(item_path)\n",
        "\n"
      ],
      "metadata": {
        "colab": {
          "base_uri": "https://localhost:8080/"
        },
        "id": "gu1FbSfH4R6f",
        "outputId": "b3826aa1-d619-4428-abda-20da7a39e574"
      },
      "execution_count": null,
      "outputs": [
        {
          "output_type": "stream",
          "name": "stdout",
          "text": [
            "/content/drive/MyDrive/s_data/scenarios/scenario5/Vehicle_2 vehicle.nissan.micra\n",
            "/content/drive/MyDrive/s_data/scenarios/scenario5/Vehicle_3 vehicle.citroen.c3\n",
            "/content/drive/MyDrive/s_data/scenarios/scenario5/Vehicle_1 vehicle.tesla.model3\n",
            "/content/drive/MyDrive/s_data/scenarios/scenario5/Ego_1 vehicle.audi.a2\n"
          ]
        }
      ]
    },
    {
      "cell_type": "code",
      "source": [
        "vehicles={}\n",
        "for idx, item in enumerate(os.listdir(os.path.join(datadir, scenario))):\n",
        "    # Construct the full path to the item\n",
        "    if os.path.isdir(item_path) and item != '.ipynb_checkpoints':\n",
        "        folder_path = os.path.join(os.path.join(datadir,scenario), item)\n",
        "        lidar_path=folder_path+'/Lidar'\n",
        "        img_path=folder_path+'/rgb'\n",
        "        save_path=folder_path+'/occupancy_grid'\n",
        "        save_path1=folder_path+'/lidar_nonroad'\n",
        "        lidar_matrices_path=folder_path+ \"/pos_matrices/lidar_2_world\"\n",
        "        camera_matrices_path=folder_path+\"/pos_matrices/world_2_camera\"\n",
        "        camera_intrinsic_path= folder_path+\"/pos_matrices/K.npy\"\n",
        "\n",
        "        if not os.path.exists(save_path):\n",
        "            os.makedirs(save_path)\n",
        "        num_files = len([f for f in os.listdir(lidar_path) if os.path.isfile(os.path.join(lidar_path, f))])\n",
        "        print('Number of files in {} :'.format(lidar_path), num_files)\n",
        "        vehicles[idx] = {\n",
        "            'lidar_path': lidar_path,\n",
        "            'img_path': img_path,\n",
        "            'lidar_matrices_path': lidar_matrices_path,\n",
        "            'camera_matrices_path': camera_matrices_path,\n",
        "            'camera_intrinsic_path' :camera_intrinsic_path,\n",
        "            'num_files': num_files,\n",
        "            'save_path': save_path,\n",
        "            'save_path1':save_path1,\n",
        "        }"
      ],
      "metadata": {
        "id": "C69xP8yQzhE7",
        "colab": {
          "base_uri": "https://localhost:8080/"
        },
        "outputId": "f03e551d-aafa-43ab-fed1-4b350a311047"
      },
      "execution_count": null,
      "outputs": [
        {
          "output_type": "stream",
          "name": "stdout",
          "text": [
            "Number of files in /content/drive/MyDrive/s_data/scenarios/scenario5/Vehicle_2 vehicle.nissan.micra/Lidar : 25\n",
            "Number of files in /content/drive/MyDrive/s_data/scenarios/scenario5/Vehicle_3 vehicle.citroen.c3/Lidar : 25\n",
            "Number of files in /content/drive/MyDrive/s_data/scenarios/scenario5/Vehicle_1 vehicle.tesla.model3/Lidar : 25\n",
            "Number of files in /content/drive/MyDrive/s_data/scenarios/scenario5/Ego_1 vehicle.audi.a2/Lidar : 25\n"
          ]
        }
      ]
    },
    {
      "cell_type": "code",
      "source": [
        "vehicles"
      ],
      "metadata": {
        "id": "aB0lOZT446Yn",
        "colab": {
          "base_uri": "https://localhost:8080/"
        },
        "outputId": "f623816d-c2e9-4182-de10-a7642b722230"
      },
      "execution_count": null,
      "outputs": [
        {
          "output_type": "execute_result",
          "data": {
            "text/plain": [
              "{0: {'lidar_path': '/content/drive/MyDrive/s_data/scenarios/scenario5/Vehicle_2 vehicle.nissan.micra/Lidar',\n",
              "  'img_path': '/content/drive/MyDrive/s_data/scenarios/scenario5/Vehicle_2 vehicle.nissan.micra/rgb',\n",
              "  'lidar_matrices_path': '/content/drive/MyDrive/s_data/scenarios/scenario5/Vehicle_2 vehicle.nissan.micra/pos_matrices/lidar_2_world',\n",
              "  'camera_matrices_path': '/content/drive/MyDrive/s_data/scenarios/scenario5/Vehicle_2 vehicle.nissan.micra/pos_matrices/world_2_camera',\n",
              "  'camera_intrinsic_path': '/content/drive/MyDrive/s_data/scenarios/scenario5/Vehicle_2 vehicle.nissan.micra/pos_matrices/K.npy',\n",
              "  'num_files': 25,\n",
              "  'save_path': '/content/drive/MyDrive/s_data/scenarios/scenario5/Vehicle_2 vehicle.nissan.micra/occupancy_grid',\n",
              "  'save_path1': '/content/drive/MyDrive/s_data/scenarios/scenario5/Vehicle_2 vehicle.nissan.micra/lidar_nonroad'},\n",
              " 1: {'lidar_path': '/content/drive/MyDrive/s_data/scenarios/scenario5/Vehicle_3 vehicle.citroen.c3/Lidar',\n",
              "  'img_path': '/content/drive/MyDrive/s_data/scenarios/scenario5/Vehicle_3 vehicle.citroen.c3/rgb',\n",
              "  'lidar_matrices_path': '/content/drive/MyDrive/s_data/scenarios/scenario5/Vehicle_3 vehicle.citroen.c3/pos_matrices/lidar_2_world',\n",
              "  'camera_matrices_path': '/content/drive/MyDrive/s_data/scenarios/scenario5/Vehicle_3 vehicle.citroen.c3/pos_matrices/world_2_camera',\n",
              "  'camera_intrinsic_path': '/content/drive/MyDrive/s_data/scenarios/scenario5/Vehicle_3 vehicle.citroen.c3/pos_matrices/K.npy',\n",
              "  'num_files': 25,\n",
              "  'save_path': '/content/drive/MyDrive/s_data/scenarios/scenario5/Vehicle_3 vehicle.citroen.c3/occupancy_grid',\n",
              "  'save_path1': '/content/drive/MyDrive/s_data/scenarios/scenario5/Vehicle_3 vehicle.citroen.c3/lidar_nonroad'},\n",
              " 2: {'lidar_path': '/content/drive/MyDrive/s_data/scenarios/scenario5/Vehicle_1 vehicle.tesla.model3/Lidar',\n",
              "  'img_path': '/content/drive/MyDrive/s_data/scenarios/scenario5/Vehicle_1 vehicle.tesla.model3/rgb',\n",
              "  'lidar_matrices_path': '/content/drive/MyDrive/s_data/scenarios/scenario5/Vehicle_1 vehicle.tesla.model3/pos_matrices/lidar_2_world',\n",
              "  'camera_matrices_path': '/content/drive/MyDrive/s_data/scenarios/scenario5/Vehicle_1 vehicle.tesla.model3/pos_matrices/world_2_camera',\n",
              "  'camera_intrinsic_path': '/content/drive/MyDrive/s_data/scenarios/scenario5/Vehicle_1 vehicle.tesla.model3/pos_matrices/K.npy',\n",
              "  'num_files': 25,\n",
              "  'save_path': '/content/drive/MyDrive/s_data/scenarios/scenario5/Vehicle_1 vehicle.tesla.model3/occupancy_grid',\n",
              "  'save_path1': '/content/drive/MyDrive/s_data/scenarios/scenario5/Vehicle_1 vehicle.tesla.model3/lidar_nonroad'},\n",
              " 3: {'lidar_path': '/content/drive/MyDrive/s_data/scenarios/scenario5/Ego_1 vehicle.audi.a2/Lidar',\n",
              "  'img_path': '/content/drive/MyDrive/s_data/scenarios/scenario5/Ego_1 vehicle.audi.a2/rgb',\n",
              "  'lidar_matrices_path': '/content/drive/MyDrive/s_data/scenarios/scenario5/Ego_1 vehicle.audi.a2/pos_matrices/lidar_2_world',\n",
              "  'camera_matrices_path': '/content/drive/MyDrive/s_data/scenarios/scenario5/Ego_1 vehicle.audi.a2/pos_matrices/world_2_camera',\n",
              "  'camera_intrinsic_path': '/content/drive/MyDrive/s_data/scenarios/scenario5/Ego_1 vehicle.audi.a2/pos_matrices/K.npy',\n",
              "  'num_files': 25,\n",
              "  'save_path': '/content/drive/MyDrive/s_data/scenarios/scenario5/Ego_1 vehicle.audi.a2/occupancy_grid',\n",
              "  'save_path1': '/content/drive/MyDrive/s_data/scenarios/scenario5/Ego_1 vehicle.audi.a2/lidar_nonroad'}}"
            ]
          },
          "metadata": {},
          "execution_count": 17
        }
      ]
    },
    {
      "cell_type": "code",
      "source": [
        "ALPHA = 1\n",
        "BHETA = 1*np.pi/180\n",
        "RESOLUTION = 0.1\n",
        "MAX_RANGE = 50\n",
        "MAP_WIDTH = 100\n",
        "SPHERICAL2CARTESIAN_BIAS = 6\n",
        "### Some derived parameters\n",
        "# OOR_MASK = A mask to filter out measurements that are out of MAX_RANGE\n",
        "MAP_SIZE_X = int(MAP_WIDTH/RESOLUTION)\n",
        "MAP_SIZE_Y = int(MAP_WIDTH/RESOLUTION)\n",
        "xarr = np.arange(-MAP_WIDTH/2,MAP_WIDTH/2,RESOLUTION)\n",
        "yarr = np.arange(-MAP_WIDTH/2,MAP_WIDTH/2,RESOLUTION)\n",
        "MAP_XX, MAP_YY = np.meshgrid(xarr, -yarr)\n",
        "rgrid = np.sqrt(np.add(np.square(MAP_XX),np.square(MAP_YY)))\n",
        "OOR_MASK = rgrid >= MAX_RANGE"
      ],
      "metadata": {
        "id": "y1MH7VTN_BiY"
      },
      "execution_count": null,
      "outputs": []
    },
    {
      "cell_type": "code",
      "source": [
        "def transform_coordinate(lidar_points,l2w_matrix,w2c_matrix):\n",
        "  inp = lidar_points.copy()\n",
        "  ones_column = np.ones((inp.shape[0], 1))\n",
        "  inp=np.concatenate((inp, ones_column), axis=1)\n",
        "\n",
        "\n",
        "\n",
        "  # Transform the points from lidar space to world space.\n",
        "  world_points = np.dot(l2w_matrix, inp.T)\n",
        "  inp = np.dot(w2c_matrix, world_points).T\n",
        "\n",
        "\n",
        "  return inp[:,:3]"
      ],
      "metadata": {
        "id": "v-v_Xijh5WYd"
      },
      "execution_count": null,
      "outputs": []
    },
    {
      "cell_type": "code",
      "source": [
        "def project_lidar2cam(lidar_in_cam,camera_intrinsic,img_raw_size):\n",
        "  ### Filter out data behind the cam\n",
        "\n",
        "  lidar_in_cam = np.concatenate((lidar_in_cam,np.ones((lidar_in_cam.shape[0],1))),axis=1)\n",
        "\n",
        "  lidar_in_cam = lidar_in_cam[lidar_in_cam[:,0]>0]\n",
        "\n",
        "  ### Project points to the image\n",
        "  point_in_camera_coords=np.array([\n",
        "                lidar_in_cam[:,1],\n",
        "                lidar_in_cam[:,2] * -1 ,\n",
        "                lidar_in_cam[:,0]])\n",
        "  points_2d = np.matmul(camera_intrinsic,point_in_camera_coords)\n",
        "\n",
        "  # normalize the x, y values by the 3rd value.\n",
        "  points_2d = np.array([\n",
        "                points_2d[0, :] / points_2d[2, :],\n",
        "                points_2d[1, :] / points_2d[2, :],\n",
        "                points_2d[2, :]])\n",
        "  points_2d = points_2d.T\n",
        "  points_2d = points_2d.astype(int)\n",
        "\n",
        "  ### Filter out points that are outside image frame\n",
        "  maskH = np.logical_and(points_2d[:,0]>=0,points_2d[:,0]<img_raw_size[1])\n",
        "  maskV = np.logical_and(points_2d[:,1]>=0,points_2d[:,1]<img_raw_size[0])\n",
        "  mask = np.logical_and(maskH,maskV)\n",
        "\n",
        "  points_2d = points_2d[mask,:]\n",
        "  lidar_in_cam = lidar_in_cam[mask,:]\n",
        "\n",
        "  return points_2d,lidar_in_cam[:,:3],mask"
      ],
      "metadata": {
        "id": "hzLSVc1-7UOt"
      },
      "execution_count": null,
      "outputs": []
    },
    {
      "cell_type": "code",
      "source": [
        "def crop_data(img_in,lidar_2d_in,lidar_in_cam_in,rh,rw):\n",
        "  lidar_2d = lidar_2d_in.copy()\n",
        "  lidar_in_cam = lidar_in_cam_in.copy()\n",
        "  img = img_in.copy()\n",
        "\n",
        "  ### Crop the image\n",
        "  dim_ori = np.array(img.shape)\n",
        "  cent = (dim_ori/2).astype(int)\n",
        "  if dim_ori[0]/dim_ori[1] == rh/rw:\n",
        "      crop_img = img\n",
        "\n",
        "  # If Height <= Width\n",
        "  elif dim_ori[0] <= dim_ori[1]:\n",
        "      cH2 = dim_ori[0]\n",
        "      cW2 = cH2*rw/rh\n",
        "      cW = int(cW2/2)\n",
        "      crop_img = img[:,cent[1]-cW:cent[1]+cW+1]\n",
        "\n",
        "  # If Height > Width\n",
        "  else:\n",
        "      cW2 = dim_ori[1]\n",
        "      cH2 = cW2*rh/rw\n",
        "      cH = int(cH2/2)\n",
        "      crop_img = img[cent[0]-cH:cent[0]+cH+1,:]\n",
        "\n",
        "  ### Filter out LiDAR points outside cropped image\n",
        "  cW = cW2/2\n",
        "  cH = cH2/2\n",
        "  centH = cent[0]\n",
        "  centW = cent[1]\n",
        "  maskH = np.logical_and(lidar_2d[:,1]>=centH-cH,lidar_2d[:,1]<=centH+cH)\n",
        "  maskW = np.logical_and(lidar_2d[:,0]>=centW-cW,lidar_2d[:,0]<=centW+cW)\n",
        "  mask = np.logical_and(maskH,maskW)\n",
        "  lidar_2d = lidar_2d[mask,:]\n",
        "  lidar_in_cam = lidar_in_cam[mask,:]\n",
        "  cent = np.array((centW-cW,centH-cH,0)).reshape((1,3))\n",
        "  lidar_2d = lidar_2d - cent\n",
        "\n",
        "  return crop_img, lidar_2d.astype(int), lidar_in_cam\n"
      ],
      "metadata": {
        "id": "ElMyOcUkC2eY"
      },
      "execution_count": null,
      "outputs": []
    },
    {
      "cell_type": "code",
      "source": [
        "def filter_road_points(lidar_in, is_road, threshold=0.5):\n",
        "  y_true = lidar_in[:,1]\n",
        "  y_pred = np.zeros_like(y_true)\n",
        "\n",
        "  y_pred = y_true * is_road  # set road points' predicted height to true height\n",
        "  delta_y = np.absolute(y_true-y_pred).flatten()\n",
        "  is_not_road = delta_y > threshold\n",
        "  lidar_out = lidar_in[is_not_road,:].copy()\n",
        "  return lidar_out"
      ],
      "metadata": {
        "id": "OcM0SMNa-2qx"
      },
      "execution_count": null,
      "outputs": []
    },
    {
      "cell_type": "code",
      "source": [
        "def generate_measurement_ogm(lidar_in,ogm_shape):\n",
        "  ### Calculate the position of LiDAR points in spherical coordinate\n",
        "  rphi_meas = np.zeros((lidar_in.shape[0],2))\n",
        "  rphi_meas[:,1] = np.sqrt(np.add(np.square(lidar_in[:,0]),np.square(lidar_in[:,1])))/ALPHA\n",
        "  rphi_meas[:,0] = (np.arctan2(lidar_in[:,1],lidar_in[:,0])+np.pi)/BHETA\n",
        "  rphi_meas = np.unique(rphi_meas.astype(int),axis=0)\n",
        "  rphi_meas = rphi_meas[rphi_meas[:,1]<int(MAX_RANGE/ALPHA),:]\n",
        "  rphi_meas = rphi_meas[rphi_meas[:,0]<int(2*np.pi/BHETA),:]\n",
        "\n",
        "  ### Initiate and fill the spherical scan grid\n",
        "  sg_ang_bin = int(2*np.pi/BHETA)\n",
        "  sg_rng_bin = int(MAX_RANGE/ALPHA)\n",
        "  # Initiation (Condition 3)\n",
        "  scan_grid = np.ones((sg_ang_bin,sg_rng_bin))*0.5\n",
        "  # Condition 1\n",
        "  scan_grid[tuple(rphi_meas.T)] = 0.7\n",
        "  # Condition 2\n",
        "  for ang in range(sg_ang_bin):\n",
        "    ang_arr = rphi_meas[rphi_meas[:,0]==ang,1]\n",
        "    if len(ang_arr) == 0:\n",
        "      scan_grid[ang,:] = 0.3\n",
        "    else:\n",
        "      min_r = np.min(ang_arr)\n",
        "      scan_grid[ang,:min_r] = 0.3\n",
        "\n",
        "  ### Convert the spherical scan grid to the cartesian one\n",
        "  ogm_sz = (ogm_shape[1],ogm_shape[0])\n",
        "  ogm_cen = (int(ogm_shape[1]/2),int(ogm_shape[0]/2))\n",
        "  radius = (MAX_RANGE/RESOLUTION) + SPHERICAL2CARTESIAN_BIAS\n",
        "  ogm_step = cv2.warpPolar(scan_grid,ogm_sz,ogm_cen,radius,cv2.WARP_INVERSE_MAP)\n",
        "  ogm_step[OOR_MASK] = 0.5\n",
        "  ogm_step = cv2.rotate(ogm_step, cv2.ROTATE_90_CLOCKWISE)\n",
        "  #print(ogm_step)\n",
        "  return ogm_step"
      ],
      "metadata": {
        "id": "4HY7gN5W_hM_"
      },
      "execution_count": null,
      "outputs": []
    },
    {
      "cell_type": "code",
      "source": [
        "### Function to process the image with DeepLabv3+\n",
        "def process_images(img_in, sess, target_size=513, probability_threshold=0.5):\n",
        "  INPUT_TENSOR_NAME = 'ImageTensor:0'\n",
        "  PROB_TENSOR_NAME = 'SemanticProbabilities:0'\n",
        "  INPUT_SIZE = target_size\n",
        "\n",
        "  image = img_in.copy()\n",
        "  sz = image.shape\n",
        "  image = cv2.cvtColor(image, cv2.COLOR_BGR2RGB)\n",
        "\n",
        "  # Resize input image to target size\n",
        "  if INPUT_SIZE == 0:\n",
        "    resized_image = image.copy()\n",
        "  else:\n",
        "    resized_image = cv2.resize(image,(INPUT_SIZE,INPUT_SIZE))\n",
        "\n",
        "  # Run deep learning inference\n",
        "  batch_seg_map = sess.run(\n",
        "      PROB_TENSOR_NAME,\n",
        "      feed_dict={INPUT_TENSOR_NAME: [np.asarray(resized_image)]})\n",
        "  seg_map = (batch_seg_map[0][:,:,1]*255).astype(int)\n",
        "  prob = np.array(seg_map, dtype=np.uint8)\n",
        "  prob = cv2.resize(prob,(sz[1],sz[0]))\n",
        "\n",
        "  # Create the prediction\n",
        "  pred = prob.copy()\n",
        "  msk_bin = prob >= (probability_threshold*255)\n",
        "  pred[msk_bin] = 1\n",
        "  pred[np.logical_not(msk_bin)] = 0\n",
        "\n",
        "  # Ignore regions that are separated from the main road\n",
        "  # This can reduce the amount of false detection\n",
        "  _,segm_reg = cv2.connectedComponents(pred)\n",
        "  segm_reg = segm_reg.astype(float)\n",
        "  segm_reg[segm_reg==0] = np.nan\n",
        "  modes,_ = stats.mode(segm_reg.flatten(),axis=None,nan_policy=\"omit\")\n",
        "  mode = modes[0]\n",
        "  pred[segm_reg!=mode] = 0\n",
        "\n",
        "  return prob,(pred*255).astype(np.uint8)\n",
        "\n",
        "### Load the model\n",
        "DEEPLAB_MODEL_PATH = '/content/drive/MyDrive/s_data/(extra)/deeplab_model.pb'\n",
        "with open(DEEPLAB_MODEL_PATH, \"rb\") as f:\n",
        "    graph_def = tf.compat.v1.GraphDef.FromString(f.read())\n",
        "graph = tf.Graph()\n",
        "with graph.as_default():\n",
        "    tf.import_graph_def(graph_def=graph_def, name=\"\")\n",
        "sess = tf.compat.v1.Session(graph=graph)\n",
        "\n",
        "DEEPLAB_INPUT_SIZE = 513"
      ],
      "metadata": {
        "id": "FMncnZVXDSmA"
      },
      "execution_count": null,
      "outputs": []
    },
    {
      "cell_type": "code",
      "source": [
        "### Get the plane model from the road points\n",
        "def get_road_model_ransac(img_pred,lidar_in_cam,lidar_2d):\n",
        "  lidar_in_road_lbl = [True if img_pred[pt[1],pt[0]] == 255 else False for pt in lidar_2d]\n",
        "  lidar_in_road = lidar_in_cam[lidar_in_road_lbl,:]\n",
        "  road_model = RANSACRegressor().fit(lidar_in_road[:,[0,2]],lidar_in_road[:,1])\n",
        "  return road_model\n",
        "\n",
        "### Predict all LiDAR points as road or not\n",
        "def filter_road_points(road_model,lidar_in,threshold=0.5):\n",
        "  x = lidar_in[:,[0,2]]\n",
        "  y_true = lidar_in[:,1]\n",
        "  y_pred = road_model.predict(x)\n",
        "  delta_y = np.absolute(y_true-y_pred).flatten()\n",
        "  is_not_road = delta_y > threshold\n",
        "  lidar_out = lidar_in[is_not_road,:].copy()\n",
        "  return lidar_out\n",
        "\n",
        "road_height_threshold = 0.8"
      ],
      "metadata": {
        "id": "MZQfLfizD_d1"
      },
      "execution_count": null,
      "outputs": []
    },
    {
      "cell_type": "code",
      "source": [
        "for v in vehicles:\n",
        "  print(vehicles[v])\n",
        "  item=vehicles[v]\n",
        "  for  i in range(item['num_files']):\n",
        "    lidar_path=item['lidar_path']\n",
        "    img_path=item['img_path']\n",
        "    save_path=item['save_path']\n",
        "    save_path1=item['save_path1']\n",
        "    lidar_2_world=np.load(item['lidar_matrices_path']+'/{}.npy'.format(i))\n",
        "    world_2_camera=np.load(item['camera_matrices_path']+'/{}.npy'.format(i))\n",
        "    camera_intrinsic=np.load(item['camera_intrinsic_path'])\n",
        "    if not os.path.exists(save_path):\n",
        "      os.makedirs(save_path)\n",
        "    if not os.path.exists(save_path1):\n",
        "      os.makedirs(save_path1)\n",
        "    '''if  os.path.exists(save_path+'/{}.npy'.format(i)):\n",
        "            print(\"File {} is already created. Skipping item...\".format(i))\n",
        "\n",
        "            continue'''\n",
        "    if not os.path.exists(lidar_path+'/{}.npy'.format(i)):\n",
        "            print(\"File {} not found. Skipping item...\".format(i))\n",
        "            all_files_exist = False\n",
        "            continue\n",
        "    lidar_raw=np.load(lidar_path+'/{}.npy'.format(i))\n",
        "    img_raw=cv2.imread(img_path+'/{}.jpg'.format(i))\n",
        "\n",
        "    lidar_raw=lidar_raw.reshape(-1, 4)\n",
        "\n",
        "\n",
        "    lidar_raw = lidar_raw[lidar_raw[:, 2] <= 0, :]\n",
        "    dist = np.linalg.norm(lidar_raw, axis=1)\n",
        "    lidar_raw = lidar_raw[dist >= 3]\n",
        "    intensity = np.array(lidar_raw[:, 3])\n",
        "    lidar_raw = lidar_raw[:, :3]\n",
        "    # Define the radius (in meters)\n",
        "    radius = 2.7\n",
        "\n",
        "    # Calculate the Euclidean distance between each point in the point cloud and the lidar sensor position\n",
        "    distances = np.sqrt((lidar_raw[:, 0])**2 + (lidar_raw[:, 1])**2)\n",
        "\n",
        "    # Filter out all the points that are within the radius of the lidar sensor position\n",
        "    lidar_raw = lidar_raw[distances > radius, :]\n",
        "\n",
        "\n",
        "    lidar_raw = transform_coordinate(lidar_raw,lidar_2_world,world_2_camera)\n",
        "\n",
        "    img_raw_size = img_raw.shape\n",
        "\n",
        "    lidar_2d,lidar_in_cam ,mask= project_lidar2cam(lidar_raw,camera_intrinsic,img_raw_size)\n",
        "\n",
        "\n",
        "\n",
        "    # Extract the screen coords (uv) as integers.\n",
        "    u_coord = lidar_2d[:, 0].astype(int)\n",
        "    v_coord = lidar_2d[:, 1].astype(int)\n",
        "\n",
        "    CROP_RH = 1 # Height ratio\n",
        "    CROP_RW = 2 # Width ratio\n",
        "    crop_img,lidar_2d,lidar_in_cam = crop_data(img_raw,lidar_2d,lidar_in_cam,CROP_RH,CROP_RW)\n",
        "    ##Segmenantation using deeplabv3\n",
        "    segm_prob,segm_pred = process_images(crop_img, sess, DEEPLAB_INPUT_SIZE, 0.4)\n",
        "    ### Initialize OGM\n",
        "    ogm_time_0 = np.ones((MAP_SIZE_Y,MAP_SIZE_X)) * 0.5\n",
        "    road_model = get_road_model_ransac(segm_pred,lidar_in_cam,lidar_2d)\n",
        "    lidar_nonroad = filter_road_points(road_model,lidar_raw,road_height_threshold)\n",
        "    np.save(save_path1+'/{}.npy'.format(i),lidar_nonroad)\n",
        "    print(save_path1+'/{}.npy'.format(i))\n",
        "    ### Only use the x-z axis of the point (ignore the height axis)\n",
        "    lidar_ogm = lidar_nonroad[:,[0,1]]\n",
        "\n",
        "\n",
        "    ogm_step = generate_measurement_ogm(lidar_ogm,ogm_time_0.shape)\n",
        "    #plt.imshow(((1-ogm_step)*255).astype(np.uint8),cmap='gray')\n",
        "    #plt.show()\n",
        "    np.save(save_path+'/{}.npy'.format(i),ogm_step)\n",
        "    print(save_path+'/{}.npy'.format(i))\n",
        "    '''### Visualize\n",
        "    fig,axs = plt.subplots(figsize=(12,6))\n",
        "    plt.imshow(((1-ogm_step)*255).astype(np.uint8),cmap='gray')\n",
        "    plt.show()'''"
      ],
      "metadata": {
        "id": "RdI9iz9X6QJy",
        "colab": {
          "base_uri": "https://localhost:8080/"
        },
        "outputId": "17dc0ced-fbbc-40d5-daa9-cbe0f4a53a08"
      },
      "execution_count": null,
      "outputs": [
        {
          "output_type": "stream",
          "name": "stdout",
          "text": [
            "{'lidar_path': '/content/drive/MyDrive/s_data/scenarios/scenario5/Vehicle_2 vehicle.nissan.micra/Lidar', 'img_path': '/content/drive/MyDrive/s_data/scenarios/scenario5/Vehicle_2 vehicle.nissan.micra/rgb', 'lidar_matrices_path': '/content/drive/MyDrive/s_data/scenarios/scenario5/Vehicle_2 vehicle.nissan.micra/pos_matrices/lidar_2_world', 'camera_matrices_path': '/content/drive/MyDrive/s_data/scenarios/scenario5/Vehicle_2 vehicle.nissan.micra/pos_matrices/world_2_camera', 'camera_intrinsic_path': '/content/drive/MyDrive/s_data/scenarios/scenario5/Vehicle_2 vehicle.nissan.micra/pos_matrices/K.npy', 'num_files': 25, 'save_path': '/content/drive/MyDrive/s_data/scenarios/scenario5/Vehicle_2 vehicle.nissan.micra/occupancy_grid', 'save_path1': '/content/drive/MyDrive/s_data/scenarios/scenario5/Vehicle_2 vehicle.nissan.micra/lidar_nonroad'}\n"
          ]
        },
        {
          "output_type": "stream",
          "name": "stderr",
          "text": [
            "<ipython-input-24-bd5f8f661648>:36: FutureWarning: Unlike other reduction functions (e.g. `skew`, `kurtosis`), the default behavior of `mode` typically preserves the axis it acts along. In SciPy 1.11.0, this behavior will change: the default value of `keepdims` will become False, the `axis` over which the statistic is taken will be eliminated, and the value None will no longer be accepted. Set `keepdims` to True or False to avoid this warning.\n",
            "  modes,_ = stats.mode(segm_reg.flatten(),axis=None,nan_policy=\"omit\")\n"
          ]
        },
        {
          "output_type": "stream",
          "name": "stdout",
          "text": [
            "/content/drive/MyDrive/s_data/scenarios/scenario5/Vehicle_2 vehicle.nissan.micra/lidar_nonroad/0.npy\n",
            "/content/drive/MyDrive/s_data/scenarios/scenario5/Vehicle_2 vehicle.nissan.micra/occupancy_grid/0.npy\n"
          ]
        },
        {
          "output_type": "stream",
          "name": "stderr",
          "text": [
            "<ipython-input-24-bd5f8f661648>:36: FutureWarning: Unlike other reduction functions (e.g. `skew`, `kurtosis`), the default behavior of `mode` typically preserves the axis it acts along. In SciPy 1.11.0, this behavior will change: the default value of `keepdims` will become False, the `axis` over which the statistic is taken will be eliminated, and the value None will no longer be accepted. Set `keepdims` to True or False to avoid this warning.\n",
            "  modes,_ = stats.mode(segm_reg.flatten(),axis=None,nan_policy=\"omit\")\n"
          ]
        },
        {
          "output_type": "stream",
          "name": "stdout",
          "text": [
            "/content/drive/MyDrive/s_data/scenarios/scenario5/Vehicle_2 vehicle.nissan.micra/lidar_nonroad/1.npy\n",
            "/content/drive/MyDrive/s_data/scenarios/scenario5/Vehicle_2 vehicle.nissan.micra/occupancy_grid/1.npy\n"
          ]
        },
        {
          "output_type": "stream",
          "name": "stderr",
          "text": [
            "<ipython-input-24-bd5f8f661648>:36: FutureWarning: Unlike other reduction functions (e.g. `skew`, `kurtosis`), the default behavior of `mode` typically preserves the axis it acts along. In SciPy 1.11.0, this behavior will change: the default value of `keepdims` will become False, the `axis` over which the statistic is taken will be eliminated, and the value None will no longer be accepted. Set `keepdims` to True or False to avoid this warning.\n",
            "  modes,_ = stats.mode(segm_reg.flatten(),axis=None,nan_policy=\"omit\")\n"
          ]
        },
        {
          "output_type": "stream",
          "name": "stdout",
          "text": [
            "/content/drive/MyDrive/s_data/scenarios/scenario5/Vehicle_2 vehicle.nissan.micra/lidar_nonroad/2.npy\n",
            "/content/drive/MyDrive/s_data/scenarios/scenario5/Vehicle_2 vehicle.nissan.micra/occupancy_grid/2.npy\n"
          ]
        },
        {
          "output_type": "stream",
          "name": "stderr",
          "text": [
            "<ipython-input-24-bd5f8f661648>:36: FutureWarning: Unlike other reduction functions (e.g. `skew`, `kurtosis`), the default behavior of `mode` typically preserves the axis it acts along. In SciPy 1.11.0, this behavior will change: the default value of `keepdims` will become False, the `axis` over which the statistic is taken will be eliminated, and the value None will no longer be accepted. Set `keepdims` to True or False to avoid this warning.\n",
            "  modes,_ = stats.mode(segm_reg.flatten(),axis=None,nan_policy=\"omit\")\n"
          ]
        },
        {
          "output_type": "stream",
          "name": "stdout",
          "text": [
            "/content/drive/MyDrive/s_data/scenarios/scenario5/Vehicle_2 vehicle.nissan.micra/lidar_nonroad/3.npy\n",
            "/content/drive/MyDrive/s_data/scenarios/scenario5/Vehicle_2 vehicle.nissan.micra/occupancy_grid/3.npy\n"
          ]
        },
        {
          "output_type": "stream",
          "name": "stderr",
          "text": [
            "<ipython-input-24-bd5f8f661648>:36: FutureWarning: Unlike other reduction functions (e.g. `skew`, `kurtosis`), the default behavior of `mode` typically preserves the axis it acts along. In SciPy 1.11.0, this behavior will change: the default value of `keepdims` will become False, the `axis` over which the statistic is taken will be eliminated, and the value None will no longer be accepted. Set `keepdims` to True or False to avoid this warning.\n",
            "  modes,_ = stats.mode(segm_reg.flatten(),axis=None,nan_policy=\"omit\")\n"
          ]
        },
        {
          "output_type": "stream",
          "name": "stdout",
          "text": [
            "/content/drive/MyDrive/s_data/scenarios/scenario5/Vehicle_2 vehicle.nissan.micra/lidar_nonroad/4.npy\n",
            "/content/drive/MyDrive/s_data/scenarios/scenario5/Vehicle_2 vehicle.nissan.micra/occupancy_grid/4.npy\n"
          ]
        },
        {
          "output_type": "stream",
          "name": "stderr",
          "text": [
            "<ipython-input-24-bd5f8f661648>:36: FutureWarning: Unlike other reduction functions (e.g. `skew`, `kurtosis`), the default behavior of `mode` typically preserves the axis it acts along. In SciPy 1.11.0, this behavior will change: the default value of `keepdims` will become False, the `axis` over which the statistic is taken will be eliminated, and the value None will no longer be accepted. Set `keepdims` to True or False to avoid this warning.\n",
            "  modes,_ = stats.mode(segm_reg.flatten(),axis=None,nan_policy=\"omit\")\n"
          ]
        },
        {
          "output_type": "stream",
          "name": "stdout",
          "text": [
            "/content/drive/MyDrive/s_data/scenarios/scenario5/Vehicle_2 vehicle.nissan.micra/lidar_nonroad/5.npy\n",
            "/content/drive/MyDrive/s_data/scenarios/scenario5/Vehicle_2 vehicle.nissan.micra/occupancy_grid/5.npy\n"
          ]
        },
        {
          "output_type": "stream",
          "name": "stderr",
          "text": [
            "<ipython-input-24-bd5f8f661648>:36: FutureWarning: Unlike other reduction functions (e.g. `skew`, `kurtosis`), the default behavior of `mode` typically preserves the axis it acts along. In SciPy 1.11.0, this behavior will change: the default value of `keepdims` will become False, the `axis` over which the statistic is taken will be eliminated, and the value None will no longer be accepted. Set `keepdims` to True or False to avoid this warning.\n",
            "  modes,_ = stats.mode(segm_reg.flatten(),axis=None,nan_policy=\"omit\")\n"
          ]
        },
        {
          "output_type": "stream",
          "name": "stdout",
          "text": [
            "/content/drive/MyDrive/s_data/scenarios/scenario5/Vehicle_2 vehicle.nissan.micra/lidar_nonroad/6.npy\n",
            "/content/drive/MyDrive/s_data/scenarios/scenario5/Vehicle_2 vehicle.nissan.micra/occupancy_grid/6.npy\n"
          ]
        },
        {
          "output_type": "stream",
          "name": "stderr",
          "text": [
            "<ipython-input-24-bd5f8f661648>:36: FutureWarning: Unlike other reduction functions (e.g. `skew`, `kurtosis`), the default behavior of `mode` typically preserves the axis it acts along. In SciPy 1.11.0, this behavior will change: the default value of `keepdims` will become False, the `axis` over which the statistic is taken will be eliminated, and the value None will no longer be accepted. Set `keepdims` to True or False to avoid this warning.\n",
            "  modes,_ = stats.mode(segm_reg.flatten(),axis=None,nan_policy=\"omit\")\n"
          ]
        },
        {
          "output_type": "stream",
          "name": "stdout",
          "text": [
            "/content/drive/MyDrive/s_data/scenarios/scenario5/Vehicle_2 vehicle.nissan.micra/lidar_nonroad/7.npy\n",
            "/content/drive/MyDrive/s_data/scenarios/scenario5/Vehicle_2 vehicle.nissan.micra/occupancy_grid/7.npy\n"
          ]
        },
        {
          "output_type": "stream",
          "name": "stderr",
          "text": [
            "<ipython-input-24-bd5f8f661648>:36: FutureWarning: Unlike other reduction functions (e.g. `skew`, `kurtosis`), the default behavior of `mode` typically preserves the axis it acts along. In SciPy 1.11.0, this behavior will change: the default value of `keepdims` will become False, the `axis` over which the statistic is taken will be eliminated, and the value None will no longer be accepted. Set `keepdims` to True or False to avoid this warning.\n",
            "  modes,_ = stats.mode(segm_reg.flatten(),axis=None,nan_policy=\"omit\")\n"
          ]
        },
        {
          "output_type": "stream",
          "name": "stdout",
          "text": [
            "/content/drive/MyDrive/s_data/scenarios/scenario5/Vehicle_2 vehicle.nissan.micra/lidar_nonroad/8.npy\n",
            "/content/drive/MyDrive/s_data/scenarios/scenario5/Vehicle_2 vehicle.nissan.micra/occupancy_grid/8.npy\n"
          ]
        },
        {
          "output_type": "stream",
          "name": "stderr",
          "text": [
            "<ipython-input-24-bd5f8f661648>:36: FutureWarning: Unlike other reduction functions (e.g. `skew`, `kurtosis`), the default behavior of `mode` typically preserves the axis it acts along. In SciPy 1.11.0, this behavior will change: the default value of `keepdims` will become False, the `axis` over which the statistic is taken will be eliminated, and the value None will no longer be accepted. Set `keepdims` to True or False to avoid this warning.\n",
            "  modes,_ = stats.mode(segm_reg.flatten(),axis=None,nan_policy=\"omit\")\n"
          ]
        },
        {
          "output_type": "stream",
          "name": "stdout",
          "text": [
            "/content/drive/MyDrive/s_data/scenarios/scenario5/Vehicle_2 vehicle.nissan.micra/lidar_nonroad/9.npy\n",
            "/content/drive/MyDrive/s_data/scenarios/scenario5/Vehicle_2 vehicle.nissan.micra/occupancy_grid/9.npy\n"
          ]
        },
        {
          "output_type": "stream",
          "name": "stderr",
          "text": [
            "<ipython-input-24-bd5f8f661648>:36: FutureWarning: Unlike other reduction functions (e.g. `skew`, `kurtosis`), the default behavior of `mode` typically preserves the axis it acts along. In SciPy 1.11.0, this behavior will change: the default value of `keepdims` will become False, the `axis` over which the statistic is taken will be eliminated, and the value None will no longer be accepted. Set `keepdims` to True or False to avoid this warning.\n",
            "  modes,_ = stats.mode(segm_reg.flatten(),axis=None,nan_policy=\"omit\")\n"
          ]
        },
        {
          "output_type": "stream",
          "name": "stdout",
          "text": [
            "/content/drive/MyDrive/s_data/scenarios/scenario5/Vehicle_2 vehicle.nissan.micra/lidar_nonroad/10.npy\n",
            "/content/drive/MyDrive/s_data/scenarios/scenario5/Vehicle_2 vehicle.nissan.micra/occupancy_grid/10.npy\n"
          ]
        },
        {
          "output_type": "stream",
          "name": "stderr",
          "text": [
            "<ipython-input-24-bd5f8f661648>:36: FutureWarning: Unlike other reduction functions (e.g. `skew`, `kurtosis`), the default behavior of `mode` typically preserves the axis it acts along. In SciPy 1.11.0, this behavior will change: the default value of `keepdims` will become False, the `axis` over which the statistic is taken will be eliminated, and the value None will no longer be accepted. Set `keepdims` to True or False to avoid this warning.\n",
            "  modes,_ = stats.mode(segm_reg.flatten(),axis=None,nan_policy=\"omit\")\n"
          ]
        },
        {
          "output_type": "stream",
          "name": "stdout",
          "text": [
            "/content/drive/MyDrive/s_data/scenarios/scenario5/Vehicle_2 vehicle.nissan.micra/lidar_nonroad/11.npy\n",
            "/content/drive/MyDrive/s_data/scenarios/scenario5/Vehicle_2 vehicle.nissan.micra/occupancy_grid/11.npy\n"
          ]
        },
        {
          "output_type": "stream",
          "name": "stderr",
          "text": [
            "<ipython-input-24-bd5f8f661648>:36: FutureWarning: Unlike other reduction functions (e.g. `skew`, `kurtosis`), the default behavior of `mode` typically preserves the axis it acts along. In SciPy 1.11.0, this behavior will change: the default value of `keepdims` will become False, the `axis` over which the statistic is taken will be eliminated, and the value None will no longer be accepted. Set `keepdims` to True or False to avoid this warning.\n",
            "  modes,_ = stats.mode(segm_reg.flatten(),axis=None,nan_policy=\"omit\")\n"
          ]
        },
        {
          "output_type": "stream",
          "name": "stdout",
          "text": [
            "/content/drive/MyDrive/s_data/scenarios/scenario5/Vehicle_2 vehicle.nissan.micra/lidar_nonroad/12.npy\n",
            "/content/drive/MyDrive/s_data/scenarios/scenario5/Vehicle_2 vehicle.nissan.micra/occupancy_grid/12.npy\n"
          ]
        },
        {
          "output_type": "stream",
          "name": "stderr",
          "text": [
            "<ipython-input-24-bd5f8f661648>:36: FutureWarning: Unlike other reduction functions (e.g. `skew`, `kurtosis`), the default behavior of `mode` typically preserves the axis it acts along. In SciPy 1.11.0, this behavior will change: the default value of `keepdims` will become False, the `axis` over which the statistic is taken will be eliminated, and the value None will no longer be accepted. Set `keepdims` to True or False to avoid this warning.\n",
            "  modes,_ = stats.mode(segm_reg.flatten(),axis=None,nan_policy=\"omit\")\n"
          ]
        },
        {
          "output_type": "stream",
          "name": "stdout",
          "text": [
            "/content/drive/MyDrive/s_data/scenarios/scenario5/Vehicle_2 vehicle.nissan.micra/lidar_nonroad/13.npy\n",
            "/content/drive/MyDrive/s_data/scenarios/scenario5/Vehicle_2 vehicle.nissan.micra/occupancy_grid/13.npy\n"
          ]
        },
        {
          "output_type": "stream",
          "name": "stderr",
          "text": [
            "<ipython-input-24-bd5f8f661648>:36: FutureWarning: Unlike other reduction functions (e.g. `skew`, `kurtosis`), the default behavior of `mode` typically preserves the axis it acts along. In SciPy 1.11.0, this behavior will change: the default value of `keepdims` will become False, the `axis` over which the statistic is taken will be eliminated, and the value None will no longer be accepted. Set `keepdims` to True or False to avoid this warning.\n",
            "  modes,_ = stats.mode(segm_reg.flatten(),axis=None,nan_policy=\"omit\")\n"
          ]
        },
        {
          "output_type": "stream",
          "name": "stdout",
          "text": [
            "/content/drive/MyDrive/s_data/scenarios/scenario5/Vehicle_2 vehicle.nissan.micra/lidar_nonroad/14.npy\n",
            "/content/drive/MyDrive/s_data/scenarios/scenario5/Vehicle_2 vehicle.nissan.micra/occupancy_grid/14.npy\n"
          ]
        },
        {
          "output_type": "stream",
          "name": "stderr",
          "text": [
            "<ipython-input-24-bd5f8f661648>:36: FutureWarning: Unlike other reduction functions (e.g. `skew`, `kurtosis`), the default behavior of `mode` typically preserves the axis it acts along. In SciPy 1.11.0, this behavior will change: the default value of `keepdims` will become False, the `axis` over which the statistic is taken will be eliminated, and the value None will no longer be accepted. Set `keepdims` to True or False to avoid this warning.\n",
            "  modes,_ = stats.mode(segm_reg.flatten(),axis=None,nan_policy=\"omit\")\n"
          ]
        },
        {
          "output_type": "stream",
          "name": "stdout",
          "text": [
            "/content/drive/MyDrive/s_data/scenarios/scenario5/Vehicle_2 vehicle.nissan.micra/lidar_nonroad/15.npy\n",
            "/content/drive/MyDrive/s_data/scenarios/scenario5/Vehicle_2 vehicle.nissan.micra/occupancy_grid/15.npy\n"
          ]
        },
        {
          "output_type": "stream",
          "name": "stderr",
          "text": [
            "<ipython-input-24-bd5f8f661648>:36: FutureWarning: Unlike other reduction functions (e.g. `skew`, `kurtosis`), the default behavior of `mode` typically preserves the axis it acts along. In SciPy 1.11.0, this behavior will change: the default value of `keepdims` will become False, the `axis` over which the statistic is taken will be eliminated, and the value None will no longer be accepted. Set `keepdims` to True or False to avoid this warning.\n",
            "  modes,_ = stats.mode(segm_reg.flatten(),axis=None,nan_policy=\"omit\")\n"
          ]
        },
        {
          "output_type": "stream",
          "name": "stdout",
          "text": [
            "/content/drive/MyDrive/s_data/scenarios/scenario5/Vehicle_2 vehicle.nissan.micra/lidar_nonroad/16.npy\n",
            "/content/drive/MyDrive/s_data/scenarios/scenario5/Vehicle_2 vehicle.nissan.micra/occupancy_grid/16.npy\n"
          ]
        },
        {
          "output_type": "stream",
          "name": "stderr",
          "text": [
            "<ipython-input-24-bd5f8f661648>:36: FutureWarning: Unlike other reduction functions (e.g. `skew`, `kurtosis`), the default behavior of `mode` typically preserves the axis it acts along. In SciPy 1.11.0, this behavior will change: the default value of `keepdims` will become False, the `axis` over which the statistic is taken will be eliminated, and the value None will no longer be accepted. Set `keepdims` to True or False to avoid this warning.\n",
            "  modes,_ = stats.mode(segm_reg.flatten(),axis=None,nan_policy=\"omit\")\n"
          ]
        },
        {
          "output_type": "stream",
          "name": "stdout",
          "text": [
            "/content/drive/MyDrive/s_data/scenarios/scenario5/Vehicle_2 vehicle.nissan.micra/lidar_nonroad/17.npy\n",
            "/content/drive/MyDrive/s_data/scenarios/scenario5/Vehicle_2 vehicle.nissan.micra/occupancy_grid/17.npy\n"
          ]
        },
        {
          "output_type": "stream",
          "name": "stderr",
          "text": [
            "<ipython-input-24-bd5f8f661648>:36: FutureWarning: Unlike other reduction functions (e.g. `skew`, `kurtosis`), the default behavior of `mode` typically preserves the axis it acts along. In SciPy 1.11.0, this behavior will change: the default value of `keepdims` will become False, the `axis` over which the statistic is taken will be eliminated, and the value None will no longer be accepted. Set `keepdims` to True or False to avoid this warning.\n",
            "  modes,_ = stats.mode(segm_reg.flatten(),axis=None,nan_policy=\"omit\")\n"
          ]
        },
        {
          "output_type": "stream",
          "name": "stdout",
          "text": [
            "/content/drive/MyDrive/s_data/scenarios/scenario5/Vehicle_2 vehicle.nissan.micra/lidar_nonroad/18.npy\n",
            "/content/drive/MyDrive/s_data/scenarios/scenario5/Vehicle_2 vehicle.nissan.micra/occupancy_grid/18.npy\n"
          ]
        },
        {
          "output_type": "stream",
          "name": "stderr",
          "text": [
            "<ipython-input-24-bd5f8f661648>:36: FutureWarning: Unlike other reduction functions (e.g. `skew`, `kurtosis`), the default behavior of `mode` typically preserves the axis it acts along. In SciPy 1.11.0, this behavior will change: the default value of `keepdims` will become False, the `axis` over which the statistic is taken will be eliminated, and the value None will no longer be accepted. Set `keepdims` to True or False to avoid this warning.\n",
            "  modes,_ = stats.mode(segm_reg.flatten(),axis=None,nan_policy=\"omit\")\n"
          ]
        },
        {
          "output_type": "stream",
          "name": "stdout",
          "text": [
            "/content/drive/MyDrive/s_data/scenarios/scenario5/Vehicle_2 vehicle.nissan.micra/lidar_nonroad/19.npy\n",
            "/content/drive/MyDrive/s_data/scenarios/scenario5/Vehicle_2 vehicle.nissan.micra/occupancy_grid/19.npy\n"
          ]
        },
        {
          "output_type": "stream",
          "name": "stderr",
          "text": [
            "<ipython-input-24-bd5f8f661648>:36: FutureWarning: Unlike other reduction functions (e.g. `skew`, `kurtosis`), the default behavior of `mode` typically preserves the axis it acts along. In SciPy 1.11.0, this behavior will change: the default value of `keepdims` will become False, the `axis` over which the statistic is taken will be eliminated, and the value None will no longer be accepted. Set `keepdims` to True or False to avoid this warning.\n",
            "  modes,_ = stats.mode(segm_reg.flatten(),axis=None,nan_policy=\"omit\")\n"
          ]
        },
        {
          "output_type": "stream",
          "name": "stdout",
          "text": [
            "/content/drive/MyDrive/s_data/scenarios/scenario5/Vehicle_2 vehicle.nissan.micra/lidar_nonroad/20.npy\n",
            "/content/drive/MyDrive/s_data/scenarios/scenario5/Vehicle_2 vehicle.nissan.micra/occupancy_grid/20.npy\n"
          ]
        },
        {
          "output_type": "stream",
          "name": "stderr",
          "text": [
            "<ipython-input-24-bd5f8f661648>:36: FutureWarning: Unlike other reduction functions (e.g. `skew`, `kurtosis`), the default behavior of `mode` typically preserves the axis it acts along. In SciPy 1.11.0, this behavior will change: the default value of `keepdims` will become False, the `axis` over which the statistic is taken will be eliminated, and the value None will no longer be accepted. Set `keepdims` to True or False to avoid this warning.\n",
            "  modes,_ = stats.mode(segm_reg.flatten(),axis=None,nan_policy=\"omit\")\n"
          ]
        },
        {
          "output_type": "stream",
          "name": "stdout",
          "text": [
            "/content/drive/MyDrive/s_data/scenarios/scenario5/Vehicle_2 vehicle.nissan.micra/lidar_nonroad/21.npy\n",
            "/content/drive/MyDrive/s_data/scenarios/scenario5/Vehicle_2 vehicle.nissan.micra/occupancy_grid/21.npy\n"
          ]
        },
        {
          "output_type": "stream",
          "name": "stderr",
          "text": [
            "<ipython-input-24-bd5f8f661648>:36: FutureWarning: Unlike other reduction functions (e.g. `skew`, `kurtosis`), the default behavior of `mode` typically preserves the axis it acts along. In SciPy 1.11.0, this behavior will change: the default value of `keepdims` will become False, the `axis` over which the statistic is taken will be eliminated, and the value None will no longer be accepted. Set `keepdims` to True or False to avoid this warning.\n",
            "  modes,_ = stats.mode(segm_reg.flatten(),axis=None,nan_policy=\"omit\")\n"
          ]
        },
        {
          "output_type": "stream",
          "name": "stdout",
          "text": [
            "/content/drive/MyDrive/s_data/scenarios/scenario5/Vehicle_2 vehicle.nissan.micra/lidar_nonroad/22.npy\n",
            "/content/drive/MyDrive/s_data/scenarios/scenario5/Vehicle_2 vehicle.nissan.micra/occupancy_grid/22.npy\n"
          ]
        },
        {
          "output_type": "stream",
          "name": "stderr",
          "text": [
            "<ipython-input-24-bd5f8f661648>:36: FutureWarning: Unlike other reduction functions (e.g. `skew`, `kurtosis`), the default behavior of `mode` typically preserves the axis it acts along. In SciPy 1.11.0, this behavior will change: the default value of `keepdims` will become False, the `axis` over which the statistic is taken will be eliminated, and the value None will no longer be accepted. Set `keepdims` to True or False to avoid this warning.\n",
            "  modes,_ = stats.mode(segm_reg.flatten(),axis=None,nan_policy=\"omit\")\n"
          ]
        },
        {
          "output_type": "stream",
          "name": "stdout",
          "text": [
            "/content/drive/MyDrive/s_data/scenarios/scenario5/Vehicle_2 vehicle.nissan.micra/lidar_nonroad/23.npy\n",
            "/content/drive/MyDrive/s_data/scenarios/scenario5/Vehicle_2 vehicle.nissan.micra/occupancy_grid/23.npy\n"
          ]
        },
        {
          "output_type": "stream",
          "name": "stderr",
          "text": [
            "<ipython-input-24-bd5f8f661648>:36: FutureWarning: Unlike other reduction functions (e.g. `skew`, `kurtosis`), the default behavior of `mode` typically preserves the axis it acts along. In SciPy 1.11.0, this behavior will change: the default value of `keepdims` will become False, the `axis` over which the statistic is taken will be eliminated, and the value None will no longer be accepted. Set `keepdims` to True or False to avoid this warning.\n",
            "  modes,_ = stats.mode(segm_reg.flatten(),axis=None,nan_policy=\"omit\")\n"
          ]
        },
        {
          "output_type": "stream",
          "name": "stdout",
          "text": [
            "/content/drive/MyDrive/s_data/scenarios/scenario5/Vehicle_2 vehicle.nissan.micra/lidar_nonroad/24.npy\n",
            "/content/drive/MyDrive/s_data/scenarios/scenario5/Vehicle_2 vehicle.nissan.micra/occupancy_grid/24.npy\n",
            "{'lidar_path': '/content/drive/MyDrive/s_data/scenarios/scenario5/Vehicle_3 vehicle.citroen.c3/Lidar', 'img_path': '/content/drive/MyDrive/s_data/scenarios/scenario5/Vehicle_3 vehicle.citroen.c3/rgb', 'lidar_matrices_path': '/content/drive/MyDrive/s_data/scenarios/scenario5/Vehicle_3 vehicle.citroen.c3/pos_matrices/lidar_2_world', 'camera_matrices_path': '/content/drive/MyDrive/s_data/scenarios/scenario5/Vehicle_3 vehicle.citroen.c3/pos_matrices/world_2_camera', 'camera_intrinsic_path': '/content/drive/MyDrive/s_data/scenarios/scenario5/Vehicle_3 vehicle.citroen.c3/pos_matrices/K.npy', 'num_files': 25, 'save_path': '/content/drive/MyDrive/s_data/scenarios/scenario5/Vehicle_3 vehicle.citroen.c3/occupancy_grid', 'save_path1': '/content/drive/MyDrive/s_data/scenarios/scenario5/Vehicle_3 vehicle.citroen.c3/lidar_nonroad'}\n"
          ]
        },
        {
          "output_type": "stream",
          "name": "stderr",
          "text": [
            "<ipython-input-24-bd5f8f661648>:36: FutureWarning: Unlike other reduction functions (e.g. `skew`, `kurtosis`), the default behavior of `mode` typically preserves the axis it acts along. In SciPy 1.11.0, this behavior will change: the default value of `keepdims` will become False, the `axis` over which the statistic is taken will be eliminated, and the value None will no longer be accepted. Set `keepdims` to True or False to avoid this warning.\n",
            "  modes,_ = stats.mode(segm_reg.flatten(),axis=None,nan_policy=\"omit\")\n"
          ]
        },
        {
          "output_type": "stream",
          "name": "stdout",
          "text": [
            "/content/drive/MyDrive/s_data/scenarios/scenario5/Vehicle_3 vehicle.citroen.c3/lidar_nonroad/0.npy\n",
            "/content/drive/MyDrive/s_data/scenarios/scenario5/Vehicle_3 vehicle.citroen.c3/occupancy_grid/0.npy\n"
          ]
        },
        {
          "output_type": "stream",
          "name": "stderr",
          "text": [
            "<ipython-input-24-bd5f8f661648>:36: FutureWarning: Unlike other reduction functions (e.g. `skew`, `kurtosis`), the default behavior of `mode` typically preserves the axis it acts along. In SciPy 1.11.0, this behavior will change: the default value of `keepdims` will become False, the `axis` over which the statistic is taken will be eliminated, and the value None will no longer be accepted. Set `keepdims` to True or False to avoid this warning.\n",
            "  modes,_ = stats.mode(segm_reg.flatten(),axis=None,nan_policy=\"omit\")\n"
          ]
        },
        {
          "output_type": "stream",
          "name": "stdout",
          "text": [
            "/content/drive/MyDrive/s_data/scenarios/scenario5/Vehicle_3 vehicle.citroen.c3/lidar_nonroad/1.npy\n",
            "/content/drive/MyDrive/s_data/scenarios/scenario5/Vehicle_3 vehicle.citroen.c3/occupancy_grid/1.npy\n"
          ]
        },
        {
          "output_type": "stream",
          "name": "stderr",
          "text": [
            "<ipython-input-24-bd5f8f661648>:36: FutureWarning: Unlike other reduction functions (e.g. `skew`, `kurtosis`), the default behavior of `mode` typically preserves the axis it acts along. In SciPy 1.11.0, this behavior will change: the default value of `keepdims` will become False, the `axis` over which the statistic is taken will be eliminated, and the value None will no longer be accepted. Set `keepdims` to True or False to avoid this warning.\n",
            "  modes,_ = stats.mode(segm_reg.flatten(),axis=None,nan_policy=\"omit\")\n"
          ]
        },
        {
          "output_type": "stream",
          "name": "stdout",
          "text": [
            "/content/drive/MyDrive/s_data/scenarios/scenario5/Vehicle_3 vehicle.citroen.c3/lidar_nonroad/2.npy\n",
            "/content/drive/MyDrive/s_data/scenarios/scenario5/Vehicle_3 vehicle.citroen.c3/occupancy_grid/2.npy\n"
          ]
        },
        {
          "output_type": "stream",
          "name": "stderr",
          "text": [
            "<ipython-input-24-bd5f8f661648>:36: FutureWarning: Unlike other reduction functions (e.g. `skew`, `kurtosis`), the default behavior of `mode` typically preserves the axis it acts along. In SciPy 1.11.0, this behavior will change: the default value of `keepdims` will become False, the `axis` over which the statistic is taken will be eliminated, and the value None will no longer be accepted. Set `keepdims` to True or False to avoid this warning.\n",
            "  modes,_ = stats.mode(segm_reg.flatten(),axis=None,nan_policy=\"omit\")\n"
          ]
        },
        {
          "output_type": "stream",
          "name": "stdout",
          "text": [
            "/content/drive/MyDrive/s_data/scenarios/scenario5/Vehicle_3 vehicle.citroen.c3/lidar_nonroad/3.npy\n",
            "/content/drive/MyDrive/s_data/scenarios/scenario5/Vehicle_3 vehicle.citroen.c3/occupancy_grid/3.npy\n"
          ]
        },
        {
          "output_type": "stream",
          "name": "stderr",
          "text": [
            "<ipython-input-24-bd5f8f661648>:36: FutureWarning: Unlike other reduction functions (e.g. `skew`, `kurtosis`), the default behavior of `mode` typically preserves the axis it acts along. In SciPy 1.11.0, this behavior will change: the default value of `keepdims` will become False, the `axis` over which the statistic is taken will be eliminated, and the value None will no longer be accepted. Set `keepdims` to True or False to avoid this warning.\n",
            "  modes,_ = stats.mode(segm_reg.flatten(),axis=None,nan_policy=\"omit\")\n"
          ]
        },
        {
          "output_type": "stream",
          "name": "stdout",
          "text": [
            "/content/drive/MyDrive/s_data/scenarios/scenario5/Vehicle_3 vehicle.citroen.c3/lidar_nonroad/4.npy\n",
            "/content/drive/MyDrive/s_data/scenarios/scenario5/Vehicle_3 vehicle.citroen.c3/occupancy_grid/4.npy\n"
          ]
        },
        {
          "output_type": "stream",
          "name": "stderr",
          "text": [
            "<ipython-input-24-bd5f8f661648>:36: FutureWarning: Unlike other reduction functions (e.g. `skew`, `kurtosis`), the default behavior of `mode` typically preserves the axis it acts along. In SciPy 1.11.0, this behavior will change: the default value of `keepdims` will become False, the `axis` over which the statistic is taken will be eliminated, and the value None will no longer be accepted. Set `keepdims` to True or False to avoid this warning.\n",
            "  modes,_ = stats.mode(segm_reg.flatten(),axis=None,nan_policy=\"omit\")\n"
          ]
        },
        {
          "output_type": "stream",
          "name": "stdout",
          "text": [
            "/content/drive/MyDrive/s_data/scenarios/scenario5/Vehicle_3 vehicle.citroen.c3/lidar_nonroad/5.npy\n",
            "/content/drive/MyDrive/s_data/scenarios/scenario5/Vehicle_3 vehicle.citroen.c3/occupancy_grid/5.npy\n"
          ]
        },
        {
          "output_type": "stream",
          "name": "stderr",
          "text": [
            "<ipython-input-24-bd5f8f661648>:36: FutureWarning: Unlike other reduction functions (e.g. `skew`, `kurtosis`), the default behavior of `mode` typically preserves the axis it acts along. In SciPy 1.11.0, this behavior will change: the default value of `keepdims` will become False, the `axis` over which the statistic is taken will be eliminated, and the value None will no longer be accepted. Set `keepdims` to True or False to avoid this warning.\n",
            "  modes,_ = stats.mode(segm_reg.flatten(),axis=None,nan_policy=\"omit\")\n"
          ]
        },
        {
          "output_type": "stream",
          "name": "stdout",
          "text": [
            "/content/drive/MyDrive/s_data/scenarios/scenario5/Vehicle_3 vehicle.citroen.c3/lidar_nonroad/6.npy\n",
            "/content/drive/MyDrive/s_data/scenarios/scenario5/Vehicle_3 vehicle.citroen.c3/occupancy_grid/6.npy\n"
          ]
        },
        {
          "output_type": "stream",
          "name": "stderr",
          "text": [
            "<ipython-input-24-bd5f8f661648>:36: FutureWarning: Unlike other reduction functions (e.g. `skew`, `kurtosis`), the default behavior of `mode` typically preserves the axis it acts along. In SciPy 1.11.0, this behavior will change: the default value of `keepdims` will become False, the `axis` over which the statistic is taken will be eliminated, and the value None will no longer be accepted. Set `keepdims` to True or False to avoid this warning.\n",
            "  modes,_ = stats.mode(segm_reg.flatten(),axis=None,nan_policy=\"omit\")\n"
          ]
        },
        {
          "output_type": "stream",
          "name": "stdout",
          "text": [
            "/content/drive/MyDrive/s_data/scenarios/scenario5/Vehicle_3 vehicle.citroen.c3/lidar_nonroad/7.npy\n",
            "/content/drive/MyDrive/s_data/scenarios/scenario5/Vehicle_3 vehicle.citroen.c3/occupancy_grid/7.npy\n"
          ]
        },
        {
          "output_type": "stream",
          "name": "stderr",
          "text": [
            "<ipython-input-24-bd5f8f661648>:36: FutureWarning: Unlike other reduction functions (e.g. `skew`, `kurtosis`), the default behavior of `mode` typically preserves the axis it acts along. In SciPy 1.11.0, this behavior will change: the default value of `keepdims` will become False, the `axis` over which the statistic is taken will be eliminated, and the value None will no longer be accepted. Set `keepdims` to True or False to avoid this warning.\n",
            "  modes,_ = stats.mode(segm_reg.flatten(),axis=None,nan_policy=\"omit\")\n"
          ]
        },
        {
          "output_type": "stream",
          "name": "stdout",
          "text": [
            "/content/drive/MyDrive/s_data/scenarios/scenario5/Vehicle_3 vehicle.citroen.c3/lidar_nonroad/8.npy\n",
            "/content/drive/MyDrive/s_data/scenarios/scenario5/Vehicle_3 vehicle.citroen.c3/occupancy_grid/8.npy\n"
          ]
        },
        {
          "output_type": "stream",
          "name": "stderr",
          "text": [
            "<ipython-input-24-bd5f8f661648>:36: FutureWarning: Unlike other reduction functions (e.g. `skew`, `kurtosis`), the default behavior of `mode` typically preserves the axis it acts along. In SciPy 1.11.0, this behavior will change: the default value of `keepdims` will become False, the `axis` over which the statistic is taken will be eliminated, and the value None will no longer be accepted. Set `keepdims` to True or False to avoid this warning.\n",
            "  modes,_ = stats.mode(segm_reg.flatten(),axis=None,nan_policy=\"omit\")\n"
          ]
        },
        {
          "output_type": "stream",
          "name": "stdout",
          "text": [
            "/content/drive/MyDrive/s_data/scenarios/scenario5/Vehicle_3 vehicle.citroen.c3/lidar_nonroad/9.npy\n",
            "/content/drive/MyDrive/s_data/scenarios/scenario5/Vehicle_3 vehicle.citroen.c3/occupancy_grid/9.npy\n"
          ]
        },
        {
          "output_type": "stream",
          "name": "stderr",
          "text": [
            "<ipython-input-24-bd5f8f661648>:36: FutureWarning: Unlike other reduction functions (e.g. `skew`, `kurtosis`), the default behavior of `mode` typically preserves the axis it acts along. In SciPy 1.11.0, this behavior will change: the default value of `keepdims` will become False, the `axis` over which the statistic is taken will be eliminated, and the value None will no longer be accepted. Set `keepdims` to True or False to avoid this warning.\n",
            "  modes,_ = stats.mode(segm_reg.flatten(),axis=None,nan_policy=\"omit\")\n"
          ]
        },
        {
          "output_type": "stream",
          "name": "stdout",
          "text": [
            "/content/drive/MyDrive/s_data/scenarios/scenario5/Vehicle_3 vehicle.citroen.c3/lidar_nonroad/10.npy\n",
            "/content/drive/MyDrive/s_data/scenarios/scenario5/Vehicle_3 vehicle.citroen.c3/occupancy_grid/10.npy\n"
          ]
        },
        {
          "output_type": "stream",
          "name": "stderr",
          "text": [
            "<ipython-input-24-bd5f8f661648>:36: FutureWarning: Unlike other reduction functions (e.g. `skew`, `kurtosis`), the default behavior of `mode` typically preserves the axis it acts along. In SciPy 1.11.0, this behavior will change: the default value of `keepdims` will become False, the `axis` over which the statistic is taken will be eliminated, and the value None will no longer be accepted. Set `keepdims` to True or False to avoid this warning.\n",
            "  modes,_ = stats.mode(segm_reg.flatten(),axis=None,nan_policy=\"omit\")\n"
          ]
        },
        {
          "output_type": "stream",
          "name": "stdout",
          "text": [
            "/content/drive/MyDrive/s_data/scenarios/scenario5/Vehicle_3 vehicle.citroen.c3/lidar_nonroad/11.npy\n",
            "/content/drive/MyDrive/s_data/scenarios/scenario5/Vehicle_3 vehicle.citroen.c3/occupancy_grid/11.npy\n"
          ]
        },
        {
          "output_type": "stream",
          "name": "stderr",
          "text": [
            "<ipython-input-24-bd5f8f661648>:36: FutureWarning: Unlike other reduction functions (e.g. `skew`, `kurtosis`), the default behavior of `mode` typically preserves the axis it acts along. In SciPy 1.11.0, this behavior will change: the default value of `keepdims` will become False, the `axis` over which the statistic is taken will be eliminated, and the value None will no longer be accepted. Set `keepdims` to True or False to avoid this warning.\n",
            "  modes,_ = stats.mode(segm_reg.flatten(),axis=None,nan_policy=\"omit\")\n"
          ]
        },
        {
          "output_type": "stream",
          "name": "stdout",
          "text": [
            "/content/drive/MyDrive/s_data/scenarios/scenario5/Vehicle_3 vehicle.citroen.c3/lidar_nonroad/12.npy\n",
            "/content/drive/MyDrive/s_data/scenarios/scenario5/Vehicle_3 vehicle.citroen.c3/occupancy_grid/12.npy\n"
          ]
        },
        {
          "output_type": "stream",
          "name": "stderr",
          "text": [
            "<ipython-input-24-bd5f8f661648>:36: FutureWarning: Unlike other reduction functions (e.g. `skew`, `kurtosis`), the default behavior of `mode` typically preserves the axis it acts along. In SciPy 1.11.0, this behavior will change: the default value of `keepdims` will become False, the `axis` over which the statistic is taken will be eliminated, and the value None will no longer be accepted. Set `keepdims` to True or False to avoid this warning.\n",
            "  modes,_ = stats.mode(segm_reg.flatten(),axis=None,nan_policy=\"omit\")\n"
          ]
        },
        {
          "output_type": "stream",
          "name": "stdout",
          "text": [
            "/content/drive/MyDrive/s_data/scenarios/scenario5/Vehicle_3 vehicle.citroen.c3/lidar_nonroad/13.npy\n",
            "/content/drive/MyDrive/s_data/scenarios/scenario5/Vehicle_3 vehicle.citroen.c3/occupancy_grid/13.npy\n"
          ]
        },
        {
          "output_type": "stream",
          "name": "stderr",
          "text": [
            "<ipython-input-24-bd5f8f661648>:36: FutureWarning: Unlike other reduction functions (e.g. `skew`, `kurtosis`), the default behavior of `mode` typically preserves the axis it acts along. In SciPy 1.11.0, this behavior will change: the default value of `keepdims` will become False, the `axis` over which the statistic is taken will be eliminated, and the value None will no longer be accepted. Set `keepdims` to True or False to avoid this warning.\n",
            "  modes,_ = stats.mode(segm_reg.flatten(),axis=None,nan_policy=\"omit\")\n"
          ]
        },
        {
          "output_type": "stream",
          "name": "stdout",
          "text": [
            "/content/drive/MyDrive/s_data/scenarios/scenario5/Vehicle_3 vehicle.citroen.c3/lidar_nonroad/14.npy\n",
            "/content/drive/MyDrive/s_data/scenarios/scenario5/Vehicle_3 vehicle.citroen.c3/occupancy_grid/14.npy\n"
          ]
        },
        {
          "output_type": "stream",
          "name": "stderr",
          "text": [
            "<ipython-input-24-bd5f8f661648>:36: FutureWarning: Unlike other reduction functions (e.g. `skew`, `kurtosis`), the default behavior of `mode` typically preserves the axis it acts along. In SciPy 1.11.0, this behavior will change: the default value of `keepdims` will become False, the `axis` over which the statistic is taken will be eliminated, and the value None will no longer be accepted. Set `keepdims` to True or False to avoid this warning.\n",
            "  modes,_ = stats.mode(segm_reg.flatten(),axis=None,nan_policy=\"omit\")\n"
          ]
        },
        {
          "output_type": "stream",
          "name": "stdout",
          "text": [
            "/content/drive/MyDrive/s_data/scenarios/scenario5/Vehicle_3 vehicle.citroen.c3/lidar_nonroad/15.npy\n",
            "/content/drive/MyDrive/s_data/scenarios/scenario5/Vehicle_3 vehicle.citroen.c3/occupancy_grid/15.npy\n"
          ]
        },
        {
          "output_type": "stream",
          "name": "stderr",
          "text": [
            "<ipython-input-24-bd5f8f661648>:36: FutureWarning: Unlike other reduction functions (e.g. `skew`, `kurtosis`), the default behavior of `mode` typically preserves the axis it acts along. In SciPy 1.11.0, this behavior will change: the default value of `keepdims` will become False, the `axis` over which the statistic is taken will be eliminated, and the value None will no longer be accepted. Set `keepdims` to True or False to avoid this warning.\n",
            "  modes,_ = stats.mode(segm_reg.flatten(),axis=None,nan_policy=\"omit\")\n"
          ]
        },
        {
          "output_type": "stream",
          "name": "stdout",
          "text": [
            "/content/drive/MyDrive/s_data/scenarios/scenario5/Vehicle_3 vehicle.citroen.c3/lidar_nonroad/16.npy\n",
            "/content/drive/MyDrive/s_data/scenarios/scenario5/Vehicle_3 vehicle.citroen.c3/occupancy_grid/16.npy\n"
          ]
        },
        {
          "output_type": "stream",
          "name": "stderr",
          "text": [
            "<ipython-input-24-bd5f8f661648>:36: FutureWarning: Unlike other reduction functions (e.g. `skew`, `kurtosis`), the default behavior of `mode` typically preserves the axis it acts along. In SciPy 1.11.0, this behavior will change: the default value of `keepdims` will become False, the `axis` over which the statistic is taken will be eliminated, and the value None will no longer be accepted. Set `keepdims` to True or False to avoid this warning.\n",
            "  modes,_ = stats.mode(segm_reg.flatten(),axis=None,nan_policy=\"omit\")\n"
          ]
        },
        {
          "output_type": "stream",
          "name": "stdout",
          "text": [
            "/content/drive/MyDrive/s_data/scenarios/scenario5/Vehicle_3 vehicle.citroen.c3/lidar_nonroad/17.npy\n",
            "/content/drive/MyDrive/s_data/scenarios/scenario5/Vehicle_3 vehicle.citroen.c3/occupancy_grid/17.npy\n"
          ]
        },
        {
          "output_type": "stream",
          "name": "stderr",
          "text": [
            "<ipython-input-24-bd5f8f661648>:36: FutureWarning: Unlike other reduction functions (e.g. `skew`, `kurtosis`), the default behavior of `mode` typically preserves the axis it acts along. In SciPy 1.11.0, this behavior will change: the default value of `keepdims` will become False, the `axis` over which the statistic is taken will be eliminated, and the value None will no longer be accepted. Set `keepdims` to True or False to avoid this warning.\n",
            "  modes,_ = stats.mode(segm_reg.flatten(),axis=None,nan_policy=\"omit\")\n"
          ]
        },
        {
          "output_type": "stream",
          "name": "stdout",
          "text": [
            "/content/drive/MyDrive/s_data/scenarios/scenario5/Vehicle_3 vehicle.citroen.c3/lidar_nonroad/18.npy\n",
            "/content/drive/MyDrive/s_data/scenarios/scenario5/Vehicle_3 vehicle.citroen.c3/occupancy_grid/18.npy\n"
          ]
        },
        {
          "output_type": "stream",
          "name": "stderr",
          "text": [
            "<ipython-input-24-bd5f8f661648>:36: FutureWarning: Unlike other reduction functions (e.g. `skew`, `kurtosis`), the default behavior of `mode` typically preserves the axis it acts along. In SciPy 1.11.0, this behavior will change: the default value of `keepdims` will become False, the `axis` over which the statistic is taken will be eliminated, and the value None will no longer be accepted. Set `keepdims` to True or False to avoid this warning.\n",
            "  modes,_ = stats.mode(segm_reg.flatten(),axis=None,nan_policy=\"omit\")\n"
          ]
        },
        {
          "output_type": "stream",
          "name": "stdout",
          "text": [
            "/content/drive/MyDrive/s_data/scenarios/scenario5/Vehicle_3 vehicle.citroen.c3/lidar_nonroad/19.npy\n",
            "/content/drive/MyDrive/s_data/scenarios/scenario5/Vehicle_3 vehicle.citroen.c3/occupancy_grid/19.npy\n"
          ]
        },
        {
          "output_type": "stream",
          "name": "stderr",
          "text": [
            "<ipython-input-24-bd5f8f661648>:36: FutureWarning: Unlike other reduction functions (e.g. `skew`, `kurtosis`), the default behavior of `mode` typically preserves the axis it acts along. In SciPy 1.11.0, this behavior will change: the default value of `keepdims` will become False, the `axis` over which the statistic is taken will be eliminated, and the value None will no longer be accepted. Set `keepdims` to True or False to avoid this warning.\n",
            "  modes,_ = stats.mode(segm_reg.flatten(),axis=None,nan_policy=\"omit\")\n"
          ]
        },
        {
          "output_type": "stream",
          "name": "stdout",
          "text": [
            "/content/drive/MyDrive/s_data/scenarios/scenario5/Vehicle_3 vehicle.citroen.c3/lidar_nonroad/20.npy\n",
            "/content/drive/MyDrive/s_data/scenarios/scenario5/Vehicle_3 vehicle.citroen.c3/occupancy_grid/20.npy\n"
          ]
        },
        {
          "output_type": "stream",
          "name": "stderr",
          "text": [
            "<ipython-input-24-bd5f8f661648>:36: FutureWarning: Unlike other reduction functions (e.g. `skew`, `kurtosis`), the default behavior of `mode` typically preserves the axis it acts along. In SciPy 1.11.0, this behavior will change: the default value of `keepdims` will become False, the `axis` over which the statistic is taken will be eliminated, and the value None will no longer be accepted. Set `keepdims` to True or False to avoid this warning.\n",
            "  modes,_ = stats.mode(segm_reg.flatten(),axis=None,nan_policy=\"omit\")\n"
          ]
        },
        {
          "output_type": "stream",
          "name": "stdout",
          "text": [
            "/content/drive/MyDrive/s_data/scenarios/scenario5/Vehicle_3 vehicle.citroen.c3/lidar_nonroad/21.npy\n",
            "/content/drive/MyDrive/s_data/scenarios/scenario5/Vehicle_3 vehicle.citroen.c3/occupancy_grid/21.npy\n"
          ]
        },
        {
          "output_type": "stream",
          "name": "stderr",
          "text": [
            "<ipython-input-24-bd5f8f661648>:36: FutureWarning: Unlike other reduction functions (e.g. `skew`, `kurtosis`), the default behavior of `mode` typically preserves the axis it acts along. In SciPy 1.11.0, this behavior will change: the default value of `keepdims` will become False, the `axis` over which the statistic is taken will be eliminated, and the value None will no longer be accepted. Set `keepdims` to True or False to avoid this warning.\n",
            "  modes,_ = stats.mode(segm_reg.flatten(),axis=None,nan_policy=\"omit\")\n"
          ]
        },
        {
          "output_type": "stream",
          "name": "stdout",
          "text": [
            "/content/drive/MyDrive/s_data/scenarios/scenario5/Vehicle_3 vehicle.citroen.c3/lidar_nonroad/22.npy\n",
            "/content/drive/MyDrive/s_data/scenarios/scenario5/Vehicle_3 vehicle.citroen.c3/occupancy_grid/22.npy\n"
          ]
        },
        {
          "output_type": "stream",
          "name": "stderr",
          "text": [
            "<ipython-input-24-bd5f8f661648>:36: FutureWarning: Unlike other reduction functions (e.g. `skew`, `kurtosis`), the default behavior of `mode` typically preserves the axis it acts along. In SciPy 1.11.0, this behavior will change: the default value of `keepdims` will become False, the `axis` over which the statistic is taken will be eliminated, and the value None will no longer be accepted. Set `keepdims` to True or False to avoid this warning.\n",
            "  modes,_ = stats.mode(segm_reg.flatten(),axis=None,nan_policy=\"omit\")\n"
          ]
        },
        {
          "output_type": "stream",
          "name": "stdout",
          "text": [
            "/content/drive/MyDrive/s_data/scenarios/scenario5/Vehicle_3 vehicle.citroen.c3/lidar_nonroad/23.npy\n",
            "/content/drive/MyDrive/s_data/scenarios/scenario5/Vehicle_3 vehicle.citroen.c3/occupancy_grid/23.npy\n"
          ]
        },
        {
          "output_type": "stream",
          "name": "stderr",
          "text": [
            "<ipython-input-24-bd5f8f661648>:36: FutureWarning: Unlike other reduction functions (e.g. `skew`, `kurtosis`), the default behavior of `mode` typically preserves the axis it acts along. In SciPy 1.11.0, this behavior will change: the default value of `keepdims` will become False, the `axis` over which the statistic is taken will be eliminated, and the value None will no longer be accepted. Set `keepdims` to True or False to avoid this warning.\n",
            "  modes,_ = stats.mode(segm_reg.flatten(),axis=None,nan_policy=\"omit\")\n"
          ]
        },
        {
          "output_type": "stream",
          "name": "stdout",
          "text": [
            "/content/drive/MyDrive/s_data/scenarios/scenario5/Vehicle_3 vehicle.citroen.c3/lidar_nonroad/24.npy\n",
            "/content/drive/MyDrive/s_data/scenarios/scenario5/Vehicle_3 vehicle.citroen.c3/occupancy_grid/24.npy\n",
            "{'lidar_path': '/content/drive/MyDrive/s_data/scenarios/scenario5/Vehicle_1 vehicle.tesla.model3/Lidar', 'img_path': '/content/drive/MyDrive/s_data/scenarios/scenario5/Vehicle_1 vehicle.tesla.model3/rgb', 'lidar_matrices_path': '/content/drive/MyDrive/s_data/scenarios/scenario5/Vehicle_1 vehicle.tesla.model3/pos_matrices/lidar_2_world', 'camera_matrices_path': '/content/drive/MyDrive/s_data/scenarios/scenario5/Vehicle_1 vehicle.tesla.model3/pos_matrices/world_2_camera', 'camera_intrinsic_path': '/content/drive/MyDrive/s_data/scenarios/scenario5/Vehicle_1 vehicle.tesla.model3/pos_matrices/K.npy', 'num_files': 25, 'save_path': '/content/drive/MyDrive/s_data/scenarios/scenario5/Vehicle_1 vehicle.tesla.model3/occupancy_grid', 'save_path1': '/content/drive/MyDrive/s_data/scenarios/scenario5/Vehicle_1 vehicle.tesla.model3/lidar_nonroad'}\n"
          ]
        },
        {
          "output_type": "stream",
          "name": "stderr",
          "text": [
            "<ipython-input-24-bd5f8f661648>:36: FutureWarning: Unlike other reduction functions (e.g. `skew`, `kurtosis`), the default behavior of `mode` typically preserves the axis it acts along. In SciPy 1.11.0, this behavior will change: the default value of `keepdims` will become False, the `axis` over which the statistic is taken will be eliminated, and the value None will no longer be accepted. Set `keepdims` to True or False to avoid this warning.\n",
            "  modes,_ = stats.mode(segm_reg.flatten(),axis=None,nan_policy=\"omit\")\n"
          ]
        },
        {
          "output_type": "stream",
          "name": "stdout",
          "text": [
            "/content/drive/MyDrive/s_data/scenarios/scenario5/Vehicle_1 vehicle.tesla.model3/lidar_nonroad/0.npy\n",
            "/content/drive/MyDrive/s_data/scenarios/scenario5/Vehicle_1 vehicle.tesla.model3/occupancy_grid/0.npy\n"
          ]
        },
        {
          "output_type": "stream",
          "name": "stderr",
          "text": [
            "<ipython-input-24-bd5f8f661648>:36: FutureWarning: Unlike other reduction functions (e.g. `skew`, `kurtosis`), the default behavior of `mode` typically preserves the axis it acts along. In SciPy 1.11.0, this behavior will change: the default value of `keepdims` will become False, the `axis` over which the statistic is taken will be eliminated, and the value None will no longer be accepted. Set `keepdims` to True or False to avoid this warning.\n",
            "  modes,_ = stats.mode(segm_reg.flatten(),axis=None,nan_policy=\"omit\")\n"
          ]
        },
        {
          "output_type": "stream",
          "name": "stdout",
          "text": [
            "/content/drive/MyDrive/s_data/scenarios/scenario5/Vehicle_1 vehicle.tesla.model3/lidar_nonroad/1.npy\n",
            "/content/drive/MyDrive/s_data/scenarios/scenario5/Vehicle_1 vehicle.tesla.model3/occupancy_grid/1.npy\n"
          ]
        },
        {
          "output_type": "stream",
          "name": "stderr",
          "text": [
            "<ipython-input-24-bd5f8f661648>:36: FutureWarning: Unlike other reduction functions (e.g. `skew`, `kurtosis`), the default behavior of `mode` typically preserves the axis it acts along. In SciPy 1.11.0, this behavior will change: the default value of `keepdims` will become False, the `axis` over which the statistic is taken will be eliminated, and the value None will no longer be accepted. Set `keepdims` to True or False to avoid this warning.\n",
            "  modes,_ = stats.mode(segm_reg.flatten(),axis=None,nan_policy=\"omit\")\n"
          ]
        },
        {
          "output_type": "stream",
          "name": "stdout",
          "text": [
            "/content/drive/MyDrive/s_data/scenarios/scenario5/Vehicle_1 vehicle.tesla.model3/lidar_nonroad/2.npy\n",
            "/content/drive/MyDrive/s_data/scenarios/scenario5/Vehicle_1 vehicle.tesla.model3/occupancy_grid/2.npy\n"
          ]
        },
        {
          "output_type": "stream",
          "name": "stderr",
          "text": [
            "<ipython-input-24-bd5f8f661648>:36: FutureWarning: Unlike other reduction functions (e.g. `skew`, `kurtosis`), the default behavior of `mode` typically preserves the axis it acts along. In SciPy 1.11.0, this behavior will change: the default value of `keepdims` will become False, the `axis` over which the statistic is taken will be eliminated, and the value None will no longer be accepted. Set `keepdims` to True or False to avoid this warning.\n",
            "  modes,_ = stats.mode(segm_reg.flatten(),axis=None,nan_policy=\"omit\")\n"
          ]
        },
        {
          "output_type": "stream",
          "name": "stdout",
          "text": [
            "/content/drive/MyDrive/s_data/scenarios/scenario5/Vehicle_1 vehicle.tesla.model3/lidar_nonroad/3.npy\n",
            "/content/drive/MyDrive/s_data/scenarios/scenario5/Vehicle_1 vehicle.tesla.model3/occupancy_grid/3.npy\n"
          ]
        },
        {
          "output_type": "stream",
          "name": "stderr",
          "text": [
            "<ipython-input-24-bd5f8f661648>:36: FutureWarning: Unlike other reduction functions (e.g. `skew`, `kurtosis`), the default behavior of `mode` typically preserves the axis it acts along. In SciPy 1.11.0, this behavior will change: the default value of `keepdims` will become False, the `axis` over which the statistic is taken will be eliminated, and the value None will no longer be accepted. Set `keepdims` to True or False to avoid this warning.\n",
            "  modes,_ = stats.mode(segm_reg.flatten(),axis=None,nan_policy=\"omit\")\n"
          ]
        },
        {
          "output_type": "stream",
          "name": "stdout",
          "text": [
            "/content/drive/MyDrive/s_data/scenarios/scenario5/Vehicle_1 vehicle.tesla.model3/lidar_nonroad/4.npy\n",
            "/content/drive/MyDrive/s_data/scenarios/scenario5/Vehicle_1 vehicle.tesla.model3/occupancy_grid/4.npy\n"
          ]
        },
        {
          "output_type": "stream",
          "name": "stderr",
          "text": [
            "<ipython-input-24-bd5f8f661648>:36: FutureWarning: Unlike other reduction functions (e.g. `skew`, `kurtosis`), the default behavior of `mode` typically preserves the axis it acts along. In SciPy 1.11.0, this behavior will change: the default value of `keepdims` will become False, the `axis` over which the statistic is taken will be eliminated, and the value None will no longer be accepted. Set `keepdims` to True or False to avoid this warning.\n",
            "  modes,_ = stats.mode(segm_reg.flatten(),axis=None,nan_policy=\"omit\")\n"
          ]
        },
        {
          "output_type": "stream",
          "name": "stdout",
          "text": [
            "/content/drive/MyDrive/s_data/scenarios/scenario5/Vehicle_1 vehicle.tesla.model3/lidar_nonroad/5.npy\n",
            "/content/drive/MyDrive/s_data/scenarios/scenario5/Vehicle_1 vehicle.tesla.model3/occupancy_grid/5.npy\n"
          ]
        },
        {
          "output_type": "stream",
          "name": "stderr",
          "text": [
            "<ipython-input-24-bd5f8f661648>:36: FutureWarning: Unlike other reduction functions (e.g. `skew`, `kurtosis`), the default behavior of `mode` typically preserves the axis it acts along. In SciPy 1.11.0, this behavior will change: the default value of `keepdims` will become False, the `axis` over which the statistic is taken will be eliminated, and the value None will no longer be accepted. Set `keepdims` to True or False to avoid this warning.\n",
            "  modes,_ = stats.mode(segm_reg.flatten(),axis=None,nan_policy=\"omit\")\n"
          ]
        },
        {
          "output_type": "stream",
          "name": "stdout",
          "text": [
            "/content/drive/MyDrive/s_data/scenarios/scenario5/Vehicle_1 vehicle.tesla.model3/lidar_nonroad/6.npy\n",
            "/content/drive/MyDrive/s_data/scenarios/scenario5/Vehicle_1 vehicle.tesla.model3/occupancy_grid/6.npy\n"
          ]
        },
        {
          "output_type": "stream",
          "name": "stderr",
          "text": [
            "<ipython-input-24-bd5f8f661648>:36: FutureWarning: Unlike other reduction functions (e.g. `skew`, `kurtosis`), the default behavior of `mode` typically preserves the axis it acts along. In SciPy 1.11.0, this behavior will change: the default value of `keepdims` will become False, the `axis` over which the statistic is taken will be eliminated, and the value None will no longer be accepted. Set `keepdims` to True or False to avoid this warning.\n",
            "  modes,_ = stats.mode(segm_reg.flatten(),axis=None,nan_policy=\"omit\")\n"
          ]
        },
        {
          "output_type": "stream",
          "name": "stdout",
          "text": [
            "/content/drive/MyDrive/s_data/scenarios/scenario5/Vehicle_1 vehicle.tesla.model3/lidar_nonroad/7.npy\n",
            "/content/drive/MyDrive/s_data/scenarios/scenario5/Vehicle_1 vehicle.tesla.model3/occupancy_grid/7.npy\n"
          ]
        },
        {
          "output_type": "stream",
          "name": "stderr",
          "text": [
            "<ipython-input-24-bd5f8f661648>:36: FutureWarning: Unlike other reduction functions (e.g. `skew`, `kurtosis`), the default behavior of `mode` typically preserves the axis it acts along. In SciPy 1.11.0, this behavior will change: the default value of `keepdims` will become False, the `axis` over which the statistic is taken will be eliminated, and the value None will no longer be accepted. Set `keepdims` to True or False to avoid this warning.\n",
            "  modes,_ = stats.mode(segm_reg.flatten(),axis=None,nan_policy=\"omit\")\n"
          ]
        },
        {
          "output_type": "stream",
          "name": "stdout",
          "text": [
            "/content/drive/MyDrive/s_data/scenarios/scenario5/Vehicle_1 vehicle.tesla.model3/lidar_nonroad/8.npy\n",
            "/content/drive/MyDrive/s_data/scenarios/scenario5/Vehicle_1 vehicle.tesla.model3/occupancy_grid/8.npy\n"
          ]
        },
        {
          "output_type": "stream",
          "name": "stderr",
          "text": [
            "<ipython-input-24-bd5f8f661648>:36: FutureWarning: Unlike other reduction functions (e.g. `skew`, `kurtosis`), the default behavior of `mode` typically preserves the axis it acts along. In SciPy 1.11.0, this behavior will change: the default value of `keepdims` will become False, the `axis` over which the statistic is taken will be eliminated, and the value None will no longer be accepted. Set `keepdims` to True or False to avoid this warning.\n",
            "  modes,_ = stats.mode(segm_reg.flatten(),axis=None,nan_policy=\"omit\")\n"
          ]
        },
        {
          "output_type": "stream",
          "name": "stdout",
          "text": [
            "/content/drive/MyDrive/s_data/scenarios/scenario5/Vehicle_1 vehicle.tesla.model3/lidar_nonroad/9.npy\n",
            "/content/drive/MyDrive/s_data/scenarios/scenario5/Vehicle_1 vehicle.tesla.model3/occupancy_grid/9.npy\n"
          ]
        },
        {
          "output_type": "stream",
          "name": "stderr",
          "text": [
            "<ipython-input-24-bd5f8f661648>:36: FutureWarning: Unlike other reduction functions (e.g. `skew`, `kurtosis`), the default behavior of `mode` typically preserves the axis it acts along. In SciPy 1.11.0, this behavior will change: the default value of `keepdims` will become False, the `axis` over which the statistic is taken will be eliminated, and the value None will no longer be accepted. Set `keepdims` to True or False to avoid this warning.\n",
            "  modes,_ = stats.mode(segm_reg.flatten(),axis=None,nan_policy=\"omit\")\n"
          ]
        },
        {
          "output_type": "stream",
          "name": "stdout",
          "text": [
            "/content/drive/MyDrive/s_data/scenarios/scenario5/Vehicle_1 vehicle.tesla.model3/lidar_nonroad/10.npy\n",
            "/content/drive/MyDrive/s_data/scenarios/scenario5/Vehicle_1 vehicle.tesla.model3/occupancy_grid/10.npy\n"
          ]
        },
        {
          "output_type": "stream",
          "name": "stderr",
          "text": [
            "<ipython-input-24-bd5f8f661648>:36: FutureWarning: Unlike other reduction functions (e.g. `skew`, `kurtosis`), the default behavior of `mode` typically preserves the axis it acts along. In SciPy 1.11.0, this behavior will change: the default value of `keepdims` will become False, the `axis` over which the statistic is taken will be eliminated, and the value None will no longer be accepted. Set `keepdims` to True or False to avoid this warning.\n",
            "  modes,_ = stats.mode(segm_reg.flatten(),axis=None,nan_policy=\"omit\")\n"
          ]
        },
        {
          "output_type": "stream",
          "name": "stdout",
          "text": [
            "/content/drive/MyDrive/s_data/scenarios/scenario5/Vehicle_1 vehicle.tesla.model3/lidar_nonroad/11.npy\n",
            "/content/drive/MyDrive/s_data/scenarios/scenario5/Vehicle_1 vehicle.tesla.model3/occupancy_grid/11.npy\n"
          ]
        },
        {
          "output_type": "stream",
          "name": "stderr",
          "text": [
            "<ipython-input-24-bd5f8f661648>:36: FutureWarning: Unlike other reduction functions (e.g. `skew`, `kurtosis`), the default behavior of `mode` typically preserves the axis it acts along. In SciPy 1.11.0, this behavior will change: the default value of `keepdims` will become False, the `axis` over which the statistic is taken will be eliminated, and the value None will no longer be accepted. Set `keepdims` to True or False to avoid this warning.\n",
            "  modes,_ = stats.mode(segm_reg.flatten(),axis=None,nan_policy=\"omit\")\n"
          ]
        },
        {
          "output_type": "stream",
          "name": "stdout",
          "text": [
            "/content/drive/MyDrive/s_data/scenarios/scenario5/Vehicle_1 vehicle.tesla.model3/lidar_nonroad/12.npy\n",
            "/content/drive/MyDrive/s_data/scenarios/scenario5/Vehicle_1 vehicle.tesla.model3/occupancy_grid/12.npy\n"
          ]
        },
        {
          "output_type": "stream",
          "name": "stderr",
          "text": [
            "<ipython-input-24-bd5f8f661648>:36: FutureWarning: Unlike other reduction functions (e.g. `skew`, `kurtosis`), the default behavior of `mode` typically preserves the axis it acts along. In SciPy 1.11.0, this behavior will change: the default value of `keepdims` will become False, the `axis` over which the statistic is taken will be eliminated, and the value None will no longer be accepted. Set `keepdims` to True or False to avoid this warning.\n",
            "  modes,_ = stats.mode(segm_reg.flatten(),axis=None,nan_policy=\"omit\")\n"
          ]
        },
        {
          "output_type": "stream",
          "name": "stdout",
          "text": [
            "/content/drive/MyDrive/s_data/scenarios/scenario5/Vehicle_1 vehicle.tesla.model3/lidar_nonroad/13.npy\n",
            "/content/drive/MyDrive/s_data/scenarios/scenario5/Vehicle_1 vehicle.tesla.model3/occupancy_grid/13.npy\n"
          ]
        },
        {
          "output_type": "stream",
          "name": "stderr",
          "text": [
            "<ipython-input-24-bd5f8f661648>:36: FutureWarning: Unlike other reduction functions (e.g. `skew`, `kurtosis`), the default behavior of `mode` typically preserves the axis it acts along. In SciPy 1.11.0, this behavior will change: the default value of `keepdims` will become False, the `axis` over which the statistic is taken will be eliminated, and the value None will no longer be accepted. Set `keepdims` to True or False to avoid this warning.\n",
            "  modes,_ = stats.mode(segm_reg.flatten(),axis=None,nan_policy=\"omit\")\n"
          ]
        },
        {
          "output_type": "stream",
          "name": "stdout",
          "text": [
            "/content/drive/MyDrive/s_data/scenarios/scenario5/Vehicle_1 vehicle.tesla.model3/lidar_nonroad/14.npy\n",
            "/content/drive/MyDrive/s_data/scenarios/scenario5/Vehicle_1 vehicle.tesla.model3/occupancy_grid/14.npy\n"
          ]
        },
        {
          "output_type": "stream",
          "name": "stderr",
          "text": [
            "<ipython-input-24-bd5f8f661648>:36: FutureWarning: Unlike other reduction functions (e.g. `skew`, `kurtosis`), the default behavior of `mode` typically preserves the axis it acts along. In SciPy 1.11.0, this behavior will change: the default value of `keepdims` will become False, the `axis` over which the statistic is taken will be eliminated, and the value None will no longer be accepted. Set `keepdims` to True or False to avoid this warning.\n",
            "  modes,_ = stats.mode(segm_reg.flatten(),axis=None,nan_policy=\"omit\")\n"
          ]
        },
        {
          "output_type": "stream",
          "name": "stdout",
          "text": [
            "/content/drive/MyDrive/s_data/scenarios/scenario5/Vehicle_1 vehicle.tesla.model3/lidar_nonroad/15.npy\n",
            "/content/drive/MyDrive/s_data/scenarios/scenario5/Vehicle_1 vehicle.tesla.model3/occupancy_grid/15.npy\n"
          ]
        },
        {
          "output_type": "stream",
          "name": "stderr",
          "text": [
            "<ipython-input-24-bd5f8f661648>:36: FutureWarning: Unlike other reduction functions (e.g. `skew`, `kurtosis`), the default behavior of `mode` typically preserves the axis it acts along. In SciPy 1.11.0, this behavior will change: the default value of `keepdims` will become False, the `axis` over which the statistic is taken will be eliminated, and the value None will no longer be accepted. Set `keepdims` to True or False to avoid this warning.\n",
            "  modes,_ = stats.mode(segm_reg.flatten(),axis=None,nan_policy=\"omit\")\n"
          ]
        },
        {
          "output_type": "stream",
          "name": "stdout",
          "text": [
            "/content/drive/MyDrive/s_data/scenarios/scenario5/Vehicle_1 vehicle.tesla.model3/lidar_nonroad/16.npy\n",
            "/content/drive/MyDrive/s_data/scenarios/scenario5/Vehicle_1 vehicle.tesla.model3/occupancy_grid/16.npy\n"
          ]
        },
        {
          "output_type": "stream",
          "name": "stderr",
          "text": [
            "<ipython-input-24-bd5f8f661648>:36: FutureWarning: Unlike other reduction functions (e.g. `skew`, `kurtosis`), the default behavior of `mode` typically preserves the axis it acts along. In SciPy 1.11.0, this behavior will change: the default value of `keepdims` will become False, the `axis` over which the statistic is taken will be eliminated, and the value None will no longer be accepted. Set `keepdims` to True or False to avoid this warning.\n",
            "  modes,_ = stats.mode(segm_reg.flatten(),axis=None,nan_policy=\"omit\")\n"
          ]
        },
        {
          "output_type": "stream",
          "name": "stdout",
          "text": [
            "/content/drive/MyDrive/s_data/scenarios/scenario5/Vehicle_1 vehicle.tesla.model3/lidar_nonroad/17.npy\n",
            "/content/drive/MyDrive/s_data/scenarios/scenario5/Vehicle_1 vehicle.tesla.model3/occupancy_grid/17.npy\n"
          ]
        },
        {
          "output_type": "stream",
          "name": "stderr",
          "text": [
            "<ipython-input-24-bd5f8f661648>:36: FutureWarning: Unlike other reduction functions (e.g. `skew`, `kurtosis`), the default behavior of `mode` typically preserves the axis it acts along. In SciPy 1.11.0, this behavior will change: the default value of `keepdims` will become False, the `axis` over which the statistic is taken will be eliminated, and the value None will no longer be accepted. Set `keepdims` to True or False to avoid this warning.\n",
            "  modes,_ = stats.mode(segm_reg.flatten(),axis=None,nan_policy=\"omit\")\n"
          ]
        },
        {
          "output_type": "stream",
          "name": "stdout",
          "text": [
            "/content/drive/MyDrive/s_data/scenarios/scenario5/Vehicle_1 vehicle.tesla.model3/lidar_nonroad/18.npy\n",
            "/content/drive/MyDrive/s_data/scenarios/scenario5/Vehicle_1 vehicle.tesla.model3/occupancy_grid/18.npy\n"
          ]
        },
        {
          "output_type": "stream",
          "name": "stderr",
          "text": [
            "<ipython-input-24-bd5f8f661648>:36: FutureWarning: Unlike other reduction functions (e.g. `skew`, `kurtosis`), the default behavior of `mode` typically preserves the axis it acts along. In SciPy 1.11.0, this behavior will change: the default value of `keepdims` will become False, the `axis` over which the statistic is taken will be eliminated, and the value None will no longer be accepted. Set `keepdims` to True or False to avoid this warning.\n",
            "  modes,_ = stats.mode(segm_reg.flatten(),axis=None,nan_policy=\"omit\")\n"
          ]
        },
        {
          "output_type": "stream",
          "name": "stdout",
          "text": [
            "/content/drive/MyDrive/s_data/scenarios/scenario5/Vehicle_1 vehicle.tesla.model3/lidar_nonroad/19.npy\n",
            "/content/drive/MyDrive/s_data/scenarios/scenario5/Vehicle_1 vehicle.tesla.model3/occupancy_grid/19.npy\n"
          ]
        },
        {
          "output_type": "stream",
          "name": "stderr",
          "text": [
            "<ipython-input-24-bd5f8f661648>:36: FutureWarning: Unlike other reduction functions (e.g. `skew`, `kurtosis`), the default behavior of `mode` typically preserves the axis it acts along. In SciPy 1.11.0, this behavior will change: the default value of `keepdims` will become False, the `axis` over which the statistic is taken will be eliminated, and the value None will no longer be accepted. Set `keepdims` to True or False to avoid this warning.\n",
            "  modes,_ = stats.mode(segm_reg.flatten(),axis=None,nan_policy=\"omit\")\n"
          ]
        },
        {
          "output_type": "stream",
          "name": "stdout",
          "text": [
            "/content/drive/MyDrive/s_data/scenarios/scenario5/Vehicle_1 vehicle.tesla.model3/lidar_nonroad/20.npy\n",
            "/content/drive/MyDrive/s_data/scenarios/scenario5/Vehicle_1 vehicle.tesla.model3/occupancy_grid/20.npy\n"
          ]
        },
        {
          "output_type": "stream",
          "name": "stderr",
          "text": [
            "<ipython-input-24-bd5f8f661648>:36: FutureWarning: Unlike other reduction functions (e.g. `skew`, `kurtosis`), the default behavior of `mode` typically preserves the axis it acts along. In SciPy 1.11.0, this behavior will change: the default value of `keepdims` will become False, the `axis` over which the statistic is taken will be eliminated, and the value None will no longer be accepted. Set `keepdims` to True or False to avoid this warning.\n",
            "  modes,_ = stats.mode(segm_reg.flatten(),axis=None,nan_policy=\"omit\")\n"
          ]
        },
        {
          "output_type": "stream",
          "name": "stdout",
          "text": [
            "/content/drive/MyDrive/s_data/scenarios/scenario5/Vehicle_1 vehicle.tesla.model3/lidar_nonroad/21.npy\n",
            "/content/drive/MyDrive/s_data/scenarios/scenario5/Vehicle_1 vehicle.tesla.model3/occupancy_grid/21.npy\n"
          ]
        },
        {
          "output_type": "stream",
          "name": "stderr",
          "text": [
            "<ipython-input-24-bd5f8f661648>:36: FutureWarning: Unlike other reduction functions (e.g. `skew`, `kurtosis`), the default behavior of `mode` typically preserves the axis it acts along. In SciPy 1.11.0, this behavior will change: the default value of `keepdims` will become False, the `axis` over which the statistic is taken will be eliminated, and the value None will no longer be accepted. Set `keepdims` to True or False to avoid this warning.\n",
            "  modes,_ = stats.mode(segm_reg.flatten(),axis=None,nan_policy=\"omit\")\n"
          ]
        },
        {
          "output_type": "stream",
          "name": "stdout",
          "text": [
            "/content/drive/MyDrive/s_data/scenarios/scenario5/Vehicle_1 vehicle.tesla.model3/lidar_nonroad/22.npy\n",
            "/content/drive/MyDrive/s_data/scenarios/scenario5/Vehicle_1 vehicle.tesla.model3/occupancy_grid/22.npy\n"
          ]
        },
        {
          "output_type": "stream",
          "name": "stderr",
          "text": [
            "<ipython-input-24-bd5f8f661648>:36: FutureWarning: Unlike other reduction functions (e.g. `skew`, `kurtosis`), the default behavior of `mode` typically preserves the axis it acts along. In SciPy 1.11.0, this behavior will change: the default value of `keepdims` will become False, the `axis` over which the statistic is taken will be eliminated, and the value None will no longer be accepted. Set `keepdims` to True or False to avoid this warning.\n",
            "  modes,_ = stats.mode(segm_reg.flatten(),axis=None,nan_policy=\"omit\")\n"
          ]
        },
        {
          "output_type": "stream",
          "name": "stdout",
          "text": [
            "/content/drive/MyDrive/s_data/scenarios/scenario5/Vehicle_1 vehicle.tesla.model3/lidar_nonroad/23.npy\n",
            "/content/drive/MyDrive/s_data/scenarios/scenario5/Vehicle_1 vehicle.tesla.model3/occupancy_grid/23.npy\n"
          ]
        },
        {
          "output_type": "stream",
          "name": "stderr",
          "text": [
            "<ipython-input-24-bd5f8f661648>:36: FutureWarning: Unlike other reduction functions (e.g. `skew`, `kurtosis`), the default behavior of `mode` typically preserves the axis it acts along. In SciPy 1.11.0, this behavior will change: the default value of `keepdims` will become False, the `axis` over which the statistic is taken will be eliminated, and the value None will no longer be accepted. Set `keepdims` to True or False to avoid this warning.\n",
            "  modes,_ = stats.mode(segm_reg.flatten(),axis=None,nan_policy=\"omit\")\n"
          ]
        },
        {
          "output_type": "stream",
          "name": "stdout",
          "text": [
            "/content/drive/MyDrive/s_data/scenarios/scenario5/Vehicle_1 vehicle.tesla.model3/lidar_nonroad/24.npy\n",
            "/content/drive/MyDrive/s_data/scenarios/scenario5/Vehicle_1 vehicle.tesla.model3/occupancy_grid/24.npy\n",
            "{'lidar_path': '/content/drive/MyDrive/s_data/scenarios/scenario5/Ego_1 vehicle.audi.a2/Lidar', 'img_path': '/content/drive/MyDrive/s_data/scenarios/scenario5/Ego_1 vehicle.audi.a2/rgb', 'lidar_matrices_path': '/content/drive/MyDrive/s_data/scenarios/scenario5/Ego_1 vehicle.audi.a2/pos_matrices/lidar_2_world', 'camera_matrices_path': '/content/drive/MyDrive/s_data/scenarios/scenario5/Ego_1 vehicle.audi.a2/pos_matrices/world_2_camera', 'camera_intrinsic_path': '/content/drive/MyDrive/s_data/scenarios/scenario5/Ego_1 vehicle.audi.a2/pos_matrices/K.npy', 'num_files': 25, 'save_path': '/content/drive/MyDrive/s_data/scenarios/scenario5/Ego_1 vehicle.audi.a2/occupancy_grid', 'save_path1': '/content/drive/MyDrive/s_data/scenarios/scenario5/Ego_1 vehicle.audi.a2/lidar_nonroad'}\n"
          ]
        },
        {
          "output_type": "stream",
          "name": "stderr",
          "text": [
            "<ipython-input-24-bd5f8f661648>:36: FutureWarning: Unlike other reduction functions (e.g. `skew`, `kurtosis`), the default behavior of `mode` typically preserves the axis it acts along. In SciPy 1.11.0, this behavior will change: the default value of `keepdims` will become False, the `axis` over which the statistic is taken will be eliminated, and the value None will no longer be accepted. Set `keepdims` to True or False to avoid this warning.\n",
            "  modes,_ = stats.mode(segm_reg.flatten(),axis=None,nan_policy=\"omit\")\n"
          ]
        },
        {
          "output_type": "stream",
          "name": "stdout",
          "text": [
            "/content/drive/MyDrive/s_data/scenarios/scenario5/Ego_1 vehicle.audi.a2/lidar_nonroad/0.npy\n",
            "/content/drive/MyDrive/s_data/scenarios/scenario5/Ego_1 vehicle.audi.a2/occupancy_grid/0.npy\n"
          ]
        },
        {
          "output_type": "stream",
          "name": "stderr",
          "text": [
            "<ipython-input-24-bd5f8f661648>:36: FutureWarning: Unlike other reduction functions (e.g. `skew`, `kurtosis`), the default behavior of `mode` typically preserves the axis it acts along. In SciPy 1.11.0, this behavior will change: the default value of `keepdims` will become False, the `axis` over which the statistic is taken will be eliminated, and the value None will no longer be accepted. Set `keepdims` to True or False to avoid this warning.\n",
            "  modes,_ = stats.mode(segm_reg.flatten(),axis=None,nan_policy=\"omit\")\n"
          ]
        },
        {
          "output_type": "stream",
          "name": "stdout",
          "text": [
            "/content/drive/MyDrive/s_data/scenarios/scenario5/Ego_1 vehicle.audi.a2/lidar_nonroad/1.npy\n",
            "/content/drive/MyDrive/s_data/scenarios/scenario5/Ego_1 vehicle.audi.a2/occupancy_grid/1.npy\n"
          ]
        },
        {
          "output_type": "stream",
          "name": "stderr",
          "text": [
            "<ipython-input-24-bd5f8f661648>:36: FutureWarning: Unlike other reduction functions (e.g. `skew`, `kurtosis`), the default behavior of `mode` typically preserves the axis it acts along. In SciPy 1.11.0, this behavior will change: the default value of `keepdims` will become False, the `axis` over which the statistic is taken will be eliminated, and the value None will no longer be accepted. Set `keepdims` to True or False to avoid this warning.\n",
            "  modes,_ = stats.mode(segm_reg.flatten(),axis=None,nan_policy=\"omit\")\n"
          ]
        },
        {
          "output_type": "stream",
          "name": "stdout",
          "text": [
            "/content/drive/MyDrive/s_data/scenarios/scenario5/Ego_1 vehicle.audi.a2/lidar_nonroad/2.npy\n",
            "/content/drive/MyDrive/s_data/scenarios/scenario5/Ego_1 vehicle.audi.a2/occupancy_grid/2.npy\n"
          ]
        },
        {
          "output_type": "stream",
          "name": "stderr",
          "text": [
            "<ipython-input-24-bd5f8f661648>:36: FutureWarning: Unlike other reduction functions (e.g. `skew`, `kurtosis`), the default behavior of `mode` typically preserves the axis it acts along. In SciPy 1.11.0, this behavior will change: the default value of `keepdims` will become False, the `axis` over which the statistic is taken will be eliminated, and the value None will no longer be accepted. Set `keepdims` to True or False to avoid this warning.\n",
            "  modes,_ = stats.mode(segm_reg.flatten(),axis=None,nan_policy=\"omit\")\n"
          ]
        },
        {
          "output_type": "stream",
          "name": "stdout",
          "text": [
            "/content/drive/MyDrive/s_data/scenarios/scenario5/Ego_1 vehicle.audi.a2/lidar_nonroad/3.npy\n",
            "/content/drive/MyDrive/s_data/scenarios/scenario5/Ego_1 vehicle.audi.a2/occupancy_grid/3.npy\n"
          ]
        },
        {
          "output_type": "stream",
          "name": "stderr",
          "text": [
            "<ipython-input-24-bd5f8f661648>:36: FutureWarning: Unlike other reduction functions (e.g. `skew`, `kurtosis`), the default behavior of `mode` typically preserves the axis it acts along. In SciPy 1.11.0, this behavior will change: the default value of `keepdims` will become False, the `axis` over which the statistic is taken will be eliminated, and the value None will no longer be accepted. Set `keepdims` to True or False to avoid this warning.\n",
            "  modes,_ = stats.mode(segm_reg.flatten(),axis=None,nan_policy=\"omit\")\n"
          ]
        },
        {
          "output_type": "stream",
          "name": "stdout",
          "text": [
            "/content/drive/MyDrive/s_data/scenarios/scenario5/Ego_1 vehicle.audi.a2/lidar_nonroad/4.npy\n",
            "/content/drive/MyDrive/s_data/scenarios/scenario5/Ego_1 vehicle.audi.a2/occupancy_grid/4.npy\n"
          ]
        },
        {
          "output_type": "stream",
          "name": "stderr",
          "text": [
            "<ipython-input-24-bd5f8f661648>:36: FutureWarning: Unlike other reduction functions (e.g. `skew`, `kurtosis`), the default behavior of `mode` typically preserves the axis it acts along. In SciPy 1.11.0, this behavior will change: the default value of `keepdims` will become False, the `axis` over which the statistic is taken will be eliminated, and the value None will no longer be accepted. Set `keepdims` to True or False to avoid this warning.\n",
            "  modes,_ = stats.mode(segm_reg.flatten(),axis=None,nan_policy=\"omit\")\n"
          ]
        },
        {
          "output_type": "stream",
          "name": "stdout",
          "text": [
            "/content/drive/MyDrive/s_data/scenarios/scenario5/Ego_1 vehicle.audi.a2/lidar_nonroad/5.npy\n",
            "/content/drive/MyDrive/s_data/scenarios/scenario5/Ego_1 vehicle.audi.a2/occupancy_grid/5.npy\n"
          ]
        },
        {
          "output_type": "stream",
          "name": "stderr",
          "text": [
            "<ipython-input-24-bd5f8f661648>:36: FutureWarning: Unlike other reduction functions (e.g. `skew`, `kurtosis`), the default behavior of `mode` typically preserves the axis it acts along. In SciPy 1.11.0, this behavior will change: the default value of `keepdims` will become False, the `axis` over which the statistic is taken will be eliminated, and the value None will no longer be accepted. Set `keepdims` to True or False to avoid this warning.\n",
            "  modes,_ = stats.mode(segm_reg.flatten(),axis=None,nan_policy=\"omit\")\n"
          ]
        },
        {
          "output_type": "stream",
          "name": "stdout",
          "text": [
            "/content/drive/MyDrive/s_data/scenarios/scenario5/Ego_1 vehicle.audi.a2/lidar_nonroad/6.npy\n",
            "/content/drive/MyDrive/s_data/scenarios/scenario5/Ego_1 vehicle.audi.a2/occupancy_grid/6.npy\n"
          ]
        },
        {
          "output_type": "stream",
          "name": "stderr",
          "text": [
            "<ipython-input-24-bd5f8f661648>:36: FutureWarning: Unlike other reduction functions (e.g. `skew`, `kurtosis`), the default behavior of `mode` typically preserves the axis it acts along. In SciPy 1.11.0, this behavior will change: the default value of `keepdims` will become False, the `axis` over which the statistic is taken will be eliminated, and the value None will no longer be accepted. Set `keepdims` to True or False to avoid this warning.\n",
            "  modes,_ = stats.mode(segm_reg.flatten(),axis=None,nan_policy=\"omit\")\n"
          ]
        },
        {
          "output_type": "stream",
          "name": "stdout",
          "text": [
            "/content/drive/MyDrive/s_data/scenarios/scenario5/Ego_1 vehicle.audi.a2/lidar_nonroad/7.npy\n",
            "/content/drive/MyDrive/s_data/scenarios/scenario5/Ego_1 vehicle.audi.a2/occupancy_grid/7.npy\n"
          ]
        },
        {
          "output_type": "stream",
          "name": "stderr",
          "text": [
            "<ipython-input-24-bd5f8f661648>:36: FutureWarning: Unlike other reduction functions (e.g. `skew`, `kurtosis`), the default behavior of `mode` typically preserves the axis it acts along. In SciPy 1.11.0, this behavior will change: the default value of `keepdims` will become False, the `axis` over which the statistic is taken will be eliminated, and the value None will no longer be accepted. Set `keepdims` to True or False to avoid this warning.\n",
            "  modes,_ = stats.mode(segm_reg.flatten(),axis=None,nan_policy=\"omit\")\n"
          ]
        },
        {
          "output_type": "stream",
          "name": "stdout",
          "text": [
            "/content/drive/MyDrive/s_data/scenarios/scenario5/Ego_1 vehicle.audi.a2/lidar_nonroad/8.npy\n",
            "/content/drive/MyDrive/s_data/scenarios/scenario5/Ego_1 vehicle.audi.a2/occupancy_grid/8.npy\n"
          ]
        },
        {
          "output_type": "stream",
          "name": "stderr",
          "text": [
            "<ipython-input-24-bd5f8f661648>:36: FutureWarning: Unlike other reduction functions (e.g. `skew`, `kurtosis`), the default behavior of `mode` typically preserves the axis it acts along. In SciPy 1.11.0, this behavior will change: the default value of `keepdims` will become False, the `axis` over which the statistic is taken will be eliminated, and the value None will no longer be accepted. Set `keepdims` to True or False to avoid this warning.\n",
            "  modes,_ = stats.mode(segm_reg.flatten(),axis=None,nan_policy=\"omit\")\n"
          ]
        },
        {
          "output_type": "stream",
          "name": "stdout",
          "text": [
            "/content/drive/MyDrive/s_data/scenarios/scenario5/Ego_1 vehicle.audi.a2/lidar_nonroad/9.npy\n",
            "/content/drive/MyDrive/s_data/scenarios/scenario5/Ego_1 vehicle.audi.a2/occupancy_grid/9.npy\n"
          ]
        },
        {
          "output_type": "stream",
          "name": "stderr",
          "text": [
            "<ipython-input-24-bd5f8f661648>:36: FutureWarning: Unlike other reduction functions (e.g. `skew`, `kurtosis`), the default behavior of `mode` typically preserves the axis it acts along. In SciPy 1.11.0, this behavior will change: the default value of `keepdims` will become False, the `axis` over which the statistic is taken will be eliminated, and the value None will no longer be accepted. Set `keepdims` to True or False to avoid this warning.\n",
            "  modes,_ = stats.mode(segm_reg.flatten(),axis=None,nan_policy=\"omit\")\n"
          ]
        },
        {
          "output_type": "stream",
          "name": "stdout",
          "text": [
            "/content/drive/MyDrive/s_data/scenarios/scenario5/Ego_1 vehicle.audi.a2/lidar_nonroad/10.npy\n",
            "/content/drive/MyDrive/s_data/scenarios/scenario5/Ego_1 vehicle.audi.a2/occupancy_grid/10.npy\n"
          ]
        },
        {
          "output_type": "stream",
          "name": "stderr",
          "text": [
            "<ipython-input-24-bd5f8f661648>:36: FutureWarning: Unlike other reduction functions (e.g. `skew`, `kurtosis`), the default behavior of `mode` typically preserves the axis it acts along. In SciPy 1.11.0, this behavior will change: the default value of `keepdims` will become False, the `axis` over which the statistic is taken will be eliminated, and the value None will no longer be accepted. Set `keepdims` to True or False to avoid this warning.\n",
            "  modes,_ = stats.mode(segm_reg.flatten(),axis=None,nan_policy=\"omit\")\n"
          ]
        },
        {
          "output_type": "stream",
          "name": "stdout",
          "text": [
            "/content/drive/MyDrive/s_data/scenarios/scenario5/Ego_1 vehicle.audi.a2/lidar_nonroad/11.npy\n",
            "/content/drive/MyDrive/s_data/scenarios/scenario5/Ego_1 vehicle.audi.a2/occupancy_grid/11.npy\n"
          ]
        },
        {
          "output_type": "stream",
          "name": "stderr",
          "text": [
            "<ipython-input-24-bd5f8f661648>:36: FutureWarning: Unlike other reduction functions (e.g. `skew`, `kurtosis`), the default behavior of `mode` typically preserves the axis it acts along. In SciPy 1.11.0, this behavior will change: the default value of `keepdims` will become False, the `axis` over which the statistic is taken will be eliminated, and the value None will no longer be accepted. Set `keepdims` to True or False to avoid this warning.\n",
            "  modes,_ = stats.mode(segm_reg.flatten(),axis=None,nan_policy=\"omit\")\n"
          ]
        },
        {
          "output_type": "stream",
          "name": "stdout",
          "text": [
            "/content/drive/MyDrive/s_data/scenarios/scenario5/Ego_1 vehicle.audi.a2/lidar_nonroad/12.npy\n",
            "/content/drive/MyDrive/s_data/scenarios/scenario5/Ego_1 vehicle.audi.a2/occupancy_grid/12.npy\n"
          ]
        },
        {
          "output_type": "stream",
          "name": "stderr",
          "text": [
            "<ipython-input-24-bd5f8f661648>:36: FutureWarning: Unlike other reduction functions (e.g. `skew`, `kurtosis`), the default behavior of `mode` typically preserves the axis it acts along. In SciPy 1.11.0, this behavior will change: the default value of `keepdims` will become False, the `axis` over which the statistic is taken will be eliminated, and the value None will no longer be accepted. Set `keepdims` to True or False to avoid this warning.\n",
            "  modes,_ = stats.mode(segm_reg.flatten(),axis=None,nan_policy=\"omit\")\n"
          ]
        },
        {
          "output_type": "stream",
          "name": "stdout",
          "text": [
            "/content/drive/MyDrive/s_data/scenarios/scenario5/Ego_1 vehicle.audi.a2/lidar_nonroad/13.npy\n",
            "/content/drive/MyDrive/s_data/scenarios/scenario5/Ego_1 vehicle.audi.a2/occupancy_grid/13.npy\n"
          ]
        },
        {
          "output_type": "stream",
          "name": "stderr",
          "text": [
            "<ipython-input-24-bd5f8f661648>:36: FutureWarning: Unlike other reduction functions (e.g. `skew`, `kurtosis`), the default behavior of `mode` typically preserves the axis it acts along. In SciPy 1.11.0, this behavior will change: the default value of `keepdims` will become False, the `axis` over which the statistic is taken will be eliminated, and the value None will no longer be accepted. Set `keepdims` to True or False to avoid this warning.\n",
            "  modes,_ = stats.mode(segm_reg.flatten(),axis=None,nan_policy=\"omit\")\n"
          ]
        },
        {
          "output_type": "stream",
          "name": "stdout",
          "text": [
            "/content/drive/MyDrive/s_data/scenarios/scenario5/Ego_1 vehicle.audi.a2/lidar_nonroad/14.npy\n",
            "/content/drive/MyDrive/s_data/scenarios/scenario5/Ego_1 vehicle.audi.a2/occupancy_grid/14.npy\n"
          ]
        },
        {
          "output_type": "stream",
          "name": "stderr",
          "text": [
            "<ipython-input-24-bd5f8f661648>:36: FutureWarning: Unlike other reduction functions (e.g. `skew`, `kurtosis`), the default behavior of `mode` typically preserves the axis it acts along. In SciPy 1.11.0, this behavior will change: the default value of `keepdims` will become False, the `axis` over which the statistic is taken will be eliminated, and the value None will no longer be accepted. Set `keepdims` to True or False to avoid this warning.\n",
            "  modes,_ = stats.mode(segm_reg.flatten(),axis=None,nan_policy=\"omit\")\n"
          ]
        },
        {
          "output_type": "stream",
          "name": "stdout",
          "text": [
            "/content/drive/MyDrive/s_data/scenarios/scenario5/Ego_1 vehicle.audi.a2/lidar_nonroad/15.npy\n",
            "/content/drive/MyDrive/s_data/scenarios/scenario5/Ego_1 vehicle.audi.a2/occupancy_grid/15.npy\n"
          ]
        },
        {
          "output_type": "stream",
          "name": "stderr",
          "text": [
            "<ipython-input-24-bd5f8f661648>:36: FutureWarning: Unlike other reduction functions (e.g. `skew`, `kurtosis`), the default behavior of `mode` typically preserves the axis it acts along. In SciPy 1.11.0, this behavior will change: the default value of `keepdims` will become False, the `axis` over which the statistic is taken will be eliminated, and the value None will no longer be accepted. Set `keepdims` to True or False to avoid this warning.\n",
            "  modes,_ = stats.mode(segm_reg.flatten(),axis=None,nan_policy=\"omit\")\n"
          ]
        },
        {
          "output_type": "stream",
          "name": "stdout",
          "text": [
            "/content/drive/MyDrive/s_data/scenarios/scenario5/Ego_1 vehicle.audi.a2/lidar_nonroad/16.npy\n",
            "/content/drive/MyDrive/s_data/scenarios/scenario5/Ego_1 vehicle.audi.a2/occupancy_grid/16.npy\n"
          ]
        },
        {
          "output_type": "stream",
          "name": "stderr",
          "text": [
            "<ipython-input-24-bd5f8f661648>:36: FutureWarning: Unlike other reduction functions (e.g. `skew`, `kurtosis`), the default behavior of `mode` typically preserves the axis it acts along. In SciPy 1.11.0, this behavior will change: the default value of `keepdims` will become False, the `axis` over which the statistic is taken will be eliminated, and the value None will no longer be accepted. Set `keepdims` to True or False to avoid this warning.\n",
            "  modes,_ = stats.mode(segm_reg.flatten(),axis=None,nan_policy=\"omit\")\n"
          ]
        },
        {
          "output_type": "stream",
          "name": "stdout",
          "text": [
            "/content/drive/MyDrive/s_data/scenarios/scenario5/Ego_1 vehicle.audi.a2/lidar_nonroad/17.npy\n",
            "/content/drive/MyDrive/s_data/scenarios/scenario5/Ego_1 vehicle.audi.a2/occupancy_grid/17.npy\n"
          ]
        },
        {
          "output_type": "stream",
          "name": "stderr",
          "text": [
            "<ipython-input-24-bd5f8f661648>:36: FutureWarning: Unlike other reduction functions (e.g. `skew`, `kurtosis`), the default behavior of `mode` typically preserves the axis it acts along. In SciPy 1.11.0, this behavior will change: the default value of `keepdims` will become False, the `axis` over which the statistic is taken will be eliminated, and the value None will no longer be accepted. Set `keepdims` to True or False to avoid this warning.\n",
            "  modes,_ = stats.mode(segm_reg.flatten(),axis=None,nan_policy=\"omit\")\n"
          ]
        },
        {
          "output_type": "stream",
          "name": "stdout",
          "text": [
            "/content/drive/MyDrive/s_data/scenarios/scenario5/Ego_1 vehicle.audi.a2/lidar_nonroad/18.npy\n",
            "/content/drive/MyDrive/s_data/scenarios/scenario5/Ego_1 vehicle.audi.a2/occupancy_grid/18.npy\n"
          ]
        },
        {
          "output_type": "stream",
          "name": "stderr",
          "text": [
            "<ipython-input-24-bd5f8f661648>:36: FutureWarning: Unlike other reduction functions (e.g. `skew`, `kurtosis`), the default behavior of `mode` typically preserves the axis it acts along. In SciPy 1.11.0, this behavior will change: the default value of `keepdims` will become False, the `axis` over which the statistic is taken will be eliminated, and the value None will no longer be accepted. Set `keepdims` to True or False to avoid this warning.\n",
            "  modes,_ = stats.mode(segm_reg.flatten(),axis=None,nan_policy=\"omit\")\n"
          ]
        },
        {
          "output_type": "stream",
          "name": "stdout",
          "text": [
            "/content/drive/MyDrive/s_data/scenarios/scenario5/Ego_1 vehicle.audi.a2/lidar_nonroad/19.npy\n",
            "/content/drive/MyDrive/s_data/scenarios/scenario5/Ego_1 vehicle.audi.a2/occupancy_grid/19.npy\n"
          ]
        },
        {
          "output_type": "stream",
          "name": "stderr",
          "text": [
            "<ipython-input-24-bd5f8f661648>:36: FutureWarning: Unlike other reduction functions (e.g. `skew`, `kurtosis`), the default behavior of `mode` typically preserves the axis it acts along. In SciPy 1.11.0, this behavior will change: the default value of `keepdims` will become False, the `axis` over which the statistic is taken will be eliminated, and the value None will no longer be accepted. Set `keepdims` to True or False to avoid this warning.\n",
            "  modes,_ = stats.mode(segm_reg.flatten(),axis=None,nan_policy=\"omit\")\n"
          ]
        },
        {
          "output_type": "stream",
          "name": "stdout",
          "text": [
            "/content/drive/MyDrive/s_data/scenarios/scenario5/Ego_1 vehicle.audi.a2/lidar_nonroad/20.npy\n",
            "/content/drive/MyDrive/s_data/scenarios/scenario5/Ego_1 vehicle.audi.a2/occupancy_grid/20.npy\n"
          ]
        },
        {
          "output_type": "stream",
          "name": "stderr",
          "text": [
            "<ipython-input-24-bd5f8f661648>:36: FutureWarning: Unlike other reduction functions (e.g. `skew`, `kurtosis`), the default behavior of `mode` typically preserves the axis it acts along. In SciPy 1.11.0, this behavior will change: the default value of `keepdims` will become False, the `axis` over which the statistic is taken will be eliminated, and the value None will no longer be accepted. Set `keepdims` to True or False to avoid this warning.\n",
            "  modes,_ = stats.mode(segm_reg.flatten(),axis=None,nan_policy=\"omit\")\n"
          ]
        },
        {
          "output_type": "stream",
          "name": "stdout",
          "text": [
            "/content/drive/MyDrive/s_data/scenarios/scenario5/Ego_1 vehicle.audi.a2/lidar_nonroad/21.npy\n",
            "/content/drive/MyDrive/s_data/scenarios/scenario5/Ego_1 vehicle.audi.a2/occupancy_grid/21.npy\n"
          ]
        },
        {
          "output_type": "stream",
          "name": "stderr",
          "text": [
            "<ipython-input-24-bd5f8f661648>:36: FutureWarning: Unlike other reduction functions (e.g. `skew`, `kurtosis`), the default behavior of `mode` typically preserves the axis it acts along. In SciPy 1.11.0, this behavior will change: the default value of `keepdims` will become False, the `axis` over which the statistic is taken will be eliminated, and the value None will no longer be accepted. Set `keepdims` to True or False to avoid this warning.\n",
            "  modes,_ = stats.mode(segm_reg.flatten(),axis=None,nan_policy=\"omit\")\n"
          ]
        },
        {
          "output_type": "stream",
          "name": "stdout",
          "text": [
            "/content/drive/MyDrive/s_data/scenarios/scenario5/Ego_1 vehicle.audi.a2/lidar_nonroad/22.npy\n",
            "/content/drive/MyDrive/s_data/scenarios/scenario5/Ego_1 vehicle.audi.a2/occupancy_grid/22.npy\n"
          ]
        },
        {
          "output_type": "stream",
          "name": "stderr",
          "text": [
            "<ipython-input-24-bd5f8f661648>:36: FutureWarning: Unlike other reduction functions (e.g. `skew`, `kurtosis`), the default behavior of `mode` typically preserves the axis it acts along. In SciPy 1.11.0, this behavior will change: the default value of `keepdims` will become False, the `axis` over which the statistic is taken will be eliminated, and the value None will no longer be accepted. Set `keepdims` to True or False to avoid this warning.\n",
            "  modes,_ = stats.mode(segm_reg.flatten(),axis=None,nan_policy=\"omit\")\n"
          ]
        },
        {
          "output_type": "stream",
          "name": "stdout",
          "text": [
            "/content/drive/MyDrive/s_data/scenarios/scenario5/Ego_1 vehicle.audi.a2/lidar_nonroad/23.npy\n",
            "/content/drive/MyDrive/s_data/scenarios/scenario5/Ego_1 vehicle.audi.a2/occupancy_grid/23.npy\n",
            "/content/drive/MyDrive/s_data/scenarios/scenario5/Ego_1 vehicle.audi.a2/lidar_nonroad/24.npy\n",
            "/content/drive/MyDrive/s_data/scenarios/scenario5/Ego_1 vehicle.audi.a2/occupancy_grid/24.npy\n"
          ]
        },
        {
          "output_type": "stream",
          "name": "stderr",
          "text": [
            "<ipython-input-24-bd5f8f661648>:36: FutureWarning: Unlike other reduction functions (e.g. `skew`, `kurtosis`), the default behavior of `mode` typically preserves the axis it acts along. In SciPy 1.11.0, this behavior will change: the default value of `keepdims` will become False, the `axis` over which the statistic is taken will be eliminated, and the value None will no longer be accepted. Set `keepdims` to True or False to avoid this warning.\n",
            "  modes,_ = stats.mode(segm_reg.flatten(),axis=None,nan_policy=\"omit\")\n"
          ]
        }
      ]
    }
  ],
  "metadata": {
    "colab": {
      "provenance": [],
      "include_colab_link": true
    },
    "kernelspec": {
      "display_name": "Python 3.8.10 ('.env': venv)",
      "language": "python",
      "name": "python3"
    },
    "language_info": {
      "name": "python",
      "version": "3.8.10"
    },
    "vscode": {
      "interpreter": {
        "hash": "4147159148f2331f27fc35f83760ac3303b0eb37178f521715f234bfc6af8027"
      }
    }
  },
  "nbformat": 4,
  "nbformat_minor": 0
}