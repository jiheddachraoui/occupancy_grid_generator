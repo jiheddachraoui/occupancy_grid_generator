{
  "cells": [
    {
      "cell_type": "markdown",
      "metadata": {
        "id": "view-in-github",
        "colab_type": "text"
      },
      "source": [
        "<a href=\"https://colab.research.google.com/github/jiheddachraoui/occupancy_grid_generator/blob/main/OG_fusion_saver.ipynb\" target=\"_parent\"><img src=\"https://colab.research.google.com/assets/colab-badge.svg\" alt=\"Open In Colab\"/></a>"
      ]
    },
    {
      "cell_type": "markdown",
      "metadata": {
        "id": "iderI-dPJ7QJ"
      },
      "source": [
        "# PREPARATION"
      ]
    },
    {
      "cell_type": "code",
      "execution_count": null,
      "metadata": {
        "id": "FBjbCBkk6gI1",
        "colab": {
          "base_uri": "https://localhost:8080/"
        },
        "outputId": "2637e240-cb1d-44fb-afdc-3d059cc7156d"
      },
      "outputs": [
        {
          "output_type": "stream",
          "name": "stdout",
          "text": [
            "Mounted at /content/drive\n"
          ]
        }
      ],
      "source": [
        "import os\n",
        "import sys\n",
        "import csv\n",
        "import numpy as np\n",
        "import cv2\n",
        "import matplotlib.pyplot as plt\n",
        "import time\n",
        "import tensorflow as tf\n",
        "from sklearn.linear_model import RANSACRegressor\n",
        "from scipy import stats\n",
        "from google.colab import drive\n",
        "drive.mount('/content/drive',force_remount=True)\n"
      ]
    },
    {
      "cell_type": "code",
      "source": [
        "datadir = '/content/drive/MyDrive/s_data/'\n",
        "scenario_file='scenario4_gt/'\n",
        "scenario='ground truth/'+scenario_file\n",
        "output='output/'+scenario_file\n",
        "\n",
        "\n",
        "for item in os.listdir(os.path.join(datadir,scenario)):\n",
        "    # Construct the full path to the item\n",
        "    item_path = os.path.join(os.path.join(datadir,scenario), item)\n",
        "    # Check if the item is a directory\n",
        "    if os.path.isdir(item_path) and item != '.ipynb_checkpoints':\n",
        "        # Print the path of the subdirectory\n",
        "        print(item_path)\n",
        "\n"
      ],
      "metadata": {
        "colab": {
          "base_uri": "https://localhost:8080/"
        },
        "id": "gu1FbSfH4R6f",
        "outputId": "02eddfba-601c-48a1-dfa1-a36fab0abaab"
      },
      "execution_count": null,
      "outputs": [
        {
          "output_type": "stream",
          "name": "stdout",
          "text": [
            "/content/drive/MyDrive/s_data/ground truth/scenario4_gt/Ego_1 vehicle.audi.a2\n",
            "/content/drive/MyDrive/s_data/ground truth/scenario4_gt/Vehicle_2 vehicle.mini.cooper_s\n",
            "/content/drive/MyDrive/s_data/ground truth/scenario4_gt/Vehicle_1 vehicle.tesla.model3\n"
          ]
        }
      ]
    },
    {
      "cell_type": "code",
      "source": [
        "ALPHA = 1\n",
        "BHETA = 1*np.pi/180\n",
        "RESOLUTION = 0.1\n",
        "MAX_RANGE = 70\n",
        "MAP_WIDTH = 100\n",
        "SPHERICAL2CARTESIAN_BIAS = 6\n",
        "### Some derived parameters\n",
        "# OOR_MASK = A mask to filter out measurements that are out of MAX_RANGE\n",
        "MAP_SIZE_X = int(MAP_WIDTH/RESOLUTION)\n",
        "MAP_SIZE_Y = int(MAP_WIDTH/RESOLUTION)\n",
        "xarr = np.arange(-MAP_WIDTH/2,MAP_WIDTH/2,RESOLUTION)\n",
        "yarr = np.arange(-MAP_WIDTH/2,MAP_WIDTH/2,RESOLUTION)\n",
        "MAP_XX, MAP_YY = np.meshgrid(xarr, -yarr)\n",
        "rgrid = np.sqrt(np.add(np.square(MAP_XX),np.square(MAP_YY)))\n",
        "OOR_MASK = rgrid >= MAX_RANGE\n",
        "DYNAMIC_THRESHOLD=0.5\n",
        "\n",
        "FREE_CONF = 0.7\n",
        "OCC_CONF = 0.7\n",
        "DYNAMIC_THRESHOLD = 0.4\n",
        "dgm_time_0 = np.zeros((MAP_SIZE_Y,MAP_SIZE_X,3))\n",
        "dgm_time_0[:,:,0] = 1"
      ],
      "metadata": {
        "id": "y1MH7VTN_BiY"
      },
      "execution_count": null,
      "outputs": []
    },
    {
      "cell_type": "code",
      "source": [
        "def load_matrix(folder_path,timestamp):\n",
        "  ts = str(timestamp)\n",
        "  for file_name in os.listdir(folder_path):\n",
        "          if os.path.splitext(file_name)[0] == ts:\n",
        "\n",
        "              file_path = os.path.join(folder_path,file_name)\n",
        "              #print(file_path)\n",
        "              break\n",
        "\n",
        "  m=np.load(file_path)\n",
        "  return m"
      ],
      "metadata": {
        "id": "oHNOrxJnep0G"
      },
      "execution_count": null,
      "outputs": []
    },
    {
      "cell_type": "code",
      "source": [
        "def filter_road_points(lidar_in, is_road, threshold=0.5):\n",
        "        y_true = lidar_in[:, 1]\n",
        "        y = np.zeros_like(y_true)\n",
        "        y = y_true * is_road  # set road points' predicted height to true height\n",
        "        delta_y = np.absolute(y_true-y).flatten()\n",
        "        is_not_road = delta_y > threshold\n",
        "        lidar_out = lidar_in[is_not_road, :].copy()\n",
        "        return lidar_out\n"
      ],
      "metadata": {
        "id": "jy49C-VvXbyQ"
      },
      "execution_count": null,
      "outputs": []
    },
    {
      "cell_type": "code",
      "source": [
        "def generate_measurement_dgm(lidar_in,dgm_shape):\n",
        "  ### Calculate the position of LiDAR points in spherical coordinate\n",
        "  rphi_meas = np.zeros((lidar_in.shape[0],2))\n",
        "  rphi_meas[:,1] = np.sqrt(np.add(np.square(lidar_in[:,0]),np.square(lidar_in[:,1])))/ALPHA\n",
        "  rphi_meas[:,0] = (np.arctan2(lidar_in[:,1],lidar_in[:,0])+np.pi)/BHETA\n",
        "  rphi_meas = np.unique(rphi_meas.astype(int),axis=0)\n",
        "  rphi_meas = rphi_meas[rphi_meas[:,1]<int(MAX_RANGE/ALPHA),:]\n",
        "  rphi_meas = rphi_meas[rphi_meas[:,0]<int(2*np.pi/BHETA),:]\n",
        "\n",
        "  ### Initiate and fill the spherical scan grid\n",
        "  sg_ang_bin = int(2*np.pi/BHETA)\n",
        "  sg_rng_bin = int(MAX_RANGE/ALPHA)\n",
        "  scan_grid = np.zeros((sg_ang_bin,sg_rng_bin,3))\n",
        "  scan_grid[:,:,0] = 1\n",
        "  scan_grid[tuple(rphi_meas.T)] = (1-OCC_CONF,OCC_CONF,0)\n",
        "  for ang in range(sg_ang_bin):\n",
        "    ang_arr = rphi_meas[rphi_meas[:,0]==ang,1]\n",
        "    if len(ang_arr) == 0:\n",
        "      scan_grid[ang,:] = (1-FREE_CONF,0,FREE_CONF)\n",
        "    else:\n",
        "      min_r = np.min(ang_arr)\n",
        "      scan_grid[ang,:min_r] = (1-FREE_CONF,0,FREE_CONF)\n",
        "\n",
        "  ### Convert the spherical scan grid to the cartesian one\n",
        "  dgm_sz = (dgm_shape[1],dgm_shape[0])\n",
        "  dgm_cen = (int(dgm_shape[1]/2),int(dgm_shape[0]/2))\n",
        "  radius = (MAX_RANGE/RESOLUTION) + SPHERICAL2CARTESIAN_BIAS\n",
        "  dgm_step = cv2.warpPolar(scan_grid,dgm_sz,dgm_cen,radius,cv2.WARP_INVERSE_MAP)\n",
        "  dgm_step[OOR_MASK] = (1,0,0)\n",
        "  dgm_step = cv2.rotate(dgm_step, cv2.ROTATE_90_CLOCKWISE)\n",
        "  return dgm_step\n"
      ],
      "metadata": {
        "id": "4HY7gN5W_hM_"
      },
      "execution_count": null,
      "outputs": []
    },
    {
      "cell_type": "code",
      "source": [
        "def update_dgm(prior_dgm,new_dgm):\n",
        "  ### Calculate conflicting mass\n",
        "  conflict_mass = np.multiply(prior_dgm[:,:,2],new_dgm[:,:,1])\n",
        "  conflict_mass = np.add(conflict_mass,np.multiply(prior_dgm[:,:,1],new_dgm[:,:,2]))\n",
        "\n",
        "  ### Calculate free mass\n",
        "  free_mass = np.multiply(prior_dgm[:,:,0],new_dgm[:,:,2])\n",
        "  free_mass = np.add(free_mass,np.multiply(prior_dgm[:,:,2],new_dgm[:,:,0]))\n",
        "  free_mass = np.add(free_mass,np.multiply(prior_dgm[:,:,2],new_dgm[:,:,2]))\n",
        "  free_mass = np.divide(free_mass,1-conflict_mass)\n",
        "\n",
        "  ### Calculate occupied mass\n",
        "  occ_mass = np.multiply(prior_dgm[:,:,0],new_dgm[:,:,1])\n",
        "  occ_mass = np.add(occ_mass,np.multiply(prior_dgm[:,:,1],new_dgm[:,:,0]))\n",
        "  occ_mass = np.add(occ_mass,np.multiply(prior_dgm[:,:,1],new_dgm[:,:,1]))\n",
        "  occ_mass = np.divide(occ_mass,1-conflict_mass)\n",
        "\n",
        "  ### Calculate unknown mass\n",
        "  unknown_mass = np.multiply(prior_dgm[:,:,0],new_dgm[:,:,0])\n",
        "  unknown_mass = np.divide(unknown_mass,1-conflict_mass)\n",
        "\n",
        "  updated_dgm = np.stack((unknown_mass,occ_mass,free_mass),axis=2)\n",
        "  return updated_dgm,conflict_mass\n",
        "\n",
        "### Convert the DGM to a displayable figure\n",
        "def predict_dgm(dgm,dynamic_mass,dt=0.5):\n",
        "  max_mass = np.argmax(dgm,axis=2)\n",
        "  pred_map = np.zeros(dgm.shape)\n",
        "  # The unknown cells: gray\n",
        "  pred_map[max_mass==0] = (123,123,123)\n",
        "  # The occupied cells: black\n",
        "  pred_map[max_mass==1] = (0,0,0)\n",
        "  # The free cells: white\n",
        "  pred_map[max_mass==2] = (255,255,255)\n",
        "  # The dynamic cells: blue\n",
        "  pred_map[dynamic_mass>=dt] = (0,0,0)\n",
        "  return pred_map.astype(np.uint8)\n"
      ],
      "metadata": {
        "id": "-4cSSagKYNge"
      },
      "execution_count": null,
      "outputs": []
    },
    {
      "cell_type": "code",
      "source": [
        "def shift_pose_dgm(dgm, init, fin):\n",
        "  dgm_o = dgm.copy()\n",
        "  #theta = init[2] /180 * np.pi\n",
        "  theta = -init[2]\n",
        "  rot_m = np.array([[np.cos(theta),np.sin(theta)],[-np.sin(theta),np.cos(theta)]])\n",
        "  trs_m = np.array([[init[0]],[init[1]]])\n",
        "  point = np.array(fin[:2]).reshape((-1,1))\n",
        "  point_1 = (point - trs_m)\n",
        "  point_2 = np.dot(rot_m,-point_1)\n",
        "  delta_theta = (fin[2] - init[2])\n",
        "  delta = np.array([point_2[1,0]/RESOLUTION,point_2[0,0]/RESOLUTION,0])\n",
        "\n",
        "  M = np.array([[1,0,delta[0]],[0,1,-delta[1]]])\n",
        "  dst = cv2.warpAffine(dgm_o,M,(dgm_o.shape[1],dgm_o.shape[0]),borderValue=0.5)\n",
        "  M = cv2.getRotationMatrix2D((dgm_o.shape[1]/2+0.5,dgm_o.shape[0]/2+0.5),-delta_theta* 180 / np.pi,1)\n",
        "  #M = cv2.getRotationMatrix2D((dgm_o.shape[1]/2+0.5,dgm_o.shape[0]/2+0.5),delta_theta,1)\n",
        "  dst = cv2.warpAffine(dst,M,(dgm_o.shape[1],dgm_o.shape[0]),borderValue=0.5)\n",
        "  return dst"
      ],
      "metadata": {
        "id": "cIFyHq9sYn2g"
      },
      "execution_count": null,
      "outputs": []
    },
    {
      "cell_type": "code",
      "source": [
        "vehicles=[]\n",
        "for item in os.listdir(os.path.join(datadir,scenario)):\n",
        "    # Construct the full path to the item\n",
        "    if os.path.isdir(item_path) and item != '.ipynb_checkpoints':\n",
        "        folder_path = os.path.join(os.path.join(datadir,scenario), item)\n",
        "        output_path = os.path.join(datadir,output)\n",
        "        lidar_path=folder_path+'/Lidar'\n",
        "        img_path=folder_path+'/bird_eye'\n",
        "        save_path=output_path+'OG fusion'\n",
        "        if not os.path.exists(save_path):\n",
        "            os.makedirs(save_path)\n",
        "        num_files = len([f for f in os.listdir(lidar_path) if os.path.isfile(os.path.join(lidar_path, f))])\n",
        "        print('Number of files in {} :'.format(lidar_path), num_files)\n",
        "        vehicles.append((folder_path,num_files,save_path))"
      ],
      "metadata": {
        "colab": {
          "base_uri": "https://localhost:8080/"
        },
        "id": "C69xP8yQzhE7",
        "outputId": "ddd3a060-14f9-4960-ff79-6390093b88ef"
      },
      "execution_count": null,
      "outputs": [
        {
          "output_type": "stream",
          "name": "stdout",
          "text": [
            "Number of files in /content/drive/MyDrive/s_data/ground truth/scenario4_gt/Ego_1 vehicle.audi.a2/Lidar : 89\n",
            "Number of files in /content/drive/MyDrive/s_data/ground truth/scenario4_gt/Vehicle_2 vehicle.mini.cooper_s/Lidar : 89\n",
            "Number of files in /content/drive/MyDrive/s_data/ground truth/scenario4_gt/Vehicle_1 vehicle.tesla.model3/Lidar : 89\n"
          ]
        }
      ]
    },
    {
      "cell_type": "code",
      "source": [
        "vehicles"
      ],
      "metadata": {
        "colab": {
          "base_uri": "https://localhost:8080/"
        },
        "id": "7yYMhfzbfEBI",
        "outputId": "c87cb3cf-c704-45da-be99-c356aa9e5772"
      },
      "execution_count": null,
      "outputs": [
        {
          "output_type": "execute_result",
          "data": {
            "text/plain": [
              "[('/content/drive/MyDrive/s_data/ground truth/scenario4_gt/Ego_1 vehicle.audi.a2',\n",
              "  89,\n",
              "  '/content/drive/MyDrive/s_data/output/scenario4_gt/OG fusion'),\n",
              " ('/content/drive/MyDrive/s_data/ground truth/scenario4_gt/Vehicle_2 vehicle.mini.cooper_s',\n",
              "  89,\n",
              "  '/content/drive/MyDrive/s_data/output/scenario4_gt/OG fusion'),\n",
              " ('/content/drive/MyDrive/s_data/ground truth/scenario4_gt/Vehicle_1 vehicle.tesla.model3',\n",
              "  89,\n",
              "  '/content/drive/MyDrive/s_data/output/scenario4_gt/OG fusion')]"
            ]
          },
          "metadata": {},
          "execution_count": 122
        }
      ]
    },
    {
      "cell_type": "code",
      "source": [
        "folder_paths=[]\n",
        "\n",
        "for i, vehicle in enumerate(vehicles, start=1):\n",
        "    variable_name = f'folder_path{i}'\n",
        "    folder_path = os.path.join(datadir, scenario, vehicle[0])\n",
        "    globals()[variable_name] = folder_path\n",
        "    folder_paths.append(folder_path)\n",
        "nbr_frames=[]\n",
        "for i, vehicle in enumerate(vehicles, start=1):\n",
        "\n",
        "    nbr = vehicle[1]\n",
        "\n",
        "    nbr_frames.append(nbr)\n",
        "nbr=min(nbr_frames)"
      ],
      "metadata": {
        "id": "yoQtgED-gFFE"
      },
      "execution_count": null,
      "outputs": []
    },
    {
      "cell_type": "code",
      "source": [
        "folder_paths"
      ],
      "metadata": {
        "colab": {
          "base_uri": "https://localhost:8080/"
        },
        "id": "4GpP8hjFgI-a",
        "outputId": "f5eba901-2b02-4040-923d-695ce8aee03d"
      },
      "execution_count": null,
      "outputs": [
        {
          "output_type": "execute_result",
          "data": {
            "text/plain": [
              "['/content/drive/MyDrive/s_data/ground truth/scenario4_gt/Ego_1 vehicle.audi.a2',\n",
              " '/content/drive/MyDrive/s_data/ground truth/scenario4_gt/Vehicle_2 vehicle.mini.cooper_s',\n",
              " '/content/drive/MyDrive/s_data/ground truth/scenario4_gt/Vehicle_1 vehicle.tesla.model3']"
            ]
          },
          "metadata": {},
          "execution_count": 124
        }
      ]
    },
    {
      "cell_type": "code",
      "source": [
        "'''\n",
        "import random\n",
        "seed_value = 13\n",
        "\n",
        "# Set the seed for the random number generator\n",
        "random.seed(seed_value)\n",
        "# Randomly permute the order of folder_paths\n",
        "random.shuffle(folder_paths)\n",
        "print(folder_paths)'''"
      ],
      "metadata": {
        "colab": {
          "base_uri": "https://localhost:8080/",
          "height": 53
        },
        "id": "b2_uOBTkRHPM",
        "outputId": "0162eebc-bd91-4de0-e217-3ceb65a8f30d"
      },
      "execution_count": null,
      "outputs": [
        {
          "output_type": "execute_result",
          "data": {
            "text/plain": [
              "'\\nimport random\\nseed_value = 13\\n\\n# Set the seed for the random number generator\\nrandom.seed(seed_value)\\n# Randomly permute the order of folder_paths\\nrandom.shuffle(folder_paths)\\nprint(folder_paths)'"
            ],
            "application/vnd.google.colaboratory.intrinsic+json": {
              "type": "string"
            }
          },
          "metadata": {},
          "execution_count": 125
        }
      ]
    },
    {
      "cell_type": "code",
      "source": [
        "folder_paths"
      ],
      "metadata": {
        "colab": {
          "base_uri": "https://localhost:8080/"
        },
        "id": "uOXVwob1tyk8",
        "outputId": "64fad981-b765-4659-cc23-7106e58a3a4b"
      },
      "execution_count": null,
      "outputs": [
        {
          "output_type": "execute_result",
          "data": {
            "text/plain": [
              "['/content/drive/MyDrive/s_data/ground truth/scenario4_gt/Ego_1 vehicle.audi.a2',\n",
              " '/content/drive/MyDrive/s_data/ground truth/scenario4_gt/Vehicle_2 vehicle.mini.cooper_s',\n",
              " '/content/drive/MyDrive/s_data/ground truth/scenario4_gt/Vehicle_1 vehicle.tesla.model3']"
            ]
          },
          "metadata": {},
          "execution_count": 126
        }
      ]
    },
    {
      "cell_type": "code",
      "source": [
        "print(nbr)"
      ],
      "metadata": {
        "colab": {
          "base_uri": "https://localhost:8080/"
        },
        "id": "jf3IhCG6xCtS",
        "outputId": "07fcfb45-0838-48ab-c1bb-c60024cc3b5a"
      },
      "execution_count": null,
      "outputs": [
        {
          "output_type": "stream",
          "name": "stdout",
          "text": [
            "89\n"
          ]
        }
      ]
    },
    {
      "cell_type": "code",
      "source": [
        "for date in range(nbr):\n",
        "\n",
        "  for i, folder_path in enumerate(folder_paths, start=1):\n",
        "\n",
        "      save_path=vehicles[i-1][2]+'/fusion_image'\n",
        "      save_path1=vehicles[i-1][2]+'/mass_function'\n",
        "      save_path2=vehicles[i-1][2]+'/conflict'\n",
        "      if not os.path.exists(save_path):\n",
        "        os.makedirs(save_path)\n",
        "      if not os.path.exists(save_path1):\n",
        "        os.makedirs(save_path1)\n",
        "      if not os.path.exists(save_path2):\n",
        "        os.makedirs(save_path2)\n",
        "      transformation_matrices_path = os.path.join(folder_path, \"pos_matrices/lidar_2_world\")\n",
        "      transformation_matrices_path_variable = f'transformation_matrices_path{i}'\n",
        "      globals()[transformation_matrices_path_variable] = transformation_matrices_path\n",
        "\n",
        "\n",
        "\n",
        "      transformation_matrix_variable = f'transform{i}'\n",
        "      globals()[transformation_matrix_variable] = load_matrix(transformation_matrices_path, date)\n",
        "      transform = globals()[transformation_matrix_variable]\n",
        "\n",
        "\n",
        "      location_variable = f'loc{i}'\n",
        "      globals()[location_variable] = transform[:3, 3:].flatten().tolist()\n",
        "\n",
        "      rotation_path = os.path.join(folder_path, \"pos_matrices/rotation_pyr\")\n",
        "      rotation_path_variable = f'rot_path{i}'\n",
        "      globals()[rotation_path_variable] = rotation_path\n",
        "\n",
        "      rotation_variable = f'rot{i}'\n",
        "      globals()[rotation_variable] = load_matrix(rotation_path, date)\n",
        "\n",
        "\n",
        "\n",
        "      R = np.array(transform[:3, :3])\n",
        "      pitch = np.arcsin(R[2, 0])\n",
        "      yaw = -np.arctan2(R[1, 0], R[0, 0])\n",
        "      roll = -np.arctan2(R[2, 1], R[2, 2])\n",
        "      pose_variable = f'pose{i}'\n",
        "      globals()[pose_variable] = np.array([globals()[location_variable][0], globals()[location_variable][1], yaw])\n",
        "\n",
        "\n",
        "      lidar_variable = f'lidar{i}'\n",
        "      lidar_path = os.path.join(folder_path, \"Lidar\")\n",
        "      lidar_file = os.path.join(lidar_path, f'{date}.npy')\n",
        "\n",
        "      lidar_data = np.load(lidar_file)\n",
        "      globals()[lidar_variable] = lidar_data.reshape(-1, 6)\n",
        "\n",
        "      lidar_raw_variable = f'lidar_raw{i}'\n",
        "      globals()[lidar_raw_variable] = globals()[lidar_variable].reshape(-1, 6)\n",
        "\n",
        "      globals()[lidar_raw_variable] = globals()[lidar_raw_variable][globals()[lidar_raw_variable][:, 2] <= 0, :]\n",
        "\n",
        "      radius = 2.7\n",
        "      distances_variable = f'distances{i}'\n",
        "      distances = np.sqrt((globals()[lidar_raw_variable][:, 0])**2 + (globals()[lidar_raw_variable][:, 1])**2)\n",
        "      globals()[distances_variable] = distances\n",
        "\n",
        "      globals()[lidar_raw_variable] = globals()[lidar_raw_variable][globals()[distances_variable] > radius, :]\n",
        "\n",
        "      labels_variable = f'labels{i}'\n",
        "      labels = np.array(globals()[lidar_raw_variable][:, 5]).astype(int)\n",
        "      globals()[labels_variable] = labels\n",
        "\n",
        "      lidar_labeled_variable = f'lidar_labeled{i}'\n",
        "      lidar_labeled = np.array(globals()[lidar_raw_variable][..., [0, 1, 2, 5]])\n",
        "      globals()[lidar_labeled_variable] = lidar_labeled\n",
        "\n",
        "      globals()[lidar_raw_variable] = globals()[lidar_raw_variable][:, :3]\n",
        "\n",
        "      road_filter_variable = f'road_filter{i}'\n",
        "      road_filter = np.zeros_like(globals()[labels_variable])\n",
        "      road_filter[(globals()[labels_variable] == 0) | (globals()[labels_variable] == 7) | (globals()[labels_variable] == 6)] = 1\n",
        "      globals()[road_filter_variable] = road_filter\n",
        "\n",
        "      lidar_nonroad_variable = f'lidar_nonroad{i}'\n",
        "      globals()[lidar_nonroad_variable] = filter_road_points(globals()[lidar_raw_variable], globals()[road_filter_variable], 0.1)\n",
        "      lidar_nonroad_variable = f'lidar_nonroad{i}'\n",
        "      lidar_dgm_variable = f'lidar_dgm{i}'\n",
        "\n",
        "      globals()[lidar_dgm_variable] = globals()[lidar_nonroad_variable][:, [0, 1]]\n",
        "      lidar_dgm_variable = f'lidar_dgm{i}'\n",
        "      dgm_variable = f'dgm{i}'\n",
        "\n",
        "      globals()[dgm_variable] = generate_measurement_dgm(globals()[lidar_dgm_variable], dgm_time_0.shape)\n",
        "\n",
        "      dgm_time_variable = f'dgm_time_{i}'\n",
        "      dynamic_mass_variable = f'dynamic_mass_{i}'\n",
        "      dgm_pred_variable = f'dgm_pred_{i}'\n",
        "\n",
        "      globals()[dgm_time_variable], globals()[dynamic_mass_variable] = update_dgm(dgm_time_0, globals()[dgm_variable])\n",
        "      globals()[dgm_pred_variable] = predict_dgm(globals()[dgm_time_variable], globals()[dynamic_mass_variable])\n",
        "\n",
        "  shift_dgm_time_1 = shift_pose_dgm(dgm_time_1,pose1,pose2)\n",
        "  dgm_fuse,dynamic_mass_fuse = update_dgm(shift_dgm_time_1,dgm_time_2)\n",
        "  dgm_pred_fuse = predict_dgm(dgm_fuse,dynamic_mass_fuse,0.5)\n",
        "  if 'pose3' in globals():\n",
        "      shift_dgm_time_3 = shift_pose_dgm(dgm_time_3, pose3, pose2)\n",
        "      dgm_fuse,dynamic_mass_fuse = update_dgm(dgm_fuse,shift_dgm_time_3)\n",
        "      dgm_pred_fuse = predict_dgm(dgm_fuse,dynamic_mass_fuse,0.5)\n",
        "\n",
        "  if 'pose4' in globals():\n",
        "    shift_dgm_time_4 = shift_pose_dgm(dgm_time_4, pose4, pose2)\n",
        "    dgm_fuse,dynamic_mass_fuse = update_dgm(dgm_fuse,shift_dgm_time_4 )\n",
        "    dgm_pred_fuse = predict_dgm(dgm_fuse,dynamic_mass_fuse,0.5)\n",
        "  else:\n",
        "    continue\n",
        "  rgb_image = cv2.cvtColor(dgm_pred_fuse, cv2.COLOR_BGR2RGB)\n",
        "  cv2.imwrite(save_path+'/{}.png'.format(date),rgb_image)\n",
        "  print(save_path+'/{}.png'.format(date))\n",
        "  np.save(save_path1+'/{}.npy'.format(date),dgm_fuse)\n",
        "  print(save_path1+'/{}.npy'.format(date))\n",
        "  np.save(save_path2+'/{}.npy'.format(date),dynamic_mass_fuse)\n",
        "  print(save_path2+'/{}.npy'.format(date))"
      ],
      "metadata": {
        "id": "-SFxpDRsXfdn",
        "colab": {
          "base_uri": "https://localhost:8080/"
        },
        "outputId": "f76373c8-983d-4d11-bcdd-d887422e234e"
      },
      "execution_count": null,
      "outputs": [
        {
          "output_type": "stream",
          "name": "stdout",
          "text": [
            "/content/drive/MyDrive/s_data/output/scenario4_gt/OG fusion/fusion_image/0.png\n",
            "/content/drive/MyDrive/s_data/output/scenario4_gt/OG fusion/mass_function/0.npy\n",
            "/content/drive/MyDrive/s_data/output/scenario4_gt/OG fusion/conflict/0.npy\n",
            "/content/drive/MyDrive/s_data/output/scenario4_gt/OG fusion/fusion_image/1.png\n",
            "/content/drive/MyDrive/s_data/output/scenario4_gt/OG fusion/mass_function/1.npy\n",
            "/content/drive/MyDrive/s_data/output/scenario4_gt/OG fusion/conflict/1.npy\n",
            "/content/drive/MyDrive/s_data/output/scenario4_gt/OG fusion/fusion_image/2.png\n",
            "/content/drive/MyDrive/s_data/output/scenario4_gt/OG fusion/mass_function/2.npy\n",
            "/content/drive/MyDrive/s_data/output/scenario4_gt/OG fusion/conflict/2.npy\n",
            "/content/drive/MyDrive/s_data/output/scenario4_gt/OG fusion/fusion_image/3.png\n",
            "/content/drive/MyDrive/s_data/output/scenario4_gt/OG fusion/mass_function/3.npy\n",
            "/content/drive/MyDrive/s_data/output/scenario4_gt/OG fusion/conflict/3.npy\n",
            "/content/drive/MyDrive/s_data/output/scenario4_gt/OG fusion/fusion_image/4.png\n",
            "/content/drive/MyDrive/s_data/output/scenario4_gt/OG fusion/mass_function/4.npy\n",
            "/content/drive/MyDrive/s_data/output/scenario4_gt/OG fusion/conflict/4.npy\n",
            "/content/drive/MyDrive/s_data/output/scenario4_gt/OG fusion/fusion_image/5.png\n",
            "/content/drive/MyDrive/s_data/output/scenario4_gt/OG fusion/mass_function/5.npy\n",
            "/content/drive/MyDrive/s_data/output/scenario4_gt/OG fusion/conflict/5.npy\n",
            "/content/drive/MyDrive/s_data/output/scenario4_gt/OG fusion/fusion_image/6.png\n",
            "/content/drive/MyDrive/s_data/output/scenario4_gt/OG fusion/mass_function/6.npy\n",
            "/content/drive/MyDrive/s_data/output/scenario4_gt/OG fusion/conflict/6.npy\n",
            "/content/drive/MyDrive/s_data/output/scenario4_gt/OG fusion/fusion_image/7.png\n",
            "/content/drive/MyDrive/s_data/output/scenario4_gt/OG fusion/mass_function/7.npy\n",
            "/content/drive/MyDrive/s_data/output/scenario4_gt/OG fusion/conflict/7.npy\n",
            "/content/drive/MyDrive/s_data/output/scenario4_gt/OG fusion/fusion_image/8.png\n",
            "/content/drive/MyDrive/s_data/output/scenario4_gt/OG fusion/mass_function/8.npy\n",
            "/content/drive/MyDrive/s_data/output/scenario4_gt/OG fusion/conflict/8.npy\n",
            "/content/drive/MyDrive/s_data/output/scenario4_gt/OG fusion/fusion_image/9.png\n",
            "/content/drive/MyDrive/s_data/output/scenario4_gt/OG fusion/mass_function/9.npy\n",
            "/content/drive/MyDrive/s_data/output/scenario4_gt/OG fusion/conflict/9.npy\n",
            "/content/drive/MyDrive/s_data/output/scenario4_gt/OG fusion/fusion_image/10.png\n",
            "/content/drive/MyDrive/s_data/output/scenario4_gt/OG fusion/mass_function/10.npy\n",
            "/content/drive/MyDrive/s_data/output/scenario4_gt/OG fusion/conflict/10.npy\n",
            "/content/drive/MyDrive/s_data/output/scenario4_gt/OG fusion/fusion_image/11.png\n",
            "/content/drive/MyDrive/s_data/output/scenario4_gt/OG fusion/mass_function/11.npy\n",
            "/content/drive/MyDrive/s_data/output/scenario4_gt/OG fusion/conflict/11.npy\n",
            "/content/drive/MyDrive/s_data/output/scenario4_gt/OG fusion/fusion_image/12.png\n",
            "/content/drive/MyDrive/s_data/output/scenario4_gt/OG fusion/mass_function/12.npy\n",
            "/content/drive/MyDrive/s_data/output/scenario4_gt/OG fusion/conflict/12.npy\n",
            "/content/drive/MyDrive/s_data/output/scenario4_gt/OG fusion/fusion_image/13.png\n",
            "/content/drive/MyDrive/s_data/output/scenario4_gt/OG fusion/mass_function/13.npy\n",
            "/content/drive/MyDrive/s_data/output/scenario4_gt/OG fusion/conflict/13.npy\n",
            "/content/drive/MyDrive/s_data/output/scenario4_gt/OG fusion/fusion_image/14.png\n",
            "/content/drive/MyDrive/s_data/output/scenario4_gt/OG fusion/mass_function/14.npy\n",
            "/content/drive/MyDrive/s_data/output/scenario4_gt/OG fusion/conflict/14.npy\n",
            "/content/drive/MyDrive/s_data/output/scenario4_gt/OG fusion/fusion_image/15.png\n",
            "/content/drive/MyDrive/s_data/output/scenario4_gt/OG fusion/mass_function/15.npy\n",
            "/content/drive/MyDrive/s_data/output/scenario4_gt/OG fusion/conflict/15.npy\n",
            "/content/drive/MyDrive/s_data/output/scenario4_gt/OG fusion/fusion_image/16.png\n",
            "/content/drive/MyDrive/s_data/output/scenario4_gt/OG fusion/mass_function/16.npy\n",
            "/content/drive/MyDrive/s_data/output/scenario4_gt/OG fusion/conflict/16.npy\n",
            "/content/drive/MyDrive/s_data/output/scenario4_gt/OG fusion/fusion_image/17.png\n",
            "/content/drive/MyDrive/s_data/output/scenario4_gt/OG fusion/mass_function/17.npy\n",
            "/content/drive/MyDrive/s_data/output/scenario4_gt/OG fusion/conflict/17.npy\n",
            "/content/drive/MyDrive/s_data/output/scenario4_gt/OG fusion/fusion_image/18.png\n",
            "/content/drive/MyDrive/s_data/output/scenario4_gt/OG fusion/mass_function/18.npy\n",
            "/content/drive/MyDrive/s_data/output/scenario4_gt/OG fusion/conflict/18.npy\n",
            "/content/drive/MyDrive/s_data/output/scenario4_gt/OG fusion/fusion_image/19.png\n",
            "/content/drive/MyDrive/s_data/output/scenario4_gt/OG fusion/mass_function/19.npy\n",
            "/content/drive/MyDrive/s_data/output/scenario4_gt/OG fusion/conflict/19.npy\n",
            "/content/drive/MyDrive/s_data/output/scenario4_gt/OG fusion/fusion_image/20.png\n",
            "/content/drive/MyDrive/s_data/output/scenario4_gt/OG fusion/mass_function/20.npy\n",
            "/content/drive/MyDrive/s_data/output/scenario4_gt/OG fusion/conflict/20.npy\n",
            "/content/drive/MyDrive/s_data/output/scenario4_gt/OG fusion/fusion_image/21.png\n",
            "/content/drive/MyDrive/s_data/output/scenario4_gt/OG fusion/mass_function/21.npy\n",
            "/content/drive/MyDrive/s_data/output/scenario4_gt/OG fusion/conflict/21.npy\n",
            "/content/drive/MyDrive/s_data/output/scenario4_gt/OG fusion/fusion_image/22.png\n",
            "/content/drive/MyDrive/s_data/output/scenario4_gt/OG fusion/mass_function/22.npy\n",
            "/content/drive/MyDrive/s_data/output/scenario4_gt/OG fusion/conflict/22.npy\n",
            "/content/drive/MyDrive/s_data/output/scenario4_gt/OG fusion/fusion_image/23.png\n",
            "/content/drive/MyDrive/s_data/output/scenario4_gt/OG fusion/mass_function/23.npy\n",
            "/content/drive/MyDrive/s_data/output/scenario4_gt/OG fusion/conflict/23.npy\n",
            "/content/drive/MyDrive/s_data/output/scenario4_gt/OG fusion/fusion_image/24.png\n",
            "/content/drive/MyDrive/s_data/output/scenario4_gt/OG fusion/mass_function/24.npy\n",
            "/content/drive/MyDrive/s_data/output/scenario4_gt/OG fusion/conflict/24.npy\n",
            "/content/drive/MyDrive/s_data/output/scenario4_gt/OG fusion/fusion_image/25.png\n",
            "/content/drive/MyDrive/s_data/output/scenario4_gt/OG fusion/mass_function/25.npy\n",
            "/content/drive/MyDrive/s_data/output/scenario4_gt/OG fusion/conflict/25.npy\n",
            "/content/drive/MyDrive/s_data/output/scenario4_gt/OG fusion/fusion_image/26.png\n",
            "/content/drive/MyDrive/s_data/output/scenario4_gt/OG fusion/mass_function/26.npy\n",
            "/content/drive/MyDrive/s_data/output/scenario4_gt/OG fusion/conflict/26.npy\n",
            "/content/drive/MyDrive/s_data/output/scenario4_gt/OG fusion/fusion_image/27.png\n",
            "/content/drive/MyDrive/s_data/output/scenario4_gt/OG fusion/mass_function/27.npy\n",
            "/content/drive/MyDrive/s_data/output/scenario4_gt/OG fusion/conflict/27.npy\n",
            "/content/drive/MyDrive/s_data/output/scenario4_gt/OG fusion/fusion_image/28.png\n",
            "/content/drive/MyDrive/s_data/output/scenario4_gt/OG fusion/mass_function/28.npy\n",
            "/content/drive/MyDrive/s_data/output/scenario4_gt/OG fusion/conflict/28.npy\n",
            "/content/drive/MyDrive/s_data/output/scenario4_gt/OG fusion/fusion_image/29.png\n",
            "/content/drive/MyDrive/s_data/output/scenario4_gt/OG fusion/mass_function/29.npy\n",
            "/content/drive/MyDrive/s_data/output/scenario4_gt/OG fusion/conflict/29.npy\n",
            "/content/drive/MyDrive/s_data/output/scenario4_gt/OG fusion/fusion_image/30.png\n",
            "/content/drive/MyDrive/s_data/output/scenario4_gt/OG fusion/mass_function/30.npy\n",
            "/content/drive/MyDrive/s_data/output/scenario4_gt/OG fusion/conflict/30.npy\n",
            "/content/drive/MyDrive/s_data/output/scenario4_gt/OG fusion/fusion_image/31.png\n",
            "/content/drive/MyDrive/s_data/output/scenario4_gt/OG fusion/mass_function/31.npy\n",
            "/content/drive/MyDrive/s_data/output/scenario4_gt/OG fusion/conflict/31.npy\n",
            "/content/drive/MyDrive/s_data/output/scenario4_gt/OG fusion/fusion_image/32.png\n",
            "/content/drive/MyDrive/s_data/output/scenario4_gt/OG fusion/mass_function/32.npy\n",
            "/content/drive/MyDrive/s_data/output/scenario4_gt/OG fusion/conflict/32.npy\n",
            "/content/drive/MyDrive/s_data/output/scenario4_gt/OG fusion/fusion_image/33.png\n",
            "/content/drive/MyDrive/s_data/output/scenario4_gt/OG fusion/mass_function/33.npy\n",
            "/content/drive/MyDrive/s_data/output/scenario4_gt/OG fusion/conflict/33.npy\n",
            "/content/drive/MyDrive/s_data/output/scenario4_gt/OG fusion/fusion_image/34.png\n",
            "/content/drive/MyDrive/s_data/output/scenario4_gt/OG fusion/mass_function/34.npy\n",
            "/content/drive/MyDrive/s_data/output/scenario4_gt/OG fusion/conflict/34.npy\n",
            "/content/drive/MyDrive/s_data/output/scenario4_gt/OG fusion/fusion_image/35.png\n",
            "/content/drive/MyDrive/s_data/output/scenario4_gt/OG fusion/mass_function/35.npy\n",
            "/content/drive/MyDrive/s_data/output/scenario4_gt/OG fusion/conflict/35.npy\n",
            "/content/drive/MyDrive/s_data/output/scenario4_gt/OG fusion/fusion_image/36.png\n",
            "/content/drive/MyDrive/s_data/output/scenario4_gt/OG fusion/mass_function/36.npy\n",
            "/content/drive/MyDrive/s_data/output/scenario4_gt/OG fusion/conflict/36.npy\n",
            "/content/drive/MyDrive/s_data/output/scenario4_gt/OG fusion/fusion_image/37.png\n",
            "/content/drive/MyDrive/s_data/output/scenario4_gt/OG fusion/mass_function/37.npy\n",
            "/content/drive/MyDrive/s_data/output/scenario4_gt/OG fusion/conflict/37.npy\n",
            "/content/drive/MyDrive/s_data/output/scenario4_gt/OG fusion/fusion_image/38.png\n",
            "/content/drive/MyDrive/s_data/output/scenario4_gt/OG fusion/mass_function/38.npy\n",
            "/content/drive/MyDrive/s_data/output/scenario4_gt/OG fusion/conflict/38.npy\n",
            "/content/drive/MyDrive/s_data/output/scenario4_gt/OG fusion/fusion_image/39.png\n",
            "/content/drive/MyDrive/s_data/output/scenario4_gt/OG fusion/mass_function/39.npy\n",
            "/content/drive/MyDrive/s_data/output/scenario4_gt/OG fusion/conflict/39.npy\n",
            "/content/drive/MyDrive/s_data/output/scenario4_gt/OG fusion/fusion_image/40.png\n",
            "/content/drive/MyDrive/s_data/output/scenario4_gt/OG fusion/mass_function/40.npy\n",
            "/content/drive/MyDrive/s_data/output/scenario4_gt/OG fusion/conflict/40.npy\n",
            "/content/drive/MyDrive/s_data/output/scenario4_gt/OG fusion/fusion_image/41.png\n",
            "/content/drive/MyDrive/s_data/output/scenario4_gt/OG fusion/mass_function/41.npy\n",
            "/content/drive/MyDrive/s_data/output/scenario4_gt/OG fusion/conflict/41.npy\n",
            "/content/drive/MyDrive/s_data/output/scenario4_gt/OG fusion/fusion_image/42.png\n",
            "/content/drive/MyDrive/s_data/output/scenario4_gt/OG fusion/mass_function/42.npy\n",
            "/content/drive/MyDrive/s_data/output/scenario4_gt/OG fusion/conflict/42.npy\n",
            "/content/drive/MyDrive/s_data/output/scenario4_gt/OG fusion/fusion_image/43.png\n",
            "/content/drive/MyDrive/s_data/output/scenario4_gt/OG fusion/mass_function/43.npy\n",
            "/content/drive/MyDrive/s_data/output/scenario4_gt/OG fusion/conflict/43.npy\n",
            "/content/drive/MyDrive/s_data/output/scenario4_gt/OG fusion/fusion_image/44.png\n",
            "/content/drive/MyDrive/s_data/output/scenario4_gt/OG fusion/mass_function/44.npy\n",
            "/content/drive/MyDrive/s_data/output/scenario4_gt/OG fusion/conflict/44.npy\n",
            "/content/drive/MyDrive/s_data/output/scenario4_gt/OG fusion/fusion_image/45.png\n",
            "/content/drive/MyDrive/s_data/output/scenario4_gt/OG fusion/mass_function/45.npy\n",
            "/content/drive/MyDrive/s_data/output/scenario4_gt/OG fusion/conflict/45.npy\n",
            "/content/drive/MyDrive/s_data/output/scenario4_gt/OG fusion/fusion_image/46.png\n",
            "/content/drive/MyDrive/s_data/output/scenario4_gt/OG fusion/mass_function/46.npy\n",
            "/content/drive/MyDrive/s_data/output/scenario4_gt/OG fusion/conflict/46.npy\n",
            "/content/drive/MyDrive/s_data/output/scenario4_gt/OG fusion/fusion_image/47.png\n",
            "/content/drive/MyDrive/s_data/output/scenario4_gt/OG fusion/mass_function/47.npy\n",
            "/content/drive/MyDrive/s_data/output/scenario4_gt/OG fusion/conflict/47.npy\n",
            "/content/drive/MyDrive/s_data/output/scenario4_gt/OG fusion/fusion_image/48.png\n",
            "/content/drive/MyDrive/s_data/output/scenario4_gt/OG fusion/mass_function/48.npy\n",
            "/content/drive/MyDrive/s_data/output/scenario4_gt/OG fusion/conflict/48.npy\n",
            "/content/drive/MyDrive/s_data/output/scenario4_gt/OG fusion/fusion_image/49.png\n",
            "/content/drive/MyDrive/s_data/output/scenario4_gt/OG fusion/mass_function/49.npy\n",
            "/content/drive/MyDrive/s_data/output/scenario4_gt/OG fusion/conflict/49.npy\n",
            "/content/drive/MyDrive/s_data/output/scenario4_gt/OG fusion/fusion_image/50.png\n",
            "/content/drive/MyDrive/s_data/output/scenario4_gt/OG fusion/mass_function/50.npy\n",
            "/content/drive/MyDrive/s_data/output/scenario4_gt/OG fusion/conflict/50.npy\n",
            "/content/drive/MyDrive/s_data/output/scenario4_gt/OG fusion/fusion_image/51.png\n",
            "/content/drive/MyDrive/s_data/output/scenario4_gt/OG fusion/mass_function/51.npy\n",
            "/content/drive/MyDrive/s_data/output/scenario4_gt/OG fusion/conflict/51.npy\n",
            "/content/drive/MyDrive/s_data/output/scenario4_gt/OG fusion/fusion_image/52.png\n",
            "/content/drive/MyDrive/s_data/output/scenario4_gt/OG fusion/mass_function/52.npy\n",
            "/content/drive/MyDrive/s_data/output/scenario4_gt/OG fusion/conflict/52.npy\n",
            "/content/drive/MyDrive/s_data/output/scenario4_gt/OG fusion/fusion_image/53.png\n",
            "/content/drive/MyDrive/s_data/output/scenario4_gt/OG fusion/mass_function/53.npy\n",
            "/content/drive/MyDrive/s_data/output/scenario4_gt/OG fusion/conflict/53.npy\n",
            "/content/drive/MyDrive/s_data/output/scenario4_gt/OG fusion/fusion_image/54.png\n",
            "/content/drive/MyDrive/s_data/output/scenario4_gt/OG fusion/mass_function/54.npy\n",
            "/content/drive/MyDrive/s_data/output/scenario4_gt/OG fusion/conflict/54.npy\n",
            "/content/drive/MyDrive/s_data/output/scenario4_gt/OG fusion/fusion_image/55.png\n",
            "/content/drive/MyDrive/s_data/output/scenario4_gt/OG fusion/mass_function/55.npy\n",
            "/content/drive/MyDrive/s_data/output/scenario4_gt/OG fusion/conflict/55.npy\n",
            "/content/drive/MyDrive/s_data/output/scenario4_gt/OG fusion/fusion_image/56.png\n",
            "/content/drive/MyDrive/s_data/output/scenario4_gt/OG fusion/mass_function/56.npy\n",
            "/content/drive/MyDrive/s_data/output/scenario4_gt/OG fusion/conflict/56.npy\n",
            "/content/drive/MyDrive/s_data/output/scenario4_gt/OG fusion/fusion_image/57.png\n",
            "/content/drive/MyDrive/s_data/output/scenario4_gt/OG fusion/mass_function/57.npy\n",
            "/content/drive/MyDrive/s_data/output/scenario4_gt/OG fusion/conflict/57.npy\n",
            "/content/drive/MyDrive/s_data/output/scenario4_gt/OG fusion/fusion_image/58.png\n",
            "/content/drive/MyDrive/s_data/output/scenario4_gt/OG fusion/mass_function/58.npy\n",
            "/content/drive/MyDrive/s_data/output/scenario4_gt/OG fusion/conflict/58.npy\n",
            "/content/drive/MyDrive/s_data/output/scenario4_gt/OG fusion/fusion_image/59.png\n",
            "/content/drive/MyDrive/s_data/output/scenario4_gt/OG fusion/mass_function/59.npy\n",
            "/content/drive/MyDrive/s_data/output/scenario4_gt/OG fusion/conflict/59.npy\n",
            "/content/drive/MyDrive/s_data/output/scenario4_gt/OG fusion/fusion_image/60.png\n",
            "/content/drive/MyDrive/s_data/output/scenario4_gt/OG fusion/mass_function/60.npy\n",
            "/content/drive/MyDrive/s_data/output/scenario4_gt/OG fusion/conflict/60.npy\n",
            "/content/drive/MyDrive/s_data/output/scenario4_gt/OG fusion/fusion_image/61.png\n",
            "/content/drive/MyDrive/s_data/output/scenario4_gt/OG fusion/mass_function/61.npy\n",
            "/content/drive/MyDrive/s_data/output/scenario4_gt/OG fusion/conflict/61.npy\n",
            "/content/drive/MyDrive/s_data/output/scenario4_gt/OG fusion/fusion_image/62.png\n",
            "/content/drive/MyDrive/s_data/output/scenario4_gt/OG fusion/mass_function/62.npy\n",
            "/content/drive/MyDrive/s_data/output/scenario4_gt/OG fusion/conflict/62.npy\n",
            "/content/drive/MyDrive/s_data/output/scenario4_gt/OG fusion/fusion_image/63.png\n",
            "/content/drive/MyDrive/s_data/output/scenario4_gt/OG fusion/mass_function/63.npy\n",
            "/content/drive/MyDrive/s_data/output/scenario4_gt/OG fusion/conflict/63.npy\n",
            "/content/drive/MyDrive/s_data/output/scenario4_gt/OG fusion/fusion_image/64.png\n",
            "/content/drive/MyDrive/s_data/output/scenario4_gt/OG fusion/mass_function/64.npy\n",
            "/content/drive/MyDrive/s_data/output/scenario4_gt/OG fusion/conflict/64.npy\n",
            "/content/drive/MyDrive/s_data/output/scenario4_gt/OG fusion/fusion_image/65.png\n",
            "/content/drive/MyDrive/s_data/output/scenario4_gt/OG fusion/mass_function/65.npy\n",
            "/content/drive/MyDrive/s_data/output/scenario4_gt/OG fusion/conflict/65.npy\n",
            "/content/drive/MyDrive/s_data/output/scenario4_gt/OG fusion/fusion_image/66.png\n",
            "/content/drive/MyDrive/s_data/output/scenario4_gt/OG fusion/mass_function/66.npy\n",
            "/content/drive/MyDrive/s_data/output/scenario4_gt/OG fusion/conflict/66.npy\n",
            "/content/drive/MyDrive/s_data/output/scenario4_gt/OG fusion/fusion_image/67.png\n",
            "/content/drive/MyDrive/s_data/output/scenario4_gt/OG fusion/mass_function/67.npy\n",
            "/content/drive/MyDrive/s_data/output/scenario4_gt/OG fusion/conflict/67.npy\n",
            "/content/drive/MyDrive/s_data/output/scenario4_gt/OG fusion/fusion_image/68.png\n",
            "/content/drive/MyDrive/s_data/output/scenario4_gt/OG fusion/mass_function/68.npy\n",
            "/content/drive/MyDrive/s_data/output/scenario4_gt/OG fusion/conflict/68.npy\n",
            "/content/drive/MyDrive/s_data/output/scenario4_gt/OG fusion/fusion_image/69.png\n",
            "/content/drive/MyDrive/s_data/output/scenario4_gt/OG fusion/mass_function/69.npy\n",
            "/content/drive/MyDrive/s_data/output/scenario4_gt/OG fusion/conflict/69.npy\n",
            "/content/drive/MyDrive/s_data/output/scenario4_gt/OG fusion/fusion_image/70.png\n",
            "/content/drive/MyDrive/s_data/output/scenario4_gt/OG fusion/mass_function/70.npy\n",
            "/content/drive/MyDrive/s_data/output/scenario4_gt/OG fusion/conflict/70.npy\n",
            "/content/drive/MyDrive/s_data/output/scenario4_gt/OG fusion/fusion_image/71.png\n",
            "/content/drive/MyDrive/s_data/output/scenario4_gt/OG fusion/mass_function/71.npy\n",
            "/content/drive/MyDrive/s_data/output/scenario4_gt/OG fusion/conflict/71.npy\n",
            "/content/drive/MyDrive/s_data/output/scenario4_gt/OG fusion/fusion_image/72.png\n",
            "/content/drive/MyDrive/s_data/output/scenario4_gt/OG fusion/mass_function/72.npy\n",
            "/content/drive/MyDrive/s_data/output/scenario4_gt/OG fusion/conflict/72.npy\n",
            "/content/drive/MyDrive/s_data/output/scenario4_gt/OG fusion/fusion_image/73.png\n",
            "/content/drive/MyDrive/s_data/output/scenario4_gt/OG fusion/mass_function/73.npy\n",
            "/content/drive/MyDrive/s_data/output/scenario4_gt/OG fusion/conflict/73.npy\n",
            "/content/drive/MyDrive/s_data/output/scenario4_gt/OG fusion/fusion_image/74.png\n",
            "/content/drive/MyDrive/s_data/output/scenario4_gt/OG fusion/mass_function/74.npy\n",
            "/content/drive/MyDrive/s_data/output/scenario4_gt/OG fusion/conflict/74.npy\n",
            "/content/drive/MyDrive/s_data/output/scenario4_gt/OG fusion/fusion_image/75.png\n",
            "/content/drive/MyDrive/s_data/output/scenario4_gt/OG fusion/mass_function/75.npy\n",
            "/content/drive/MyDrive/s_data/output/scenario4_gt/OG fusion/conflict/75.npy\n",
            "/content/drive/MyDrive/s_data/output/scenario4_gt/OG fusion/fusion_image/76.png\n",
            "/content/drive/MyDrive/s_data/output/scenario4_gt/OG fusion/mass_function/76.npy\n",
            "/content/drive/MyDrive/s_data/output/scenario4_gt/OG fusion/conflict/76.npy\n",
            "/content/drive/MyDrive/s_data/output/scenario4_gt/OG fusion/fusion_image/77.png\n",
            "/content/drive/MyDrive/s_data/output/scenario4_gt/OG fusion/mass_function/77.npy\n",
            "/content/drive/MyDrive/s_data/output/scenario4_gt/OG fusion/conflict/77.npy\n",
            "/content/drive/MyDrive/s_data/output/scenario4_gt/OG fusion/fusion_image/78.png\n",
            "/content/drive/MyDrive/s_data/output/scenario4_gt/OG fusion/mass_function/78.npy\n",
            "/content/drive/MyDrive/s_data/output/scenario4_gt/OG fusion/conflict/78.npy\n",
            "/content/drive/MyDrive/s_data/output/scenario4_gt/OG fusion/fusion_image/79.png\n",
            "/content/drive/MyDrive/s_data/output/scenario4_gt/OG fusion/mass_function/79.npy\n",
            "/content/drive/MyDrive/s_data/output/scenario4_gt/OG fusion/conflict/79.npy\n",
            "/content/drive/MyDrive/s_data/output/scenario4_gt/OG fusion/fusion_image/80.png\n",
            "/content/drive/MyDrive/s_data/output/scenario4_gt/OG fusion/mass_function/80.npy\n",
            "/content/drive/MyDrive/s_data/output/scenario4_gt/OG fusion/conflict/80.npy\n",
            "/content/drive/MyDrive/s_data/output/scenario4_gt/OG fusion/fusion_image/81.png\n",
            "/content/drive/MyDrive/s_data/output/scenario4_gt/OG fusion/mass_function/81.npy\n",
            "/content/drive/MyDrive/s_data/output/scenario4_gt/OG fusion/conflict/81.npy\n",
            "/content/drive/MyDrive/s_data/output/scenario4_gt/OG fusion/fusion_image/82.png\n",
            "/content/drive/MyDrive/s_data/output/scenario4_gt/OG fusion/mass_function/82.npy\n",
            "/content/drive/MyDrive/s_data/output/scenario4_gt/OG fusion/conflict/82.npy\n",
            "/content/drive/MyDrive/s_data/output/scenario4_gt/OG fusion/fusion_image/83.png\n",
            "/content/drive/MyDrive/s_data/output/scenario4_gt/OG fusion/mass_function/83.npy\n",
            "/content/drive/MyDrive/s_data/output/scenario4_gt/OG fusion/conflict/83.npy\n",
            "/content/drive/MyDrive/s_data/output/scenario4_gt/OG fusion/fusion_image/84.png\n",
            "/content/drive/MyDrive/s_data/output/scenario4_gt/OG fusion/mass_function/84.npy\n",
            "/content/drive/MyDrive/s_data/output/scenario4_gt/OG fusion/conflict/84.npy\n",
            "/content/drive/MyDrive/s_data/output/scenario4_gt/OG fusion/fusion_image/85.png\n",
            "/content/drive/MyDrive/s_data/output/scenario4_gt/OG fusion/mass_function/85.npy\n",
            "/content/drive/MyDrive/s_data/output/scenario4_gt/OG fusion/conflict/85.npy\n",
            "/content/drive/MyDrive/s_data/output/scenario4_gt/OG fusion/fusion_image/86.png\n",
            "/content/drive/MyDrive/s_data/output/scenario4_gt/OG fusion/mass_function/86.npy\n",
            "/content/drive/MyDrive/s_data/output/scenario4_gt/OG fusion/conflict/86.npy\n",
            "/content/drive/MyDrive/s_data/output/scenario4_gt/OG fusion/fusion_image/87.png\n",
            "/content/drive/MyDrive/s_data/output/scenario4_gt/OG fusion/mass_function/87.npy\n",
            "/content/drive/MyDrive/s_data/output/scenario4_gt/OG fusion/conflict/87.npy\n",
            "/content/drive/MyDrive/s_data/output/scenario4_gt/OG fusion/fusion_image/88.png\n",
            "/content/drive/MyDrive/s_data/output/scenario4_gt/OG fusion/mass_function/88.npy\n",
            "/content/drive/MyDrive/s_data/output/scenario4_gt/OG fusion/conflict/88.npy\n"
          ]
        }
      ]
    }
  ],
  "metadata": {
    "colab": {
      "provenance": [],
      "include_colab_link": true
    },
    "kernelspec": {
      "display_name": "Python 3.8.10 ('.env': venv)",
      "language": "python",
      "name": "python3"
    },
    "language_info": {
      "name": "python",
      "version": "3.8.10"
    },
    "vscode": {
      "interpreter": {
        "hash": "4147159148f2331f27fc35f83760ac3303b0eb37178f521715f234bfc6af8027"
      }
    }
  },
  "nbformat": 4,
  "nbformat_minor": 0
}